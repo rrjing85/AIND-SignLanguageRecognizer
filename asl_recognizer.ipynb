{
 "cells": [
  {
   "cell_type": "markdown",
   "metadata": {
    "collapsed": true,
    "deletable": true,
    "editable": true
<<<<<<< HEAD
=======
=======
<<<<<<< HEAD
    "collapsed": true,
    "deletable": true,
    "editable": true
=======
    "collapsed": true
>>>>>>> a787ccfe89997bb7396bf29ed95a3090da712e13
>>>>>>> e8e4bd3aa2580fad74803250b1c6bbfd1c9db313
>>>>>>> 323a24dbdb4e1d6bd819926a1baab17f95ae76b8
   },
   "source": [
    "# Artificial Intelligence Engineer Nanodegree - Probabilistic Models\n",
    "## Project: Sign Language Recognition System\n",
    "- [Introduction](#intro)\n",
    "- [Part 1 Feature Selection](#part1_tutorial)\n",
    "    - [Tutorial](#part1_tutorial)\n",
    "    - [Features Submission](#part1_submission)\n",
    "    - [Features Unittest](#part1_test)\n",
    "- [Part 2 Train the models](#part2_tutorial)\n",
    "    - [Tutorial](#part2_tutorial)\n",
    "    - [Model Selection Score Submission](#part2_submission)\n",
    "    - [Model Score Unittest](#part2_test)\n",
    "- [Part 3 Build a Recognizer](#part3_tutorial)\n",
    "    - [Tutorial](#part3_tutorial)\n",
    "    - [Recognizer Submission](#part3_submission)\n",
    "    - [Recognizer Unittest](#part3_test)\n",
    "- [Part 4 (OPTIONAL) Improve the WER with Language Models](#part4_info)"
   ]
  },
  {
   "cell_type": "markdown",
<<<<<<< HEAD
=======
<<<<<<< HEAD
=======
<<<<<<< HEAD
>>>>>>> e8e4bd3aa2580fad74803250b1c6bbfd1c9db313
>>>>>>> 323a24dbdb4e1d6bd819926a1baab17f95ae76b8
   "metadata": {
    "deletable": true,
    "editable": true
   },
<<<<<<< HEAD
=======
<<<<<<< HEAD
=======
=======
   "metadata": {},
>>>>>>> a787ccfe89997bb7396bf29ed95a3090da712e13
>>>>>>> e8e4bd3aa2580fad74803250b1c6bbfd1c9db313
>>>>>>> 323a24dbdb4e1d6bd819926a1baab17f95ae76b8
   "source": [
    "<a id='intro'></a>\n",
    "## Introduction\n",
    "The overall goal of this project is to build a word recognizer for American Sign Language video sequences, demonstrating the power of probabalistic models.  In particular, this project employs  [hidden Markov models (HMM's)](https://en.wikipedia.org/wiki/Hidden_Markov_model) to analyze a series of measurements taken from videos of American Sign Language (ASL) collected for research (see the [RWTH-BOSTON-104 Database](http://www-i6.informatik.rwth-aachen.de/~dreuw/database-rwth-boston-104.php)).  In this video, the right-hand x and y locations are plotted as the speaker signs the sentence.\n",
    "[![ASLR demo](http://www-i6.informatik.rwth-aachen.de/~dreuw/images/demosample.png)](https://drive.google.com/open?id=0B_5qGuFe-wbhUXRuVnNZVnMtam8)\n",
    "\n",
    "The raw data, train, and test sets are pre-defined.  You will derive a variety of feature sets (explored in Part 1), as well as implement three different model selection criterion to determine the optimal number of hidden states for each word model (explored in Part 2). Finally, in Part 3 you will implement the recognizer and compare the effects the different combinations of feature sets and model selection criteria.  \n",
    "\n",
    "At the end of each Part, complete the submission cells with implementations, answer all questions, and pass the unit tests.  Then submit the completed notebook for review!"
   ]
  },
  {
   "cell_type": "markdown",
<<<<<<< HEAD
=======
<<<<<<< HEAD
=======
<<<<<<< HEAD
>>>>>>> e8e4bd3aa2580fad74803250b1c6bbfd1c9db313
>>>>>>> 323a24dbdb4e1d6bd819926a1baab17f95ae76b8
   "metadata": {
    "deletable": true,
    "editable": true
   },
<<<<<<< HEAD
=======
<<<<<<< HEAD
=======
=======
   "metadata": {},
>>>>>>> a787ccfe89997bb7396bf29ed95a3090da712e13
>>>>>>> e8e4bd3aa2580fad74803250b1c6bbfd1c9db313
>>>>>>> 323a24dbdb4e1d6bd819926a1baab17f95ae76b8
   "source": [
    "<a id='part1_tutorial'></a>\n",
    "## PART 1: Data\n",
    "\n",
    "### Features Tutorial\n",
    "##### Load the initial database\n",
    "A data handler designed for this database is provided in the student codebase as the `AslDb` class in the `asl_data` module.  This handler creates the initial [pandas](http://pandas.pydata.org/pandas-docs/stable/) dataframe from the corpus of data included in the `data` directory as well as dictionaries suitable for extracting data in a format friendly to the [hmmlearn](https://hmmlearn.readthedocs.io/en/latest/) library.  We'll use those to create models in Part 2.\n",
    "\n",
    "To start, let's set up the initial database and select an example set of features for the training set.  At the end of Part 1, you will create additional feature sets for experimentation. "
   ]
  },
  {
   "cell_type": "code",
<<<<<<< HEAD
   "execution_count": 5,
=======
<<<<<<< HEAD
=======
<<<<<<< HEAD
>>>>>>> e8e4bd3aa2580fad74803250b1c6bbfd1c9db313
   "execution_count": 1,
>>>>>>> 323a24dbdb4e1d6bd819926a1baab17f95ae76b8
   "metadata": {
    "collapsed": false,
    "deletable": true,
    "editable": true
   },
   "outputs": [
    {
     "data": {
      "text/html": [
       "<div>\n",
       "<table border=\"1\" class=\"dataframe\">\n",
       "  <thead>\n",
       "    <tr style=\"text-align: right;\">\n",
       "      <th></th>\n",
       "      <th></th>\n",
       "      <th>left-x</th>\n",
       "      <th>left-y</th>\n",
       "      <th>right-x</th>\n",
       "      <th>right-y</th>\n",
       "      <th>nose-x</th>\n",
       "      <th>nose-y</th>\n",
       "      <th>speaker</th>\n",
       "    </tr>\n",
       "    <tr>\n",
       "      <th>video</th>\n",
       "      <th>frame</th>\n",
       "      <th></th>\n",
       "      <th></th>\n",
       "      <th></th>\n",
       "      <th></th>\n",
       "      <th></th>\n",
       "      <th></th>\n",
       "      <th></th>\n",
       "    </tr>\n",
       "  </thead>\n",
       "  <tbody>\n",
       "    <tr>\n",
       "      <th rowspan=\"5\" valign=\"top\">98</th>\n",
       "      <th>0</th>\n",
       "      <td>149</td>\n",
       "      <td>181</td>\n",
       "      <td>170</td>\n",
       "      <td>175</td>\n",
       "      <td>161</td>\n",
       "      <td>62</td>\n",
       "      <td>woman-1</td>\n",
       "    </tr>\n",
       "    <tr>\n",
       "      <th>1</th>\n",
       "      <td>149</td>\n",
       "      <td>181</td>\n",
       "      <td>170</td>\n",
       "      <td>175</td>\n",
       "      <td>161</td>\n",
       "      <td>62</td>\n",
       "      <td>woman-1</td>\n",
       "    </tr>\n",
       "    <tr>\n",
       "      <th>2</th>\n",
       "      <td>149</td>\n",
       "      <td>181</td>\n",
       "      <td>170</td>\n",
       "      <td>175</td>\n",
       "      <td>161</td>\n",
       "      <td>62</td>\n",
       "      <td>woman-1</td>\n",
       "    </tr>\n",
       "    <tr>\n",
       "      <th>3</th>\n",
       "      <td>149</td>\n",
       "      <td>181</td>\n",
       "      <td>170</td>\n",
       "      <td>175</td>\n",
       "      <td>161</td>\n",
       "      <td>62</td>\n",
       "      <td>woman-1</td>\n",
       "    </tr>\n",
       "    <tr>\n",
       "      <th>4</th>\n",
       "      <td>149</td>\n",
       "      <td>181</td>\n",
       "      <td>170</td>\n",
       "      <td>175</td>\n",
       "      <td>161</td>\n",
       "      <td>62</td>\n",
       "      <td>woman-1</td>\n",
       "    </tr>\n",
       "  </tbody>\n",
       "</table>\n",
       "</div>"
      ],
      "text/plain": [
       "             left-x  left-y  right-x  right-y  nose-x  nose-y  speaker\n",
       "video frame                                                           \n",
       "98    0         149     181      170      175     161      62  woman-1\n",
       "      1         149     181      170      175     161      62  woman-1\n",
       "      2         149     181      170      175     161      62  woman-1\n",
       "      3         149     181      170      175     161      62  woman-1\n",
       "      4         149     181      170      175     161      62  woman-1"
      ]
     },
     "execution_count": 5,
     "metadata": {},
     "output_type": "execute_result"
    }
   ],
<<<<<<< HEAD
=======
<<<<<<< HEAD
=======
=======
   "execution_count": null,
   "metadata": {
    "collapsed": false
   },
   "outputs": [],
>>>>>>> a787ccfe89997bb7396bf29ed95a3090da712e13
>>>>>>> e8e4bd3aa2580fad74803250b1c6bbfd1c9db313
>>>>>>> 323a24dbdb4e1d6bd819926a1baab17f95ae76b8
   "source": [
    "import numpy as np\n",
    "import pandas as pd\n",
    "from asl_data import AslDb\n",
    "\n",
    "\n",
    "asl = AslDb() # initializes the database\n",
    "asl.df.head() # displays the first five rows of the asl database, indexed by video and frame"
   ]
  },
  {
   "cell_type": "code",
<<<<<<< HEAD
   "execution_count": 6,
=======
<<<<<<< HEAD
=======
<<<<<<< HEAD
>>>>>>> e8e4bd3aa2580fad74803250b1c6bbfd1c9db313
   "execution_count": 2,
>>>>>>> 323a24dbdb4e1d6bd819926a1baab17f95ae76b8
   "metadata": {
    "collapsed": false,
    "deletable": true,
    "editable": true
   },
   "outputs": [
    {
     "data": {
      "text/plain": [
       "left-x         149\n",
       "left-y         181\n",
       "right-x        170\n",
       "right-y        175\n",
       "nose-x         161\n",
       "nose-y          62\n",
       "speaker    woman-1\n",
       "Name: (98, 1), dtype: object"
      ]
     },
     "execution_count": 6,
     "metadata": {},
     "output_type": "execute_result"
    }
   ],
<<<<<<< HEAD
=======
<<<<<<< HEAD
=======
=======
   "execution_count": null,
   "metadata": {
    "collapsed": false
   },
   "outputs": [],
>>>>>>> a787ccfe89997bb7396bf29ed95a3090da712e13
>>>>>>> e8e4bd3aa2580fad74803250b1c6bbfd1c9db313
>>>>>>> 323a24dbdb4e1d6bd819926a1baab17f95ae76b8
   "source": [
    "asl.df.ix[98,1]  # look at the data available for an individual frame"
   ]
  },
  {
   "cell_type": "markdown",
<<<<<<< HEAD
=======
<<<<<<< HEAD
=======
<<<<<<< HEAD
>>>>>>> e8e4bd3aa2580fad74803250b1c6bbfd1c9db313
>>>>>>> 323a24dbdb4e1d6bd819926a1baab17f95ae76b8
   "metadata": {
    "deletable": true,
    "editable": true
   },
<<<<<<< HEAD
=======
<<<<<<< HEAD
=======
=======
   "metadata": {},
>>>>>>> a787ccfe89997bb7396bf29ed95a3090da712e13
>>>>>>> e8e4bd3aa2580fad74803250b1c6bbfd1c9db313
>>>>>>> 323a24dbdb4e1d6bd819926a1baab17f95ae76b8
   "source": [
    "The frame represented by video 98, frame 1 is shown here:\n",
    "![Video 98](http://www-i6.informatik.rwth-aachen.de/~dreuw/database/rwth-boston-104/overview/images/orig/098-start.jpg)"
   ]
  },
  {
   "cell_type": "markdown",
<<<<<<< HEAD
=======
<<<<<<< HEAD
=======
<<<<<<< HEAD
>>>>>>> e8e4bd3aa2580fad74803250b1c6bbfd1c9db313
>>>>>>> 323a24dbdb4e1d6bd819926a1baab17f95ae76b8
   "metadata": {
    "deletable": true,
    "editable": true
   },
<<<<<<< HEAD
=======
<<<<<<< HEAD
=======
=======
   "metadata": {},
>>>>>>> a787ccfe89997bb7396bf29ed95a3090da712e13
>>>>>>> e8e4bd3aa2580fad74803250b1c6bbfd1c9db313
>>>>>>> 323a24dbdb4e1d6bd819926a1baab17f95ae76b8
   "source": [
    "##### Feature selection for training the model\n",
    "The objective of feature selection when training a model is to choose the most relevant variables while keeping the model as simple as possible, thus reducing training time.  We can use the raw features already provided or derive our own and add columns to the pandas dataframe `asl.df` for selection. As an example, in the next cell a feature named `'grnd-ry'` is added. This feature is the difference between the right-hand y value and the nose y value, which serves as the \"ground\" right y value. "
   ]
  },
  {
   "cell_type": "code",
<<<<<<< HEAD
   "execution_count": 7,
=======
<<<<<<< HEAD
=======
<<<<<<< HEAD
>>>>>>> e8e4bd3aa2580fad74803250b1c6bbfd1c9db313
   "execution_count": 3,
>>>>>>> 323a24dbdb4e1d6bd819926a1baab17f95ae76b8
   "metadata": {
    "collapsed": false,
    "deletable": true,
    "editable": true
   },
   "outputs": [
    {
     "data": {
      "text/html": [
       "<div>\n",
       "<table border=\"1\" class=\"dataframe\">\n",
       "  <thead>\n",
       "    <tr style=\"text-align: right;\">\n",
       "      <th></th>\n",
       "      <th></th>\n",
       "      <th>left-x</th>\n",
       "      <th>left-y</th>\n",
       "      <th>right-x</th>\n",
       "      <th>right-y</th>\n",
       "      <th>nose-x</th>\n",
       "      <th>nose-y</th>\n",
       "      <th>speaker</th>\n",
       "      <th>grnd-ry</th>\n",
       "    </tr>\n",
       "    <tr>\n",
       "      <th>video</th>\n",
       "      <th>frame</th>\n",
       "      <th></th>\n",
       "      <th></th>\n",
       "      <th></th>\n",
       "      <th></th>\n",
       "      <th></th>\n",
       "      <th></th>\n",
       "      <th></th>\n",
       "      <th></th>\n",
       "    </tr>\n",
       "  </thead>\n",
       "  <tbody>\n",
       "    <tr>\n",
       "      <th rowspan=\"5\" valign=\"top\">98</th>\n",
       "      <th>0</th>\n",
       "      <td>149</td>\n",
       "      <td>181</td>\n",
       "      <td>170</td>\n",
       "      <td>175</td>\n",
       "      <td>161</td>\n",
       "      <td>62</td>\n",
       "      <td>woman-1</td>\n",
       "      <td>113</td>\n",
       "    </tr>\n",
       "    <tr>\n",
       "      <th>1</th>\n",
       "      <td>149</td>\n",
       "      <td>181</td>\n",
       "      <td>170</td>\n",
       "      <td>175</td>\n",
       "      <td>161</td>\n",
       "      <td>62</td>\n",
       "      <td>woman-1</td>\n",
       "      <td>113</td>\n",
       "    </tr>\n",
       "    <tr>\n",
       "      <th>2</th>\n",
       "      <td>149</td>\n",
       "      <td>181</td>\n",
       "      <td>170</td>\n",
       "      <td>175</td>\n",
       "      <td>161</td>\n",
       "      <td>62</td>\n",
       "      <td>woman-1</td>\n",
       "      <td>113</td>\n",
       "    </tr>\n",
       "    <tr>\n",
       "      <th>3</th>\n",
       "      <td>149</td>\n",
       "      <td>181</td>\n",
       "      <td>170</td>\n",
       "      <td>175</td>\n",
       "      <td>161</td>\n",
       "      <td>62</td>\n",
       "      <td>woman-1</td>\n",
       "      <td>113</td>\n",
       "    </tr>\n",
       "    <tr>\n",
       "      <th>4</th>\n",
       "      <td>149</td>\n",
       "      <td>181</td>\n",
       "      <td>170</td>\n",
       "      <td>175</td>\n",
       "      <td>161</td>\n",
       "      <td>62</td>\n",
       "      <td>woman-1</td>\n",
       "      <td>113</td>\n",
       "    </tr>\n",
       "  </tbody>\n",
       "</table>\n",
       "</div>"
      ],
      "text/plain": [
       "             left-x  left-y  right-x  right-y  nose-x  nose-y  speaker  \\\n",
       "video frame                                                              \n",
       "98    0         149     181      170      175     161      62  woman-1   \n",
       "      1         149     181      170      175     161      62  woman-1   \n",
       "      2         149     181      170      175     161      62  woman-1   \n",
       "      3         149     181      170      175     161      62  woman-1   \n",
       "      4         149     181      170      175     161      62  woman-1   \n",
       "\n",
       "             grnd-ry  \n",
       "video frame           \n",
       "98    0          113  \n",
       "      1          113  \n",
       "      2          113  \n",
       "      3          113  \n",
       "      4          113  "
      ]
     },
     "execution_count": 7,
     "metadata": {},
     "output_type": "execute_result"
    }
   ],
<<<<<<< HEAD
=======
<<<<<<< HEAD
=======
=======
   "execution_count": null,
   "metadata": {
    "collapsed": false
   },
   "outputs": [],
>>>>>>> a787ccfe89997bb7396bf29ed95a3090da712e13
>>>>>>> e8e4bd3aa2580fad74803250b1c6bbfd1c9db313
>>>>>>> 323a24dbdb4e1d6bd819926a1baab17f95ae76b8
   "source": [
    "asl.df['grnd-ry'] = asl.df['right-y'] - asl.df['nose-y']\n",
    "asl.df.head()  # the new feature 'grnd-ry' is now in the frames dictionary"
   ]
  },
  {
   "cell_type": "markdown",
<<<<<<< HEAD
=======
<<<<<<< HEAD
=======
<<<<<<< HEAD
>>>>>>> e8e4bd3aa2580fad74803250b1c6bbfd1c9db313
>>>>>>> 323a24dbdb4e1d6bd819926a1baab17f95ae76b8
   "metadata": {
    "deletable": true,
    "editable": true
   },
<<<<<<< HEAD
=======
<<<<<<< HEAD
=======
=======
   "metadata": {},
>>>>>>> a787ccfe89997bb7396bf29ed95a3090da712e13
>>>>>>> e8e4bd3aa2580fad74803250b1c6bbfd1c9db313
>>>>>>> 323a24dbdb4e1d6bd819926a1baab17f95ae76b8
   "source": [
    "##### Try it!"
   ]
  },
  {
   "cell_type": "code",
<<<<<<< HEAD
   "execution_count": 8,
=======
<<<<<<< HEAD
   "execution_count": 4,
=======
<<<<<<< HEAD
   "execution_count": 7,
>>>>>>> e8e4bd3aa2580fad74803250b1c6bbfd1c9db313
>>>>>>> 323a24dbdb4e1d6bd819926a1baab17f95ae76b8
   "metadata": {
    "collapsed": false,
    "deletable": true,
    "editable": true
   },
   "outputs": [
    {
     "name": "stdout",
     "output_type": "stream",
     "text": [
      "asl.df sample\n"
     ]
    },
    {
     "data": {
      "text/html": [
       "<div>\n",
       "<table border=\"1\" class=\"dataframe\">\n",
       "  <thead>\n",
       "    <tr style=\"text-align: right;\">\n",
       "      <th></th>\n",
       "      <th></th>\n",
       "      <th>left-x</th>\n",
       "      <th>left-y</th>\n",
       "      <th>right-x</th>\n",
       "      <th>right-y</th>\n",
       "      <th>nose-x</th>\n",
       "      <th>nose-y</th>\n",
       "      <th>speaker</th>\n",
       "      <th>grnd-ry</th>\n",
       "      <th>grnd-rx</th>\n",
       "      <th>grnd-ly</th>\n",
       "      <th>grnd-lx</th>\n",
       "    </tr>\n",
       "    <tr>\n",
       "      <th>video</th>\n",
       "      <th>frame</th>\n",
       "      <th></th>\n",
       "      <th></th>\n",
       "      <th></th>\n",
       "      <th></th>\n",
       "      <th></th>\n",
       "      <th></th>\n",
       "      <th></th>\n",
       "      <th></th>\n",
       "      <th></th>\n",
       "      <th></th>\n",
       "      <th></th>\n",
       "    </tr>\n",
       "  </thead>\n",
       "  <tbody>\n",
       "    <tr>\n",
       "      <th rowspan=\"5\" valign=\"top\">98</th>\n",
       "      <th>0</th>\n",
       "      <td>149</td>\n",
       "      <td>181</td>\n",
       "      <td>170</td>\n",
       "      <td>175</td>\n",
       "      <td>161</td>\n",
       "      <td>62</td>\n",
       "      <td>woman-1</td>\n",
       "      <td>113</td>\n",
       "      <td>9</td>\n",
       "      <td>119</td>\n",
       "      <td>-12</td>\n",
       "    </tr>\n",
       "    <tr>\n",
       "      <th>1</th>\n",
       "      <td>149</td>\n",
       "      <td>181</td>\n",
       "      <td>170</td>\n",
       "      <td>175</td>\n",
       "      <td>161</td>\n",
       "      <td>62</td>\n",
       "      <td>woman-1</td>\n",
       "      <td>113</td>\n",
       "      <td>9</td>\n",
       "      <td>119</td>\n",
       "      <td>-12</td>\n",
       "    </tr>\n",
       "    <tr>\n",
       "      <th>2</th>\n",
       "      <td>149</td>\n",
       "      <td>181</td>\n",
       "      <td>170</td>\n",
       "      <td>175</td>\n",
       "      <td>161</td>\n",
       "      <td>62</td>\n",
       "      <td>woman-1</td>\n",
       "      <td>113</td>\n",
       "      <td>9</td>\n",
       "      <td>119</td>\n",
       "      <td>-12</td>\n",
       "    </tr>\n",
       "    <tr>\n",
       "      <th>3</th>\n",
       "      <td>149</td>\n",
       "      <td>181</td>\n",
       "      <td>170</td>\n",
       "      <td>175</td>\n",
       "      <td>161</td>\n",
       "      <td>62</td>\n",
       "      <td>woman-1</td>\n",
       "      <td>113</td>\n",
       "      <td>9</td>\n",
       "      <td>119</td>\n",
       "      <td>-12</td>\n",
       "    </tr>\n",
       "    <tr>\n",
       "      <th>4</th>\n",
       "      <td>149</td>\n",
       "      <td>181</td>\n",
       "      <td>170</td>\n",
       "      <td>175</td>\n",
       "      <td>161</td>\n",
       "      <td>62</td>\n",
       "      <td>woman-1</td>\n",
       "      <td>113</td>\n",
       "      <td>9</td>\n",
       "      <td>119</td>\n",
       "      <td>-12</td>\n",
       "    </tr>\n",
       "  </tbody>\n",
       "</table>\n",
       "</div>"
      ],
      "text/plain": [
       "             left-x  left-y  right-x  right-y  nose-x  nose-y  speaker  \\\n",
       "video frame                                                              \n",
       "98    0         149     181      170      175     161      62  woman-1   \n",
       "      1         149     181      170      175     161      62  woman-1   \n",
       "      2         149     181      170      175     161      62  woman-1   \n",
       "      3         149     181      170      175     161      62  woman-1   \n",
       "      4         149     181      170      175     161      62  woman-1   \n",
       "\n",
       "             grnd-ry  grnd-rx  grnd-ly  grnd-lx  \n",
       "video frame                                      \n",
       "98    0          113        9      119      -12  \n",
       "      1          113        9      119      -12  \n",
       "      2          113        9      119      -12  \n",
       "      3          113        9      119      -12  \n",
       "      4          113        9      119      -12  "
      ]
     },
     "metadata": {},
     "output_type": "display_data"
    },
    {
     "data": {
      "text/html": [
       "<font color=green>Correct!</font><br/>"
      ],
      "text/plain": [
       "<IPython.core.display.HTML object>"
      ]
     },
<<<<<<< HEAD
     "execution_count": 8,
=======
<<<<<<< HEAD
     "execution_count": 4,
=======
     "execution_count": 7,
>>>>>>> e8e4bd3aa2580fad74803250b1c6bbfd1c9db313
>>>>>>> 323a24dbdb4e1d6bd819926a1baab17f95ae76b8
     "metadata": {},
     "output_type": "execute_result"
    }
   ],
   "source": [
    "from asl_utils import test_features_tryit\n",
    "# TODO add df columns for 'grnd-rx', 'grnd-ly', 'grnd-lx' representing differences between hand and nose locations\n",
    "asl.df['grnd-rx'] = asl.df['right-x'] - asl.df['nose-x']\n",
    "asl.df['grnd-ly'] = asl.df['left-y'] - asl.df['nose-y']\n",
    "asl.df['grnd-lx'] = asl.df['left-x'] - asl.df['nose-x']\n",
<<<<<<< HEAD
=======
<<<<<<< HEAD
=======
=======
   "execution_count": null,
   "metadata": {
    "collapsed": false
   },
   "outputs": [],
   "source": [
    "from asl_utils import test_features_tryit\n",
    "# TODO add df columns for 'grnd-rx', 'grnd-ly', 'grnd-lx' representing differences between hand and nose locations\n",
    "\n",
>>>>>>> a787ccfe89997bb7396bf29ed95a3090da712e13
>>>>>>> e8e4bd3aa2580fad74803250b1c6bbfd1c9db313
>>>>>>> 323a24dbdb4e1d6bd819926a1baab17f95ae76b8
    "# test the code\n",
    "test_features_tryit(asl)"
   ]
  },
  {
   "cell_type": "code",
<<<<<<< HEAD
   "execution_count": 9,
=======
<<<<<<< HEAD
   "execution_count": 5,
=======
<<<<<<< HEAD
   "execution_count": 8,
>>>>>>> e8e4bd3aa2580fad74803250b1c6bbfd1c9db313
>>>>>>> 323a24dbdb4e1d6bd819926a1baab17f95ae76b8
   "metadata": {
    "collapsed": false,
    "deletable": true,
    "editable": true
   },
   "outputs": [
    {
     "data": {
      "text/plain": [
       "[9, 113, -12, 119]"
      ]
     },
<<<<<<< HEAD
     "execution_count": 9,
=======
<<<<<<< HEAD
     "execution_count": 5,
=======
     "execution_count": 8,
>>>>>>> e8e4bd3aa2580fad74803250b1c6bbfd1c9db313
>>>>>>> 323a24dbdb4e1d6bd819926a1baab17f95ae76b8
     "metadata": {},
     "output_type": "execute_result"
    }
   ],
<<<<<<< HEAD
=======
<<<<<<< HEAD
=======
=======
   "execution_count": null,
   "metadata": {
    "collapsed": false
   },
   "outputs": [],
>>>>>>> a787ccfe89997bb7396bf29ed95a3090da712e13
>>>>>>> e8e4bd3aa2580fad74803250b1c6bbfd1c9db313
>>>>>>> 323a24dbdb4e1d6bd819926a1baab17f95ae76b8
   "source": [
    "# collect the features into a list\n",
    "features_ground = ['grnd-rx','grnd-ry','grnd-lx','grnd-ly']\n",
    " #show a single set of features for a given (video, frame) tuple\n",
<<<<<<< HEAD
    "[asl.df.ix[98,1][v] for v in features_ground]\n",
    "#[asl.df.ix[98,2][v] for v in features_ground]"
=======
<<<<<<< HEAD
    "[asl.df.ix[98,1][v] for v in features_ground]\n",
    "#[asl.df.ix[98,2][v] for v in features_ground]"
=======
    "[asl.df.ix[98,1][v] for v in features_ground]"
>>>>>>> e8e4bd3aa2580fad74803250b1c6bbfd1c9db313
>>>>>>> 323a24dbdb4e1d6bd819926a1baab17f95ae76b8
   ]
  },
  {
   "cell_type": "markdown",
<<<<<<< HEAD
=======
<<<<<<< HEAD
=======
<<<<<<< HEAD
>>>>>>> e8e4bd3aa2580fad74803250b1c6bbfd1c9db313
>>>>>>> 323a24dbdb4e1d6bd819926a1baab17f95ae76b8
   "metadata": {
    "deletable": true,
    "editable": true
   },
<<<<<<< HEAD
=======
<<<<<<< HEAD
=======
=======
   "metadata": {},
>>>>>>> a787ccfe89997bb7396bf29ed95a3090da712e13
>>>>>>> e8e4bd3aa2580fad74803250b1c6bbfd1c9db313
>>>>>>> 323a24dbdb4e1d6bd819926a1baab17f95ae76b8
   "source": [
    "##### Build the training set\n",
    "Now that we have a feature list defined, we can pass that list to the `build_training` method to collect the features for all the words in the training set.  Each word in the training set has multiple examples from various videos.  Below we can see the unique words that have been loaded into the training set:"
   ]
  },
  {
   "cell_type": "code",
<<<<<<< HEAD
   "execution_count": 10,
=======
<<<<<<< HEAD
   "execution_count": 6,
=======
<<<<<<< HEAD
   "execution_count": 9,
>>>>>>> e8e4bd3aa2580fad74803250b1c6bbfd1c9db313
>>>>>>> 323a24dbdb4e1d6bd819926a1baab17f95ae76b8
   "metadata": {
    "collapsed": false,
    "deletable": true,
    "editable": true
   },
   "outputs": [
    {
     "name": "stdout",
     "output_type": "stream",
     "text": [
<<<<<<< HEAD
      "Training words: ['FUTURE', 'PEOPLE', 'LEG', 'SUE', 'CORN1', 'YESTERDAY', 'LEAVE', 'GO1', 'BOX', 'PREFER', 'BLAME', 'WANT', 'BORROW', 'SHOOT', 'SEE', 'FUTURE1', 'JANA', 'NOT', 'CORN', 'GIVE1', 'IX', 'SAY', 'TEACHER', 'HOMEWORK', 'TOY', 'WONT', 'POSS', 'WHO', 'HERE', 'WRITE', 'FISH', 'GIVE', 'PUTASIDE', 'CHINA', 'MANY', 'FRED', 'THROW', 'KNOW', 'GIVE2', 'DECIDE', 'PAST', 'MOVIE', 'MOTHER', 'BREAK-DOWN', 'JOHN', 'CHOCOLATE', 'HOUSE', 'TOY1', 'NEW-YORK', 'BILL', 'LIKE', 'LAST-WEEK', 'CHICKEN', 'BLUE', 'STUDENT', 'STOLEN', 'SHOULD', 'NAME', 'WILL', 'FINISH', 'READ', 'BROTHER', 'MAN', 'BUT', 'ARRIVE', 'LIVE', 'GO', 'VEGETABLE', 'FRANK', 'WHAT', 'BUY1', 'PARTY', 'SEARCH-FOR', 'VISIT', 'NEW', 'THINK', 'GO2', 'SAY-1P', 'NEXT-WEEK', 'OLD', 'BROCCOLI', 'CAR', 'COAT', 'SELL', 'APPLE', 'HIT', 'IX-1P', 'GIVE3', 'CAN', 'VIDEOTAPE', 'LOVE', 'ALL', 'HAVE', 'FIND', 'TOMORROW', 'WOMAN', 'BOOK', 'TELL', 'CHICAGO', 'FRIEND', 'GET', 'SELF', 'CANDY', 'ANN', 'GIRL', 'MARY', 'EAT', 'BUY', 'GROUP', 'POTATO', 'BOY', 'SOMETHING-ONE']\n"
=======
<<<<<<< HEAD
      "Training words: ['HAVE', 'TOY1', 'LAST-WEEK', 'PARTY', 'NOT', 'STUDENT', 'SAY-1P', 'OLD', 'HOUSE', 'KNOW', 'READ', 'LEAVE', 'JOHN', 'JANA', 'GET', 'SELF', 'VISIT', 'SHOULD', 'NEW', 'BOY', 'BILL', 'BROTHER', 'FRED', 'VIDEOTAPE', 'CORN1', 'THROW', 'LEG', 'SOMETHING-ONE', 'BUY1', 'ALL', 'ANN', 'FRIEND', 'WRITE', 'SEARCH-FOR', 'MOVIE', 'FINISH', 'BUY', 'LIKE', 'CORN', 'WILL', 'GIVE', 'FUTURE', 'FIND', 'APPLE', 'LOVE', 'BOOK', 'GIRL', 'FISH', 'WHAT', 'BUT', 'SEE', 'HIT', 'TELL', 'PUTASIDE', 'HERE', 'TEACHER', 'GO2', 'NEXT-WEEK', 'CAR', 'BROCCOLI', 'CHICKEN', 'ARRIVE', 'CHINA', 'SELL', 'WHO', 'COAT', 'GIVE1', 'CAN', 'FUTURE1', 'IX', 'BREAK-DOWN', 'GO1', 'GROUP', 'DECIDE', 'CHICAGO', 'FRANK', 'MAN', 'SAY', 'NEW-YORK', 'POTATO', 'SHOOT', 'GO', 'PREFER', 'YESTERDAY', 'MARY', 'WOMAN', 'IX-1P', 'NAME', 'LIVE', 'BLAME', 'WONT', 'CANDY', 'TOMORROW', 'POSS', 'BOX', 'BORROW', 'SUE', 'GIVE2', 'TOY', 'THINK', 'HOMEWORK', 'STOLEN', 'MOTHER', 'VEGETABLE', 'PAST', 'MANY', 'PEOPLE', 'WANT', 'CHOCOLATE', 'EAT', 'GIVE3', 'BLUE']\n"
     ]
    }
   ],
   "source": [
    "training = asl.build_training(features_ground)\n",
    "print(\"Training words: {}\".format(training.words))"
   ]
  },
  {
   "cell_type": "code",
   "execution_count": 7,
   "metadata": {
    "collapsed": false,
    "deletable": true,
    "editable": true
   },
   "outputs": [
    {
     "data": {
      "text/plain": [
       "(array([[-13,  15, -12, 130],\n",
       "        [-15,  14, -14, 129],\n",
       "        [-15,  13, -14, 128],\n",
       "        [-17,  13, -16, 128],\n",
       "        [-17,  14, -16, 129],\n",
       "        [-14,  14, -11, 129],\n",
       "        [-11,  16,  -8, 131],\n",
       "        [-16,  17, -11, 130],\n",
       "        [-16,  17, -11, 130],\n",
       "        [-16,  17, -11, 130],\n",
       "        [-16,  17, -11, 130],\n",
       "        [-18,  16, -13, 129],\n",
       "        [-18,  16, -13, 129],\n",
       "        [-18,  16, -13, 129],\n",
       "        [-18,  16, -13, 129],\n",
       "        [-18,  16, -13, 129],\n",
       "        [-25,  31,  42, 182],\n",
       "        [-30,  32,  42, 182],\n",
       "        [-30,  33,  42, 183],\n",
       "        [-24,  33,  42, 183],\n",
       "        [-14,  33,  46, 183],\n",
       "        [-18,  31,  46, 183],\n",
       "        [-13,  31,  51, 183],\n",
       "        [-11,  26,  54, 180],\n",
       "        [-15,  29,  54, 180],\n",
       "        [-11,  31,  58, 182],\n",
       "        [-32,  40,  43, 150],\n",
       "        [-35,  39,  40, 162],\n",
       "        [-35,  39,  39, 176],\n",
       "        [-24,  30,  39, 176],\n",
       "        [-24,  30,  39, 176],\n",
       "        [-24,  30,  39, 176],\n",
       "        [-24,  30,  39, 176],\n",
       "        [-24,  30,  39, 176],\n",
       "        [-26,  25,  37, 171],\n",
       "        [-17,  25,  39, 169],\n",
       "        [-18,  23,  38, 167],\n",
       "        [-27,  41,  41, 177],\n",
       "        [-23,  34,  41, 177],\n",
       "        [-23,  34,  41, 177],\n",
       "        [-23,  34,  37, 175],\n",
       "        [-23,  31,  37, 172],\n",
       "        [-23,  31,  37, 172],\n",
       "        [-23,  31,  37, 172],\n",
       "        [-23,  31,  37, 172],\n",
       "        [-24,  27,  36, 168],\n",
       "        [-18,  32,  37, 168],\n",
       "        [-18,  37,  36, 166]]), [5, 11, 10, 11, 11])"
      ]
     },
     "execution_count": 7,
     "metadata": {},
     "output_type": "execute_result"
    }
   ],
   "source": [
    "training.get_word_Xlengths('APPLE')"
=======
      "Training words: ['WANT', 'READ', 'NEW', 'HAVE', 'FIND', 'OLD', 'HOUSE', 'VISIT', 'IX-1P', 'BORROW', 'ANN', 'SHOOT', 'NAME', 'CAN', 'CORN1', 'APPLE', 'BOY', 'BLAME', 'WHO', 'PUTASIDE', 'SHOULD', 'SELL', 'MANY', 'MAN', 'NEW-YORK', 'IX', 'CAR', 'LOVE', 'GIVE3', 'FISH', 'GROUP', 'TOMORROW', 'POTATO', 'LIKE', 'STOLEN', 'CHOCOLATE', 'MOTHER', 'SUE', 'LAST-WEEK', 'ARRIVE', 'WHAT', 'MARY', 'WILL', 'ALL', 'TEACHER', 'PREFER', 'FINISH', 'GIRL', 'SAY-1P', 'GET', 'TOY1', 'BILL', 'JANA', 'THINK', 'TELL', 'KNOW', 'SELF', 'BUT', 'GIVE2', 'HIT', 'MOVIE', 'SOMETHING-ONE', 'JOHN', 'BOOK', 'BUY', 'HERE', 'GO2', 'SAY', 'TOY', 'WOMAN', 'GIVE', 'BLUE', 'BOX', 'HOMEWORK', 'CHICAGO', 'PARTY', 'WRITE', 'CORN', 'EAT', 'NEXT-WEEK', 'BUY1', 'FRIEND', 'YESTERDAY', 'VEGETABLE', 'CHICKEN', 'PAST', 'LIVE', 'LEG', 'GO1', 'COAT', 'CHINA', 'GIVE1', 'NOT', 'BROTHER', 'POSS', 'PEOPLE', 'VIDEOTAPE', 'LEAVE', 'GO', 'FUTURE', 'BROCCOLI', 'THROW', 'WONT', 'FUTURE1', 'FRANK', 'FRED', 'SEARCH-FOR', 'STUDENT', 'DECIDE', 'CANDY', 'SEE', 'BREAK-DOWN']\n"
>>>>>>> 323a24dbdb4e1d6bd819926a1baab17f95ae76b8
     ]
    }
   ],
   "source": [
    "training = asl.build_training(features_ground)\n",
    "print(\"Training words: {}\".format(training.words))"
>>>>>>> e8e4bd3aa2580fad74803250b1c6bbfd1c9db313
   ]
  },
  {
   "cell_type": "code",
   "execution_count": 11,
   "metadata": {
    "collapsed": false,
    "deletable": true,
    "editable": true
   },
   "outputs": [
    {
     "data": {
      "text/plain": [
       "(array([[-13,  15, -12, 130],\n",
       "        [-15,  14, -14, 129],\n",
       "        [-15,  13, -14, 128],\n",
       "        [-17,  13, -16, 128],\n",
       "        [-17,  14, -16, 129],\n",
       "        [-14,  14, -11, 129],\n",
       "        [-11,  16,  -8, 131],\n",
       "        [-16,  17, -11, 130],\n",
       "        [-16,  17, -11, 130],\n",
       "        [-16,  17, -11, 130],\n",
       "        [-16,  17, -11, 130],\n",
       "        [-18,  16, -13, 129],\n",
       "        [-18,  16, -13, 129],\n",
       "        [-18,  16, -13, 129],\n",
       "        [-18,  16, -13, 129],\n",
       "        [-18,  16, -13, 129],\n",
       "        [-25,  31,  42, 182],\n",
       "        [-30,  32,  42, 182],\n",
       "        [-30,  33,  42, 183],\n",
       "        [-24,  33,  42, 183],\n",
       "        [-14,  33,  46, 183],\n",
       "        [-18,  31,  46, 183],\n",
       "        [-13,  31,  51, 183],\n",
       "        [-11,  26,  54, 180],\n",
       "        [-15,  29,  54, 180],\n",
       "        [-11,  31,  58, 182],\n",
       "        [-32,  40,  43, 150],\n",
       "        [-35,  39,  40, 162],\n",
       "        [-35,  39,  39, 176],\n",
       "        [-24,  30,  39, 176],\n",
       "        [-24,  30,  39, 176],\n",
       "        [-24,  30,  39, 176],\n",
       "        [-24,  30,  39, 176],\n",
       "        [-24,  30,  39, 176],\n",
       "        [-26,  25,  37, 171],\n",
       "        [-17,  25,  39, 169],\n",
       "        [-18,  23,  38, 167],\n",
       "        [-27,  41,  41, 177],\n",
       "        [-23,  34,  41, 177],\n",
       "        [-23,  34,  41, 177],\n",
       "        [-23,  34,  37, 175],\n",
       "        [-23,  31,  37, 172],\n",
       "        [-23,  31,  37, 172],\n",
       "        [-23,  31,  37, 172],\n",
       "        [-23,  31,  37, 172],\n",
       "        [-24,  27,  36, 168],\n",
       "        [-18,  32,  37, 168],\n",
       "        [-18,  37,  36, 166]]), [5, 11, 10, 11, 11])"
      ]
     },
     "execution_count": 11,
     "metadata": {},
     "output_type": "execute_result"
    }
   ],
   "source": [
    "training.get_word_Xlengths('APPLE')"
   ]
  },
  {
   "cell_type": "markdown",
<<<<<<< HEAD
=======
<<<<<<< HEAD
=======
<<<<<<< HEAD
>>>>>>> e8e4bd3aa2580fad74803250b1c6bbfd1c9db313
>>>>>>> 323a24dbdb4e1d6bd819926a1baab17f95ae76b8
   "metadata": {
    "deletable": true,
    "editable": true
   },
<<<<<<< HEAD
=======
<<<<<<< HEAD
=======
=======
   "metadata": {},
>>>>>>> a787ccfe89997bb7396bf29ed95a3090da712e13
>>>>>>> e8e4bd3aa2580fad74803250b1c6bbfd1c9db313
>>>>>>> 323a24dbdb4e1d6bd819926a1baab17f95ae76b8
   "source": [
    "The training data in `training` is an object of class `WordsData` defined in the `asl_data` module.  in addition to the `words` list, data can be accessed with the `get_all_sequences`, `get_all_Xlengths`, `get_word_sequences`, and `get_word_Xlengths` methods. We need the `get_word_Xlengths` method to train multiple sequences with the `hmmlearn` library.  In the following example, notice that there are two lists; the first is a concatenation of all the sequences(the X portion) and the second is a list of the sequence lengths(the Lengths portion)."
   ]
  },
  {
   "cell_type": "code",
<<<<<<< HEAD
   "execution_count": 12,
=======
<<<<<<< HEAD
   "execution_count": 8,
=======
<<<<<<< HEAD
   "execution_count": 10,
>>>>>>> e8e4bd3aa2580fad74803250b1c6bbfd1c9db313
>>>>>>> 323a24dbdb4e1d6bd819926a1baab17f95ae76b8
   "metadata": {
    "collapsed": false,
    "deletable": true,
    "editable": true
   },
   "outputs": [
    {
     "data": {
      "text/plain": [
       "(array([[-11,  48,   7, 120],\n",
       "        [-11,  48,   8, 109],\n",
       "        [ -8,  49,  11,  98],\n",
       "        [ -7,  50,   7,  87],\n",
       "        [ -4,  54,   7,  77],\n",
       "        [ -4,  54,   6,  69],\n",
       "        [ -4,  54,   6,  69],\n",
       "        [-13,  52,   6,  69],\n",
       "        [-13,  52,   6,  69],\n",
       "        [ -8,  51,   6,  69],\n",
       "        [ -8,  51,   6,  69],\n",
       "        [ -8,  51,   6,  69],\n",
       "        [ -8,  51,   6,  69],\n",
       "        [ -8,  51,   6,  69],\n",
       "        [-10,  59,   7,  71],\n",
       "        [-15,  64,   9,  77],\n",
       "        [-17,  75,  13,  81],\n",
       "        [ -4,  48,  -4, 113],\n",
       "        [ -2,  53,  -4, 113],\n",
       "        [ -4,  55,   2,  98],\n",
       "        [ -4,  58,   2,  98],\n",
       "        [ -1,  59,   2,  89],\n",
       "        [ -1,  59,  -1,  84],\n",
       "        [ -1,  59,  -1,  84],\n",
       "        [ -7,  63,  -1,  84],\n",
       "        [ -7,  63,  -1,  84],\n",
       "        [ -7,  63,   3,  83],\n",
       "        [ -7,  63,   3,  83],\n",
       "        [ -7,  63,   3,  83],\n",
       "        [ -7,  63,   3,  83],\n",
       "        [ -7,  63,   3,  83],\n",
       "        [ -7,  63,   3,  83],\n",
       "        [ -7,  63,   3,  83],\n",
       "        [ -4,  70,   3,  83],\n",
       "        [ -4,  70,   3,  83],\n",
       "        [ -2,  73,   5,  90],\n",
       "        [ -3,  79,  -4,  96],\n",
       "        [-15,  98,  13, 135],\n",
       "        [ -6,  93,  12, 128],\n",
       "        [ -2,  89,  14, 118],\n",
       "        [  5,  90,  10, 108],\n",
       "        [  4,  86,   7, 105],\n",
       "        [  4,  86,   7, 105],\n",
       "        [  4,  86,  13, 100],\n",
       "        [ -3,  82,  14,  96],\n",
       "        [ -3,  82,  14,  96],\n",
       "        [  6,  89,  16, 100],\n",
       "        [  6,  89,  16, 100],\n",
       "        [  7,  85,  17, 111]]), [17, 20, 12])"
      ]
     },
<<<<<<< HEAD
     "execution_count": 12,
=======
<<<<<<< HEAD
     "execution_count": 8,
=======
     "execution_count": 10,
>>>>>>> e8e4bd3aa2580fad74803250b1c6bbfd1c9db313
>>>>>>> 323a24dbdb4e1d6bd819926a1baab17f95ae76b8
     "metadata": {},
     "output_type": "execute_result"
    }
   ],
<<<<<<< HEAD
=======
<<<<<<< HEAD
=======
=======
   "execution_count": null,
   "metadata": {
    "collapsed": false
   },
   "outputs": [],
>>>>>>> a787ccfe89997bb7396bf29ed95a3090da712e13
>>>>>>> e8e4bd3aa2580fad74803250b1c6bbfd1c9db313
>>>>>>> 323a24dbdb4e1d6bd819926a1baab17f95ae76b8
   "source": [
    "training.get_word_Xlengths('CHOCOLATE')"
   ]
  },
  {
   "cell_type": "markdown",
<<<<<<< HEAD
=======
<<<<<<< HEAD
=======
<<<<<<< HEAD
>>>>>>> e8e4bd3aa2580fad74803250b1c6bbfd1c9db313
>>>>>>> 323a24dbdb4e1d6bd819926a1baab17f95ae76b8
   "metadata": {
    "deletable": true,
    "editable": true
   },
<<<<<<< HEAD
=======
<<<<<<< HEAD
=======
=======
   "metadata": {},
>>>>>>> a787ccfe89997bb7396bf29ed95a3090da712e13
>>>>>>> e8e4bd3aa2580fad74803250b1c6bbfd1c9db313
>>>>>>> 323a24dbdb4e1d6bd819926a1baab17f95ae76b8
   "source": [
    "###### More feature sets\n",
    "So far we have a simple feature set that is enough to get started modeling.  However, we might get better results if we manipulate the raw values a bit more, so we will go ahead and set up some other options now for experimentation later.  For example, we could normalize each speaker's range of motion with grouped statistics using [Pandas stats](http://pandas.pydata.org/pandas-docs/stable/api.html#api-dataframe-stats) functions and [pandas groupby](http://pandas.pydata.org/pandas-docs/stable/generated/pandas.DataFrame.groupby.html).  Below is an example for finding the means of all speaker subgroups."
   ]
  },
  {
   "cell_type": "code",
<<<<<<< HEAD
   "execution_count": 13,
=======
<<<<<<< HEAD
   "execution_count": 9,
=======
<<<<<<< HEAD
   "execution_count": 11,
>>>>>>> e8e4bd3aa2580fad74803250b1c6bbfd1c9db313
>>>>>>> 323a24dbdb4e1d6bd819926a1baab17f95ae76b8
   "metadata": {
    "collapsed": false,
    "deletable": true,
    "editable": true,
    "scrolled": true
   },
   "outputs": [
    {
     "data": {
      "text/html": [
       "<div>\n",
       "<table border=\"1\" class=\"dataframe\">\n",
       "  <thead>\n",
       "    <tr style=\"text-align: right;\">\n",
       "      <th></th>\n",
       "      <th>left-x</th>\n",
       "      <th>left-y</th>\n",
       "      <th>right-x</th>\n",
       "      <th>right-y</th>\n",
       "      <th>nose-x</th>\n",
       "      <th>nose-y</th>\n",
       "      <th>grnd-ry</th>\n",
       "      <th>grnd-rx</th>\n",
       "      <th>grnd-ly</th>\n",
       "      <th>grnd-lx</th>\n",
       "    </tr>\n",
       "    <tr>\n",
       "      <th>speaker</th>\n",
       "      <th></th>\n",
       "      <th></th>\n",
       "      <th></th>\n",
       "      <th></th>\n",
       "      <th></th>\n",
       "      <th></th>\n",
       "      <th></th>\n",
       "      <th></th>\n",
       "      <th></th>\n",
       "      <th></th>\n",
       "    </tr>\n",
       "  </thead>\n",
       "  <tbody>\n",
       "    <tr>\n",
       "      <th>man-1</th>\n",
       "      <td>206.248203</td>\n",
       "      <td>218.679449</td>\n",
       "      <td>155.464350</td>\n",
       "      <td>150.371031</td>\n",
       "      <td>175.031756</td>\n",
       "      <td>61.642600</td>\n",
       "      <td>88.728430</td>\n",
       "      <td>-19.567406</td>\n",
       "      <td>157.036848</td>\n",
       "      <td>31.216447</td>\n",
       "    </tr>\n",
       "    <tr>\n",
       "      <th>woman-1</th>\n",
       "      <td>164.661438</td>\n",
       "      <td>161.271242</td>\n",
       "      <td>151.017865</td>\n",
       "      <td>117.332462</td>\n",
       "      <td>162.655120</td>\n",
       "      <td>57.245098</td>\n",
       "      <td>60.087364</td>\n",
       "      <td>-11.637255</td>\n",
       "      <td>104.026144</td>\n",
       "      <td>2.006318</td>\n",
       "    </tr>\n",
       "    <tr>\n",
       "      <th>woman-2</th>\n",
       "      <td>183.214509</td>\n",
       "      <td>176.527232</td>\n",
       "      <td>156.866295</td>\n",
       "      <td>119.835714</td>\n",
       "      <td>170.318973</td>\n",
       "      <td>58.022098</td>\n",
       "      <td>61.813616</td>\n",
       "      <td>-13.452679</td>\n",
       "      <td>118.505134</td>\n",
       "      <td>12.895536</td>\n",
       "    </tr>\n",
       "  </tbody>\n",
       "</table>\n",
       "</div>"
      ],
      "text/plain": [
       "             left-x      left-y     right-x     right-y      nose-x  \\\n",
       "speaker                                                               \n",
       "man-1    206.248203  218.679449  155.464350  150.371031  175.031756   \n",
       "woman-1  164.661438  161.271242  151.017865  117.332462  162.655120   \n",
       "woman-2  183.214509  176.527232  156.866295  119.835714  170.318973   \n",
       "\n",
       "            nose-y    grnd-ry    grnd-rx     grnd-ly    grnd-lx  \n",
       "speaker                                                          \n",
       "man-1    61.642600  88.728430 -19.567406  157.036848  31.216447  \n",
       "woman-1  57.245098  60.087364 -11.637255  104.026144   2.006318  \n",
       "woman-2  58.022098  61.813616 -13.452679  118.505134  12.895536  "
      ]
     },
<<<<<<< HEAD
     "execution_count": 13,
=======
<<<<<<< HEAD
     "execution_count": 9,
=======
     "execution_count": 11,
>>>>>>> e8e4bd3aa2580fad74803250b1c6bbfd1c9db313
>>>>>>> 323a24dbdb4e1d6bd819926a1baab17f95ae76b8
     "metadata": {},
     "output_type": "execute_result"
    }
   ],
<<<<<<< HEAD
=======
<<<<<<< HEAD
=======
=======
   "execution_count": null,
   "metadata": {
    "collapsed": false,
    "scrolled": true
   },
   "outputs": [],
>>>>>>> a787ccfe89997bb7396bf29ed95a3090da712e13
>>>>>>> e8e4bd3aa2580fad74803250b1c6bbfd1c9db313
>>>>>>> 323a24dbdb4e1d6bd819926a1baab17f95ae76b8
   "source": [
    "df_means = asl.df.groupby('speaker').mean()\n",
    "df_means"
   ]
  },
  {
   "cell_type": "markdown",
<<<<<<< HEAD
=======
<<<<<<< HEAD
=======
<<<<<<< HEAD
>>>>>>> e8e4bd3aa2580fad74803250b1c6bbfd1c9db313
>>>>>>> 323a24dbdb4e1d6bd819926a1baab17f95ae76b8
   "metadata": {
    "deletable": true,
    "editable": true
   },
<<<<<<< HEAD
=======
<<<<<<< HEAD
=======
=======
   "metadata": {},
>>>>>>> a787ccfe89997bb7396bf29ed95a3090da712e13
>>>>>>> e8e4bd3aa2580fad74803250b1c6bbfd1c9db313
>>>>>>> 323a24dbdb4e1d6bd819926a1baab17f95ae76b8
   "source": [
    "To select a mean that matches by speaker, use the pandas [map](http://pandas.pydata.org/pandas-docs/stable/generated/pandas.Series.map.html) method:"
   ]
  },
  {
   "cell_type": "code",
<<<<<<< HEAD
   "execution_count": 14,
=======
<<<<<<< HEAD
   "execution_count": 10,
=======
<<<<<<< HEAD
   "execution_count": 12,
>>>>>>> e8e4bd3aa2580fad74803250b1c6bbfd1c9db313
>>>>>>> 323a24dbdb4e1d6bd819926a1baab17f95ae76b8
   "metadata": {
    "collapsed": false,
    "deletable": true,
    "editable": true
   },
   "outputs": [
    {
     "data": {
      "text/html": [
       "<div>\n",
       "<table border=\"1\" class=\"dataframe\">\n",
       "  <thead>\n",
       "    <tr style=\"text-align: right;\">\n",
       "      <th></th>\n",
       "      <th></th>\n",
       "      <th>left-x</th>\n",
       "      <th>left-y</th>\n",
       "      <th>right-x</th>\n",
       "      <th>right-y</th>\n",
       "      <th>nose-x</th>\n",
       "      <th>nose-y</th>\n",
       "      <th>speaker</th>\n",
       "      <th>grnd-ry</th>\n",
       "      <th>grnd-rx</th>\n",
       "      <th>grnd-ly</th>\n",
       "      <th>grnd-lx</th>\n",
       "      <th>left-x-mean</th>\n",
<<<<<<< HEAD
       "      <th>left-y-mean</th>\n",
       "      <th>right-x-mean</th>\n",
       "      <th>right-y-mean</th>\n",
=======
<<<<<<< HEAD
       "      <th>left-y-mean</th>\n",
       "      <th>right-x-mean</th>\n",
       "      <th>right-y-mean</th>\n",
=======
>>>>>>> e8e4bd3aa2580fad74803250b1c6bbfd1c9db313
>>>>>>> 323a24dbdb4e1d6bd819926a1baab17f95ae76b8
       "    </tr>\n",
       "    <tr>\n",
       "      <th>video</th>\n",
       "      <th>frame</th>\n",
       "      <th></th>\n",
       "      <th></th>\n",
       "      <th></th>\n",
       "      <th></th>\n",
       "      <th></th>\n",
       "      <th></th>\n",
       "      <th></th>\n",
       "      <th></th>\n",
       "      <th></th>\n",
       "      <th></th>\n",
       "      <th></th>\n",
       "      <th></th>\n",
<<<<<<< HEAD
       "      <th></th>\n",
       "      <th></th>\n",
       "      <th></th>\n",
=======
<<<<<<< HEAD
       "      <th></th>\n",
       "      <th></th>\n",
       "      <th></th>\n",
=======
>>>>>>> e8e4bd3aa2580fad74803250b1c6bbfd1c9db313
>>>>>>> 323a24dbdb4e1d6bd819926a1baab17f95ae76b8
       "    </tr>\n",
       "  </thead>\n",
       "  <tbody>\n",
       "    <tr>\n",
       "      <th rowspan=\"5\" valign=\"top\">98</th>\n",
       "      <th>0</th>\n",
       "      <td>149</td>\n",
       "      <td>181</td>\n",
       "      <td>170</td>\n",
       "      <td>175</td>\n",
       "      <td>161</td>\n",
       "      <td>62</td>\n",
       "      <td>woman-1</td>\n",
       "      <td>113</td>\n",
       "      <td>9</td>\n",
       "      <td>119</td>\n",
       "      <td>-12</td>\n",
       "      <td>164.661438</td>\n",
<<<<<<< HEAD
       "      <td>161.271242</td>\n",
       "      <td>151.017865</td>\n",
       "      <td>117.332462</td>\n",
=======
<<<<<<< HEAD
       "      <td>161.271242</td>\n",
       "      <td>151.017865</td>\n",
       "      <td>117.332462</td>\n",
=======
>>>>>>> e8e4bd3aa2580fad74803250b1c6bbfd1c9db313
>>>>>>> 323a24dbdb4e1d6bd819926a1baab17f95ae76b8
       "    </tr>\n",
       "    <tr>\n",
       "      <th>1</th>\n",
       "      <td>149</td>\n",
       "      <td>181</td>\n",
       "      <td>170</td>\n",
       "      <td>175</td>\n",
       "      <td>161</td>\n",
       "      <td>62</td>\n",
       "      <td>woman-1</td>\n",
       "      <td>113</td>\n",
       "      <td>9</td>\n",
       "      <td>119</td>\n",
       "      <td>-12</td>\n",
       "      <td>164.661438</td>\n",
<<<<<<< HEAD
       "      <td>161.271242</td>\n",
       "      <td>151.017865</td>\n",
       "      <td>117.332462</td>\n",
=======
<<<<<<< HEAD
       "      <td>161.271242</td>\n",
       "      <td>151.017865</td>\n",
       "      <td>117.332462</td>\n",
=======
>>>>>>> e8e4bd3aa2580fad74803250b1c6bbfd1c9db313
>>>>>>> 323a24dbdb4e1d6bd819926a1baab17f95ae76b8
       "    </tr>\n",
       "    <tr>\n",
       "      <th>2</th>\n",
       "      <td>149</td>\n",
       "      <td>181</td>\n",
       "      <td>170</td>\n",
       "      <td>175</td>\n",
       "      <td>161</td>\n",
       "      <td>62</td>\n",
       "      <td>woman-1</td>\n",
       "      <td>113</td>\n",
       "      <td>9</td>\n",
       "      <td>119</td>\n",
       "      <td>-12</td>\n",
       "      <td>164.661438</td>\n",
<<<<<<< HEAD
       "      <td>161.271242</td>\n",
       "      <td>151.017865</td>\n",
       "      <td>117.332462</td>\n",
=======
<<<<<<< HEAD
       "      <td>161.271242</td>\n",
       "      <td>151.017865</td>\n",
       "      <td>117.332462</td>\n",
=======
>>>>>>> e8e4bd3aa2580fad74803250b1c6bbfd1c9db313
>>>>>>> 323a24dbdb4e1d6bd819926a1baab17f95ae76b8
       "    </tr>\n",
       "    <tr>\n",
       "      <th>3</th>\n",
       "      <td>149</td>\n",
       "      <td>181</td>\n",
       "      <td>170</td>\n",
       "      <td>175</td>\n",
       "      <td>161</td>\n",
       "      <td>62</td>\n",
       "      <td>woman-1</td>\n",
       "      <td>113</td>\n",
       "      <td>9</td>\n",
       "      <td>119</td>\n",
       "      <td>-12</td>\n",
       "      <td>164.661438</td>\n",
<<<<<<< HEAD
       "      <td>161.271242</td>\n",
       "      <td>151.017865</td>\n",
       "      <td>117.332462</td>\n",
=======
<<<<<<< HEAD
       "      <td>161.271242</td>\n",
       "      <td>151.017865</td>\n",
       "      <td>117.332462</td>\n",
=======
>>>>>>> e8e4bd3aa2580fad74803250b1c6bbfd1c9db313
>>>>>>> 323a24dbdb4e1d6bd819926a1baab17f95ae76b8
       "    </tr>\n",
       "    <tr>\n",
       "      <th>4</th>\n",
       "      <td>149</td>\n",
       "      <td>181</td>\n",
       "      <td>170</td>\n",
       "      <td>175</td>\n",
       "      <td>161</td>\n",
       "      <td>62</td>\n",
       "      <td>woman-1</td>\n",
       "      <td>113</td>\n",
       "      <td>9</td>\n",
       "      <td>119</td>\n",
       "      <td>-12</td>\n",
       "      <td>164.661438</td>\n",
<<<<<<< HEAD
       "      <td>161.271242</td>\n",
       "      <td>151.017865</td>\n",
       "      <td>117.332462</td>\n",
=======
<<<<<<< HEAD
       "      <td>161.271242</td>\n",
       "      <td>151.017865</td>\n",
       "      <td>117.332462</td>\n",
=======
>>>>>>> e8e4bd3aa2580fad74803250b1c6bbfd1c9db313
>>>>>>> 323a24dbdb4e1d6bd819926a1baab17f95ae76b8
       "    </tr>\n",
       "  </tbody>\n",
       "</table>\n",
       "</div>"
      ],
      "text/plain": [
       "             left-x  left-y  right-x  right-y  nose-x  nose-y  speaker  \\\n",
       "video frame                                                              \n",
       "98    0         149     181      170      175     161      62  woman-1   \n",
       "      1         149     181      170      175     161      62  woman-1   \n",
       "      2         149     181      170      175     161      62  woman-1   \n",
       "      3         149     181      170      175     161      62  woman-1   \n",
       "      4         149     181      170      175     161      62  woman-1   \n",
       "\n",
<<<<<<< HEAD
=======
<<<<<<< HEAD
>>>>>>> 323a24dbdb4e1d6bd819926a1baab17f95ae76b8
       "             grnd-ry  grnd-rx  grnd-ly  grnd-lx  left-x-mean  left-y-mean  \\\n",
       "video frame                                                                 \n",
       "98    0          113        9      119      -12   164.661438   161.271242   \n",
       "      1          113        9      119      -12   164.661438   161.271242   \n",
       "      2          113        9      119      -12   164.661438   161.271242   \n",
       "      3          113        9      119      -12   164.661438   161.271242   \n",
       "      4          113        9      119      -12   164.661438   161.271242   \n",
       "\n",
       "             right-x-mean  right-y-mean  \n",
       "video frame                              \n",
       "98    0        151.017865    117.332462  \n",
       "      1        151.017865    117.332462  \n",
       "      2        151.017865    117.332462  \n",
       "      3        151.017865    117.332462  \n",
       "      4        151.017865    117.332462  "
<<<<<<< HEAD
      ]
     },
     "execution_count": 14,
=======
      ]
     },
     "execution_count": 10,
=======
       "             grnd-ry  grnd-rx  grnd-ly  grnd-lx  left-x-mean  \n",
       "video frame                                                   \n",
       "98    0          113        9      119      -12   164.661438  \n",
       "      1          113        9      119      -12   164.661438  \n",
       "      2          113        9      119      -12   164.661438  \n",
       "      3          113        9      119      -12   164.661438  \n",
       "      4          113        9      119      -12   164.661438  "
      ]
     },
     "execution_count": 12,
>>>>>>> e8e4bd3aa2580fad74803250b1c6bbfd1c9db313
>>>>>>> 323a24dbdb4e1d6bd819926a1baab17f95ae76b8
     "metadata": {},
     "output_type": "execute_result"
    }
   ],
<<<<<<< HEAD
   "source": [
    "asl.df['left-x-mean']= asl.df['speaker'].map(df_means['left-x'])\n",
    "asl.df['left-y-mean']= asl.df['speaker'].map(df_means['left-y'])\n",
    "asl.df['right-x-mean']= asl.df['speaker'].map(df_means['right-x'])\n",
    "asl.df['right-y-mean']= asl.df['speaker'].map(df_means['right-y'])\n",
=======
<<<<<<< HEAD
   "source": [
    "asl.df['left-x-mean']= asl.df['speaker'].map(df_means['left-x'])\n",
    "asl.df['left-y-mean']= asl.df['speaker'].map(df_means['left-y'])\n",
    "asl.df['right-x-mean']= asl.df['speaker'].map(df_means['right-x'])\n",
    "asl.df['right-y-mean']= asl.df['speaker'].map(df_means['right-y'])\n",
=======
=======
   "execution_count": null,
   "metadata": {
    "collapsed": false
   },
   "outputs": [],
>>>>>>> a787ccfe89997bb7396bf29ed95a3090da712e13
   "source": [
    "asl.df['left-x-mean']= asl.df['speaker'].map(df_means['left-x'])\n",
>>>>>>> e8e4bd3aa2580fad74803250b1c6bbfd1c9db313
>>>>>>> 323a24dbdb4e1d6bd819926a1baab17f95ae76b8
    "asl.df.head()"
   ]
  },
  {
   "cell_type": "markdown",
<<<<<<< HEAD
=======
<<<<<<< HEAD
=======
<<<<<<< HEAD
>>>>>>> e8e4bd3aa2580fad74803250b1c6bbfd1c9db313
>>>>>>> 323a24dbdb4e1d6bd819926a1baab17f95ae76b8
   "metadata": {
    "deletable": true,
    "editable": true
   },
<<<<<<< HEAD
=======
<<<<<<< HEAD
=======
=======
   "metadata": {},
>>>>>>> a787ccfe89997bb7396bf29ed95a3090da712e13
>>>>>>> e8e4bd3aa2580fad74803250b1c6bbfd1c9db313
>>>>>>> 323a24dbdb4e1d6bd819926a1baab17f95ae76b8
   "source": [
    "##### Try it!"
   ]
  },
  {
   "cell_type": "code",
<<<<<<< HEAD
   "execution_count": 15,
=======
<<<<<<< HEAD
   "execution_count": 11,
   "metadata": {
    "collapsed": false,
    "deletable": true,
    "editable": true
   },
   "outputs": [
    {
     "name": "stdout",
     "output_type": "stream",
     "text": [
      "df_std\n"
     ]
    },
    {
     "data": {
      "text/html": [
       "<div>\n",
       "<table border=\"1\" class=\"dataframe\">\n",
       "  <thead>\n",
       "    <tr style=\"text-align: right;\">\n",
       "      <th></th>\n",
       "      <th>left-x</th>\n",
       "      <th>left-y</th>\n",
       "      <th>right-x</th>\n",
       "      <th>right-y</th>\n",
       "      <th>nose-x</th>\n",
       "      <th>nose-y</th>\n",
       "      <th>grnd-ry</th>\n",
       "      <th>grnd-rx</th>\n",
       "      <th>grnd-ly</th>\n",
       "      <th>grnd-lx</th>\n",
       "      <th>left-x-mean</th>\n",
       "      <th>left-y-mean</th>\n",
       "      <th>right-x-mean</th>\n",
       "      <th>right-y-mean</th>\n",
       "    </tr>\n",
       "    <tr>\n",
       "      <th>speaker</th>\n",
       "      <th></th>\n",
       "      <th></th>\n",
       "      <th></th>\n",
       "      <th></th>\n",
       "      <th></th>\n",
       "      <th></th>\n",
       "      <th></th>\n",
       "      <th></th>\n",
       "      <th></th>\n",
       "      <th></th>\n",
       "      <th></th>\n",
       "      <th></th>\n",
       "      <th></th>\n",
       "      <th></th>\n",
       "    </tr>\n",
       "  </thead>\n",
       "  <tbody>\n",
       "    <tr>\n",
       "      <th>man-1</th>\n",
       "      <td>15.154425</td>\n",
       "      <td>36.328485</td>\n",
       "      <td>18.901917</td>\n",
       "      <td>54.902340</td>\n",
       "      <td>6.654573</td>\n",
       "      <td>5.520045</td>\n",
       "      <td>53.487999</td>\n",
       "      <td>20.269032</td>\n",
       "      <td>36.572749</td>\n",
       "      <td>15.080360</td>\n",
       "      <td>0.0</td>\n",
       "      <td>0.0</td>\n",
       "      <td>0.0</td>\n",
       "      <td>0.0</td>\n",
       "    </tr>\n",
       "    <tr>\n",
       "      <th>woman-1</th>\n",
       "      <td>17.573442</td>\n",
       "      <td>26.594521</td>\n",
       "      <td>16.459943</td>\n",
       "      <td>34.667787</td>\n",
       "      <td>3.549392</td>\n",
       "      <td>3.538330</td>\n",
       "      <td>33.972660</td>\n",
       "      <td>16.764706</td>\n",
       "      <td>27.117393</td>\n",
       "      <td>17.328941</td>\n",
       "      <td>0.0</td>\n",
       "      <td>0.0</td>\n",
       "      <td>0.0</td>\n",
       "      <td>0.0</td>\n",
       "    </tr>\n",
       "    <tr>\n",
       "      <th>woman-2</th>\n",
       "      <td>15.388711</td>\n",
       "      <td>28.825025</td>\n",
       "      <td>14.890288</td>\n",
       "      <td>39.649111</td>\n",
       "      <td>4.099760</td>\n",
       "      <td>3.416167</td>\n",
       "      <td>39.128572</td>\n",
       "      <td>16.191324</td>\n",
       "      <td>29.320655</td>\n",
       "      <td>15.050938</td>\n",
       "      <td>0.0</td>\n",
       "      <td>0.0</td>\n",
       "      <td>0.0</td>\n",
       "      <td>0.0</td>\n",
       "    </tr>\n",
       "  </tbody>\n",
       "</table>\n",
       "</div>"
      ],
      "text/plain": [
       "            left-x     left-y    right-x    right-y    nose-x    nose-y  \\\n",
       "speaker                                                                   \n",
       "man-1    15.154425  36.328485  18.901917  54.902340  6.654573  5.520045   \n",
       "woman-1  17.573442  26.594521  16.459943  34.667787  3.549392  3.538330   \n",
       "woman-2  15.388711  28.825025  14.890288  39.649111  4.099760  3.416167   \n",
       "\n",
       "           grnd-ry    grnd-rx    grnd-ly    grnd-lx  left-x-mean  left-y-mean  \\\n",
       "speaker                                                                         \n",
       "man-1    53.487999  20.269032  36.572749  15.080360          0.0          0.0   \n",
       "woman-1  33.972660  16.764706  27.117393  17.328941          0.0          0.0   \n",
       "woman-2  39.128572  16.191324  29.320655  15.050938          0.0          0.0   \n",
       "\n",
       "         right-x-mean  right-y-mean  \n",
       "speaker                              \n",
       "man-1             0.0           0.0  \n",
       "woman-1           0.0           0.0  \n",
       "woman-2           0.0           0.0  "
      ]
     },
     "metadata": {},
     "output_type": "display_data"
    },
    {
     "data": {
      "text/html": [
       "<font color=green>Correct!</font><br/>"
      ],
      "text/plain": [
       "<IPython.core.display.HTML object>"
      ]
     },
     "execution_count": 11,
     "metadata": {},
     "output_type": "execute_result"
    }
   ],
=======
   "execution_count": null,
>>>>>>> 323a24dbdb4e1d6bd819926a1baab17f95ae76b8
   "metadata": {
    "collapsed": false,
    "deletable": true,
    "editable": true
   },
<<<<<<< HEAD
   "outputs": [
    {
     "name": "stdout",
     "output_type": "stream",
     "text": [
      "df_std\n"
     ]
    },
    {
     "data": {
      "text/html": [
       "<div>\n",
       "<table border=\"1\" class=\"dataframe\">\n",
       "  <thead>\n",
       "    <tr style=\"text-align: right;\">\n",
       "      <th></th>\n",
       "      <th>left-x</th>\n",
       "      <th>left-y</th>\n",
       "      <th>right-x</th>\n",
       "      <th>right-y</th>\n",
       "      <th>nose-x</th>\n",
       "      <th>nose-y</th>\n",
       "      <th>grnd-ry</th>\n",
       "      <th>grnd-rx</th>\n",
       "      <th>grnd-ly</th>\n",
       "      <th>grnd-lx</th>\n",
       "      <th>left-x-mean</th>\n",
       "      <th>left-y-mean</th>\n",
       "      <th>right-x-mean</th>\n",
       "      <th>right-y-mean</th>\n",
       "    </tr>\n",
       "    <tr>\n",
       "      <th>speaker</th>\n",
       "      <th></th>\n",
       "      <th></th>\n",
       "      <th></th>\n",
       "      <th></th>\n",
       "      <th></th>\n",
       "      <th></th>\n",
       "      <th></th>\n",
       "      <th></th>\n",
       "      <th></th>\n",
       "      <th></th>\n",
       "      <th></th>\n",
       "      <th></th>\n",
       "      <th></th>\n",
       "      <th></th>\n",
       "    </tr>\n",
       "  </thead>\n",
       "  <tbody>\n",
       "    <tr>\n",
       "      <th>man-1</th>\n",
       "      <td>15.154425</td>\n",
       "      <td>36.328485</td>\n",
       "      <td>18.901917</td>\n",
       "      <td>54.902340</td>\n",
       "      <td>6.654573</td>\n",
       "      <td>5.520045</td>\n",
       "      <td>53.487999</td>\n",
       "      <td>20.269032</td>\n",
       "      <td>36.572749</td>\n",
       "      <td>15.080360</td>\n",
       "      <td>0.0</td>\n",
       "      <td>0.0</td>\n",
       "      <td>0.0</td>\n",
       "      <td>0.0</td>\n",
       "    </tr>\n",
       "    <tr>\n",
       "      <th>woman-1</th>\n",
       "      <td>17.573442</td>\n",
       "      <td>26.594521</td>\n",
       "      <td>16.459943</td>\n",
       "      <td>34.667787</td>\n",
       "      <td>3.549392</td>\n",
       "      <td>3.538330</td>\n",
       "      <td>33.972660</td>\n",
       "      <td>16.764706</td>\n",
       "      <td>27.117393</td>\n",
       "      <td>17.328941</td>\n",
       "      <td>0.0</td>\n",
       "      <td>0.0</td>\n",
       "      <td>0.0</td>\n",
       "      <td>0.0</td>\n",
       "    </tr>\n",
       "    <tr>\n",
       "      <th>woman-2</th>\n",
       "      <td>15.388711</td>\n",
       "      <td>28.825025</td>\n",
       "      <td>14.890288</td>\n",
       "      <td>39.649111</td>\n",
       "      <td>4.099760</td>\n",
       "      <td>3.416167</td>\n",
       "      <td>39.128572</td>\n",
       "      <td>16.191324</td>\n",
       "      <td>29.320655</td>\n",
       "      <td>15.050938</td>\n",
       "      <td>0.0</td>\n",
       "      <td>0.0</td>\n",
       "      <td>0.0</td>\n",
       "      <td>0.0</td>\n",
       "    </tr>\n",
       "  </tbody>\n",
       "</table>\n",
       "</div>"
      ],
      "text/plain": [
       "            left-x     left-y    right-x    right-y    nose-x    nose-y  \\\n",
       "speaker                                                                   \n",
       "man-1    15.154425  36.328485  18.901917  54.902340  6.654573  5.520045   \n",
       "woman-1  17.573442  26.594521  16.459943  34.667787  3.549392  3.538330   \n",
       "woman-2  15.388711  28.825025  14.890288  39.649111  4.099760  3.416167   \n",
       "\n",
       "           grnd-ry    grnd-rx    grnd-ly    grnd-lx  left-x-mean  left-y-mean  \\\n",
       "speaker                                                                         \n",
       "man-1    53.487999  20.269032  36.572749  15.080360          0.0          0.0   \n",
       "woman-1  33.972660  16.764706  27.117393  17.328941          0.0          0.0   \n",
       "woman-2  39.128572  16.191324  29.320655  15.050938          0.0          0.0   \n",
       "\n",
       "         right-x-mean  right-y-mean  \n",
       "speaker                              \n",
       "man-1             0.0           0.0  \n",
       "woman-1           0.0           0.0  \n",
       "woman-2           0.0           0.0  "
      ]
     },
     "metadata": {},
     "output_type": "display_data"
    },
    {
     "data": {
      "text/html": [
       "<font color=green>Correct!</font><br/>"
      ],
      "text/plain": [
       "<IPython.core.display.HTML object>"
      ]
     },
     "execution_count": 15,
     "metadata": {},
     "output_type": "execute_result"
    }
   ],
=======
   "outputs": [],
>>>>>>> e8e4bd3aa2580fad74803250b1c6bbfd1c9db313
>>>>>>> 323a24dbdb4e1d6bd819926a1baab17f95ae76b8
   "source": [
    "from asl_utils import test_std_tryit\n",
    "# TODO Create a dataframe named `df_std` with standard deviations grouped by speaker\n",
    "\n",
<<<<<<< HEAD
    "df_std = asl.df.groupby('speaker').std()\n",
    "\n",
    "# test the code\n",
    "test_std_tryit(df_std)\n"
   ]
  },
  {
   "cell_type": "code",
   "execution_count": 16,
   "metadata": {
    "collapsed": false,
    "deletable": true,
    "editable": true
   },
   "outputs": [
    {
     "data": {
      "text/html": [
       "<div>\n",
       "<table border=\"1\" class=\"dataframe\">\n",
       "  <thead>\n",
       "    <tr style=\"text-align: right;\">\n",
       "      <th></th>\n",
       "      <th></th>\n",
       "      <th>left-x</th>\n",
       "      <th>left-y</th>\n",
       "      <th>right-x</th>\n",
       "      <th>right-y</th>\n",
       "      <th>nose-x</th>\n",
       "      <th>nose-y</th>\n",
       "      <th>speaker</th>\n",
       "      <th>grnd-ry</th>\n",
       "      <th>grnd-rx</th>\n",
       "      <th>grnd-ly</th>\n",
       "      <th>grnd-lx</th>\n",
       "      <th>left-x-mean</th>\n",
       "      <th>left-y-mean</th>\n",
       "      <th>right-x-mean</th>\n",
       "      <th>right-y-mean</th>\n",
       "      <th>left-Xstd</th>\n",
       "      <th>left-Ystd</th>\n",
       "      <th>right-Xstd</th>\n",
       "      <th>right-Ystd</th>\n",
       "    </tr>\n",
       "    <tr>\n",
       "      <th>video</th>\n",
       "      <th>frame</th>\n",
       "      <th></th>\n",
       "      <th></th>\n",
       "      <th></th>\n",
       "      <th></th>\n",
       "      <th></th>\n",
       "      <th></th>\n",
       "      <th></th>\n",
       "      <th></th>\n",
       "      <th></th>\n",
       "      <th></th>\n",
       "      <th></th>\n",
       "      <th></th>\n",
       "      <th></th>\n",
       "      <th></th>\n",
       "      <th></th>\n",
       "      <th></th>\n",
       "      <th></th>\n",
       "      <th></th>\n",
       "      <th></th>\n",
       "    </tr>\n",
       "  </thead>\n",
       "  <tbody>\n",
       "    <tr>\n",
       "      <th rowspan=\"5\" valign=\"top\">98</th>\n",
       "      <th>0</th>\n",
       "      <td>149</td>\n",
       "      <td>181</td>\n",
       "      <td>170</td>\n",
       "      <td>175</td>\n",
       "      <td>161</td>\n",
       "      <td>62</td>\n",
       "      <td>woman-1</td>\n",
       "      <td>113</td>\n",
       "      <td>9</td>\n",
       "      <td>119</td>\n",
       "      <td>-12</td>\n",
       "      <td>164.661438</td>\n",
       "      <td>161.271242</td>\n",
       "      <td>151.017865</td>\n",
       "      <td>117.332462</td>\n",
       "      <td>17.573442</td>\n",
       "      <td>26.594521</td>\n",
       "      <td>16.459943</td>\n",
       "      <td>34.667787</td>\n",
       "    </tr>\n",
       "    <tr>\n",
       "      <th>1</th>\n",
       "      <td>149</td>\n",
       "      <td>181</td>\n",
       "      <td>170</td>\n",
       "      <td>175</td>\n",
       "      <td>161</td>\n",
       "      <td>62</td>\n",
       "      <td>woman-1</td>\n",
       "      <td>113</td>\n",
       "      <td>9</td>\n",
       "      <td>119</td>\n",
       "      <td>-12</td>\n",
       "      <td>164.661438</td>\n",
       "      <td>161.271242</td>\n",
       "      <td>151.017865</td>\n",
       "      <td>117.332462</td>\n",
       "      <td>17.573442</td>\n",
       "      <td>26.594521</td>\n",
       "      <td>16.459943</td>\n",
       "      <td>34.667787</td>\n",
       "    </tr>\n",
       "    <tr>\n",
       "      <th>2</th>\n",
       "      <td>149</td>\n",
       "      <td>181</td>\n",
       "      <td>170</td>\n",
       "      <td>175</td>\n",
       "      <td>161</td>\n",
       "      <td>62</td>\n",
       "      <td>woman-1</td>\n",
       "      <td>113</td>\n",
       "      <td>9</td>\n",
       "      <td>119</td>\n",
       "      <td>-12</td>\n",
       "      <td>164.661438</td>\n",
       "      <td>161.271242</td>\n",
       "      <td>151.017865</td>\n",
       "      <td>117.332462</td>\n",
       "      <td>17.573442</td>\n",
       "      <td>26.594521</td>\n",
       "      <td>16.459943</td>\n",
       "      <td>34.667787</td>\n",
       "    </tr>\n",
       "    <tr>\n",
       "      <th>3</th>\n",
       "      <td>149</td>\n",
       "      <td>181</td>\n",
       "      <td>170</td>\n",
       "      <td>175</td>\n",
       "      <td>161</td>\n",
       "      <td>62</td>\n",
       "      <td>woman-1</td>\n",
       "      <td>113</td>\n",
       "      <td>9</td>\n",
       "      <td>119</td>\n",
       "      <td>-12</td>\n",
       "      <td>164.661438</td>\n",
       "      <td>161.271242</td>\n",
       "      <td>151.017865</td>\n",
       "      <td>117.332462</td>\n",
       "      <td>17.573442</td>\n",
       "      <td>26.594521</td>\n",
       "      <td>16.459943</td>\n",
       "      <td>34.667787</td>\n",
       "    </tr>\n",
       "    <tr>\n",
       "      <th>4</th>\n",
       "      <td>149</td>\n",
       "      <td>181</td>\n",
       "      <td>170</td>\n",
       "      <td>175</td>\n",
       "      <td>161</td>\n",
       "      <td>62</td>\n",
       "      <td>woman-1</td>\n",
       "      <td>113</td>\n",
       "      <td>9</td>\n",
       "      <td>119</td>\n",
       "      <td>-12</td>\n",
       "      <td>164.661438</td>\n",
       "      <td>161.271242</td>\n",
       "      <td>151.017865</td>\n",
       "      <td>117.332462</td>\n",
       "      <td>17.573442</td>\n",
       "      <td>26.594521</td>\n",
       "      <td>16.459943</td>\n",
       "      <td>34.667787</td>\n",
       "    </tr>\n",
       "  </tbody>\n",
       "</table>\n",
       "</div>"
      ],
      "text/plain": [
       "             left-x  left-y  right-x  right-y  nose-x  nose-y  speaker  \\\n",
       "video frame                                                              \n",
       "98    0         149     181      170      175     161      62  woman-1   \n",
       "      1         149     181      170      175     161      62  woman-1   \n",
       "      2         149     181      170      175     161      62  woman-1   \n",
       "      3         149     181      170      175     161      62  woman-1   \n",
       "      4         149     181      170      175     161      62  woman-1   \n",
       "\n",
       "             grnd-ry  grnd-rx  grnd-ly  grnd-lx  left-x-mean  left-y-mean  \\\n",
       "video frame                                                                 \n",
       "98    0          113        9      119      -12   164.661438   161.271242   \n",
       "      1          113        9      119      -12   164.661438   161.271242   \n",
       "      2          113        9      119      -12   164.661438   161.271242   \n",
       "      3          113        9      119      -12   164.661438   161.271242   \n",
       "      4          113        9      119      -12   164.661438   161.271242   \n",
       "\n",
       "             right-x-mean  right-y-mean  left-Xstd  left-Ystd  right-Xstd  \\\n",
       "video frame                                                                 \n",
       "98    0        151.017865    117.332462  17.573442  26.594521   16.459943   \n",
       "      1        151.017865    117.332462  17.573442  26.594521   16.459943   \n",
       "      2        151.017865    117.332462  17.573442  26.594521   16.459943   \n",
       "      3        151.017865    117.332462  17.573442  26.594521   16.459943   \n",
       "      4        151.017865    117.332462  17.573442  26.594521   16.459943   \n",
       "\n",
       "             right-Ystd  \n",
       "video frame              \n",
       "98    0       34.667787  \n",
       "      1       34.667787  \n",
       "      2       34.667787  \n",
       "      3       34.667787  \n",
       "      4       34.667787  "
      ]
     },
     "execution_count": 16,
     "metadata": {},
     "output_type": "execute_result"
    }
   ],
   "source": [
    "asl.df['left-Xstd']= asl.df['speaker'].map(df_std['left-x'])\n",
    "asl.df['left-Ystd']= asl.df['speaker'].map(df_std['left-y'])\n",
    "asl.df['right-Xstd']= asl.df['speaker'].map(df_std['right-x'])\n",
    "asl.df['right-Ystd']= asl.df['speaker'].map(df_std['right-y'])\n",
    "\n",
    "asl.df.head()"
   ]
  },
  {
   "cell_type": "markdown",
   "metadata": {
    "deletable": true,
    "editable": true
   },
   "source": [
    "<a id='part1_submission'></a>\n",
    "### Features Implementation Submission\n",
    "Implement four feature sets and answer the question that follows.\n",
    "- normalized Cartesian coordinates\n",
    "    - use *mean* and *standard deviation* statistics and the [standard score](https://en.wikipedia.org/wiki/Standard_score) equation to account for speakers with different heights and arm length\n",
    "    \n",
    "- polar coordinates\n",
    "    - calculate polar coordinates with [Cartesian to polar equations](https://en.wikipedia.org/wiki/Polar_coordinate_system#Converting_between_polar_and_Cartesian_coordinates)\n",
    "    - use the [np.arctan2](https://docs.scipy.org/doc/numpy-1.10.0/reference/generated/numpy.arctan2.html) function and *swap the x and y axes* to move the $0$ to $2\\pi$ discontinuity to 12 o'clock instead of 3 o'clock;  in other words, the normal break in radians value from $0$ to $2\\pi$ occurs directly to the left of the speaker's nose, which may be in the signing area and interfere with results.  By swapping the x and y axes, that discontinuity move to directly above the speaker's head, an area not generally used in signing.\n",
    "\n",
    "- delta difference\n",
    "    - as described in Thad's lecture, use the difference in values between one frame and the next frames as features\n",
    "    - pandas [diff method](http://pandas.pydata.org/pandas-docs/stable/generated/pandas.DataFrame.diff.html) and [fillna method](http://pandas.pydata.org/pandas-docs/stable/generated/pandas.DataFrame.fillna.html) will be helpful for this one\n",
    "\n",
    "- custom features\n",
    "    - These are your own design; combine techniques used above or come up with something else entirely. We look forward to seeing what you come up with! \n",
    "    Some ideas to get you started:\n",
    "        - normalize using a [feature scaling equation](https://en.wikipedia.org/wiki/Feature_scaling)\n",
    "        - normalize the polar coordinates\n",
    "        - adding additional deltas\n"
   ]
  },
  {
   "cell_type": "code",
   "execution_count": 17,
=======
<<<<<<< HEAD
    "df_std = asl.df.groupby('speaker').std()\n",
    "\n",
    "# test the code\n",
    "test_std_tryit(df_std)\n"
=======
    "# test the code\n",
    "test_std_tryit(df_std)"
   ]
  },
  {
   "cell_type": "markdown",
<<<<<<< HEAD
   "metadata": {
    "deletable": true,
    "editable": true
   },
=======
   "metadata": {},
>>>>>>> a787ccfe89997bb7396bf29ed95a3090da712e13
   "source": [
    "<a id='part1_submission'></a>\n",
    "### Features Implementation Submission\n",
    "Implement four feature sets and answer the question that follows.\n",
    "- normalized Cartesian coordinates\n",
    "    - use *mean* and *standard deviation* statistics and the [standard score](https://en.wikipedia.org/wiki/Standard_score) equation to account for speakers with different heights and arm length\n",
    "    \n",
    "- polar coordinates\n",
    "    - calculate polar coordinates with [Cartesian to polar equations](https://en.wikipedia.org/wiki/Polar_coordinate_system#Converting_between_polar_and_Cartesian_coordinates)\n",
    "    - use the [np.arctan2](https://docs.scipy.org/doc/numpy-1.10.0/reference/generated/numpy.arctan2.html) function and *swap the x and y axes* to move the $0$ to $2\\pi$ discontinuity to 12 o'clock instead of 3 o'clock;  in other words, the normal break in radians value from $0$ to $2\\pi$ occurs directly to the left of the speaker's nose, which may be in the signing area and interfere with results.  By swapping the x and y axes, that discontinuity move to directly above the speaker's head, an area not generally used in signing.\n",
    "\n",
    "- delta difference\n",
    "    - as described in Thad's lecture, use the difference in values between one frame and the next frames as features\n",
    "    - pandas [diff method](http://pandas.pydata.org/pandas-docs/stable/generated/pandas.DataFrame.diff.html) and [fillna method](http://pandas.pydata.org/pandas-docs/stable/generated/pandas.DataFrame.fillna.html) will be helpful for this one\n",
    "\n",
    "- custom features\n",
    "    - These are your own design; combine techniques used above or come up with something else entirely. We look forward to seeing what you come up with! \n",
    "    Some ideas to get you started:\n",
    "        - normalize using a [feature scaling equation](https://en.wikipedia.org/wiki/Feature_scaling)\n",
    "        - normalize the polar coordinates\n",
    "        - adding additional deltas\n"
>>>>>>> e8e4bd3aa2580fad74803250b1c6bbfd1c9db313
   ]
  },
  {
   "cell_type": "code",
<<<<<<< HEAD
   "execution_count": 12,
   "metadata": {
    "collapsed": false,
    "deletable": true,
    "editable": true
   },
   "outputs": [
    {
     "data": {
      "text/html": [
       "<div>\n",
       "<table border=\"1\" class=\"dataframe\">\n",
       "  <thead>\n",
       "    <tr style=\"text-align: right;\">\n",
       "      <th></th>\n",
       "      <th></th>\n",
       "      <th>left-x</th>\n",
       "      <th>left-y</th>\n",
       "      <th>right-x</th>\n",
       "      <th>right-y</th>\n",
       "      <th>nose-x</th>\n",
       "      <th>nose-y</th>\n",
       "      <th>speaker</th>\n",
       "      <th>grnd-ry</th>\n",
       "      <th>grnd-rx</th>\n",
       "      <th>grnd-ly</th>\n",
       "      <th>grnd-lx</th>\n",
       "      <th>left-x-mean</th>\n",
       "      <th>left-y-mean</th>\n",
       "      <th>right-x-mean</th>\n",
       "      <th>right-y-mean</th>\n",
       "      <th>left-Xstd</th>\n",
       "      <th>left-Ystd</th>\n",
       "      <th>right-Xstd</th>\n",
       "      <th>right-Ystd</th>\n",
       "    </tr>\n",
       "    <tr>\n",
       "      <th>video</th>\n",
       "      <th>frame</th>\n",
       "      <th></th>\n",
       "      <th></th>\n",
       "      <th></th>\n",
       "      <th></th>\n",
       "      <th></th>\n",
       "      <th></th>\n",
       "      <th></th>\n",
       "      <th></th>\n",
       "      <th></th>\n",
       "      <th></th>\n",
       "      <th></th>\n",
       "      <th></th>\n",
       "      <th></th>\n",
       "      <th></th>\n",
       "      <th></th>\n",
       "      <th></th>\n",
       "      <th></th>\n",
       "      <th></th>\n",
       "      <th></th>\n",
       "    </tr>\n",
       "  </thead>\n",
       "  <tbody>\n",
       "    <tr>\n",
       "      <th rowspan=\"5\" valign=\"top\">98</th>\n",
       "      <th>0</th>\n",
       "      <td>149</td>\n",
       "      <td>181</td>\n",
       "      <td>170</td>\n",
       "      <td>175</td>\n",
       "      <td>161</td>\n",
       "      <td>62</td>\n",
       "      <td>woman-1</td>\n",
       "      <td>113</td>\n",
       "      <td>9</td>\n",
       "      <td>119</td>\n",
       "      <td>-12</td>\n",
       "      <td>164.661438</td>\n",
       "      <td>161.271242</td>\n",
       "      <td>151.017865</td>\n",
       "      <td>117.332462</td>\n",
       "      <td>17.573442</td>\n",
       "      <td>26.594521</td>\n",
       "      <td>16.459943</td>\n",
       "      <td>34.667787</td>\n",
       "    </tr>\n",
       "    <tr>\n",
       "      <th>1</th>\n",
       "      <td>149</td>\n",
       "      <td>181</td>\n",
       "      <td>170</td>\n",
       "      <td>175</td>\n",
       "      <td>161</td>\n",
       "      <td>62</td>\n",
       "      <td>woman-1</td>\n",
       "      <td>113</td>\n",
       "      <td>9</td>\n",
       "      <td>119</td>\n",
       "      <td>-12</td>\n",
       "      <td>164.661438</td>\n",
       "      <td>161.271242</td>\n",
       "      <td>151.017865</td>\n",
       "      <td>117.332462</td>\n",
       "      <td>17.573442</td>\n",
       "      <td>26.594521</td>\n",
       "      <td>16.459943</td>\n",
       "      <td>34.667787</td>\n",
       "    </tr>\n",
       "    <tr>\n",
       "      <th>2</th>\n",
       "      <td>149</td>\n",
       "      <td>181</td>\n",
       "      <td>170</td>\n",
       "      <td>175</td>\n",
       "      <td>161</td>\n",
       "      <td>62</td>\n",
       "      <td>woman-1</td>\n",
       "      <td>113</td>\n",
       "      <td>9</td>\n",
       "      <td>119</td>\n",
       "      <td>-12</td>\n",
       "      <td>164.661438</td>\n",
       "      <td>161.271242</td>\n",
       "      <td>151.017865</td>\n",
       "      <td>117.332462</td>\n",
       "      <td>17.573442</td>\n",
       "      <td>26.594521</td>\n",
       "      <td>16.459943</td>\n",
       "      <td>34.667787</td>\n",
       "    </tr>\n",
       "    <tr>\n",
       "      <th>3</th>\n",
       "      <td>149</td>\n",
       "      <td>181</td>\n",
       "      <td>170</td>\n",
       "      <td>175</td>\n",
       "      <td>161</td>\n",
       "      <td>62</td>\n",
       "      <td>woman-1</td>\n",
       "      <td>113</td>\n",
       "      <td>9</td>\n",
       "      <td>119</td>\n",
       "      <td>-12</td>\n",
       "      <td>164.661438</td>\n",
       "      <td>161.271242</td>\n",
       "      <td>151.017865</td>\n",
       "      <td>117.332462</td>\n",
       "      <td>17.573442</td>\n",
       "      <td>26.594521</td>\n",
       "      <td>16.459943</td>\n",
       "      <td>34.667787</td>\n",
       "    </tr>\n",
       "    <tr>\n",
       "      <th>4</th>\n",
       "      <td>149</td>\n",
       "      <td>181</td>\n",
       "      <td>170</td>\n",
       "      <td>175</td>\n",
       "      <td>161</td>\n",
       "      <td>62</td>\n",
       "      <td>woman-1</td>\n",
       "      <td>113</td>\n",
       "      <td>9</td>\n",
       "      <td>119</td>\n",
       "      <td>-12</td>\n",
       "      <td>164.661438</td>\n",
       "      <td>161.271242</td>\n",
       "      <td>151.017865</td>\n",
       "      <td>117.332462</td>\n",
       "      <td>17.573442</td>\n",
       "      <td>26.594521</td>\n",
       "      <td>16.459943</td>\n",
       "      <td>34.667787</td>\n",
       "    </tr>\n",
       "  </tbody>\n",
       "</table>\n",
       "</div>"
      ],
      "text/plain": [
       "             left-x  left-y  right-x  right-y  nose-x  nose-y  speaker  \\\n",
       "video frame                                                              \n",
       "98    0         149     181      170      175     161      62  woman-1   \n",
       "      1         149     181      170      175     161      62  woman-1   \n",
       "      2         149     181      170      175     161      62  woman-1   \n",
       "      3         149     181      170      175     161      62  woman-1   \n",
       "      4         149     181      170      175     161      62  woman-1   \n",
       "\n",
       "             grnd-ry  grnd-rx  grnd-ly  grnd-lx  left-x-mean  left-y-mean  \\\n",
       "video frame                                                                 \n",
       "98    0          113        9      119      -12   164.661438   161.271242   \n",
       "      1          113        9      119      -12   164.661438   161.271242   \n",
       "      2          113        9      119      -12   164.661438   161.271242   \n",
       "      3          113        9      119      -12   164.661438   161.271242   \n",
       "      4          113        9      119      -12   164.661438   161.271242   \n",
       "\n",
       "             right-x-mean  right-y-mean  left-Xstd  left-Ystd  right-Xstd  \\\n",
       "video frame                                                                 \n",
       "98    0        151.017865    117.332462  17.573442  26.594521   16.459943   \n",
       "      1        151.017865    117.332462  17.573442  26.594521   16.459943   \n",
       "      2        151.017865    117.332462  17.573442  26.594521   16.459943   \n",
       "      3        151.017865    117.332462  17.573442  26.594521   16.459943   \n",
       "      4        151.017865    117.332462  17.573442  26.594521   16.459943   \n",
       "\n",
       "             right-Ystd  \n",
       "video frame              \n",
       "98    0       34.667787  \n",
       "      1       34.667787  \n",
       "      2       34.667787  \n",
       "      3       34.667787  \n",
       "      4       34.667787  "
      ]
     },
     "execution_count": 12,
     "metadata": {},
     "output_type": "execute_result"
    }
   ],
   "source": [
    "asl.df['left-Xstd']= asl.df['speaker'].map(df_std['left-x'])\n",
    "asl.df['left-Ystd']= asl.df['speaker'].map(df_std['left-y'])\n",
    "asl.df['right-Xstd']= asl.df['speaker'].map(df_std['right-x'])\n",
    "asl.df['right-Ystd']= asl.df['speaker'].map(df_std['right-y'])\n",
    "\n",
    "asl.df.head()"
   ]
  },
  {
   "cell_type": "markdown",
   "metadata": {
    "deletable": true,
    "editable": true
   },
   "source": [
    "<a id='part1_submission'></a>\n",
    "### Features Implementation Submission\n",
    "Implement four feature sets and answer the question that follows.\n",
    "- normalized Cartesian coordinates\n",
    "    - use *mean* and *standard deviation* statistics and the [standard score](https://en.wikipedia.org/wiki/Standard_score) equation to account for speakers with different heights and arm length\n",
    "    \n",
    "- polar coordinates\n",
    "    - calculate polar coordinates with [Cartesian to polar equations](https://en.wikipedia.org/wiki/Polar_coordinate_system#Converting_between_polar_and_Cartesian_coordinates)\n",
    "    - use the [np.arctan2](https://docs.scipy.org/doc/numpy-1.10.0/reference/generated/numpy.arctan2.html) function and *swap the x and y axes* to move the $0$ to $2\\pi$ discontinuity to 12 o'clock instead of 3 o'clock;  in other words, the normal break in radians value from $0$ to $2\\pi$ occurs directly to the left of the speaker's nose, which may be in the signing area and interfere with results.  By swapping the x and y axes, that discontinuity move to directly above the speaker's head, an area not generally used in signing.\n",
    "\n",
    "- delta difference\n",
    "    - as described in Thad's lecture, use the difference in values between one frame and the next frames as features\n",
    "    - pandas [diff method](http://pandas.pydata.org/pandas-docs/stable/generated/pandas.DataFrame.diff.html) and [fillna method](http://pandas.pydata.org/pandas-docs/stable/generated/pandas.DataFrame.fillna.html) will be helpful for this one\n",
    "\n",
    "- custom features\n",
    "    - These are your own design; combine techniques used above or come up with something else entirely. We look forward to seeing what you come up with! \n",
    "    Some ideas to get you started:\n",
    "        - normalize using a [feature scaling equation](https://en.wikipedia.org/wiki/Feature_scaling)\n",
    "        - normalize the polar coordinates\n",
    "        - adding additional deltas\n"
   ]
  },
  {
   "cell_type": "code",
   "execution_count": 13,
   "metadata": {
    "collapsed": false,
    "deletable": true,
    "editable": true
   },
   "outputs": [
    {
     "data": {
      "text/plain": [
       "[1.1532321114002382,\n",
       " 1.6634329223668574,\n",
       " -0.89119923044101379,\n",
       " 0.74183544610811614]"
      ]
     },
     "execution_count": 13,
     "metadata": {},
     "output_type": "execute_result"
    }
   ],
=======
   "execution_count": null,
   "metadata": {
<<<<<<< HEAD
    "collapsed": false,
    "deletable": true,
    "editable": true
=======
    "collapsed": false
>>>>>>> a787ccfe89997bb7396bf29ed95a3090da712e13
   },
   "outputs": [],
>>>>>>> e8e4bd3aa2580fad74803250b1c6bbfd1c9db313
   "source": [
    "# TODO add features for normalized by speaker values of left, right, x, y\n",
    "# Name these 'norm-rx', 'norm-ry', 'norm-lx', and 'norm-ly'\n",
    "# using Z-score scaling (X-Xmean)/Xstd\n",
    "\n",
<<<<<<< HEAD
    "asl.df['norm-rx'] = (asl.df['right-x'] - asl.df['right-x-mean']) / asl.df['right-Xstd']\n",
    "asl.df['norm-ry'] = (asl.df['right-y'] - asl.df['right-y-mean']) / asl.df['right-Ystd']\n",
    "asl.df['norm-lx'] = (asl.df['left-x'] - asl.df['left-x-mean']) / asl.df['left-Xstd']\n",
    "asl.df['norm-ly'] = (asl.df['left-y'] - asl.df['left-y-mean']) / asl.df['left-Ystd']\n",
    "\n",
    "features_norm = ['norm-rx', 'norm-ry', 'norm-lx','norm-ly']\n",
    "\n",
    "[asl.df.ix[98,1][v] for v in features_norm]\n"
=======
    "features_norm = ['norm-rx', 'norm-ry', 'norm-lx','norm-ly']"
>>>>>>> e8e4bd3aa2580fad74803250b1c6bbfd1c9db313
   ]
  },
  {
   "cell_type": "code",
<<<<<<< HEAD
   "execution_count": 14,
   "metadata": {
    "collapsed": false,
    "deletable": true,
    "editable": true
   },
   "outputs": [
    {
     "data": {
      "text/plain": [
       "[113.35784048754634,\n",
       " 0.079394596450421559,\n",
       " 119.60351165413162,\n",
       " -0.10033150226141765]"
      ]
     },
     "execution_count": 14,
     "metadata": {},
     "output_type": "execute_result"
    }
   ],
=======
   "execution_count": null,
   "metadata": {
<<<<<<< HEAD
    "collapsed": false,
    "deletable": true,
    "editable": true
=======
    "collapsed": false
>>>>>>> a787ccfe89997bb7396bf29ed95a3090da712e13
   },
   "outputs": [],
>>>>>>> e8e4bd3aa2580fad74803250b1c6bbfd1c9db313
   "source": [
    "# TODO add features for polar coordinate values where the nose is the origin\n",
    "# Name these 'polar-rr', 'polar-rtheta', 'polar-lr', and 'polar-ltheta'\n",
    "# Note that 'polar-rr' and 'polar-rtheta' refer to the radius and angle\n",
    "\n",
<<<<<<< HEAD
    "asl.df['polar-rr'] = np.sqrt((asl.df['right-x'] - asl.df['nose-x'])**2 + (asl.df['right-y']-asl.df['nose-y'])**2)\n",
    "asl.df['polar-rtheta'] = (asl.df['right-x'] - asl.df['nose-x']) / asl.df['polar-rr']\n",
    "\n",
    "asl.df['polar-lr'] = np.sqrt((asl.df['left-x'] - asl.df['nose-x'])**2 + (asl.df['left-y']-asl.df['nose-y'])**2)\n",
    "asl.df['polar-ltheta'] = (asl.df['left-x'] - asl.df['nose-x']) / asl.df['polar-lr']\n",
    "\n",
    "features_polar = ['polar-rr', 'polar-rtheta', 'polar-lr', 'polar-ltheta']\n",
    "\n",
    "[asl.df.ix[98,1][v] for v in features_polar]"
=======
    "features_polar = ['polar-rr', 'polar-rtheta', 'polar-lr', 'polar-ltheta']"
>>>>>>> e8e4bd3aa2580fad74803250b1c6bbfd1c9db313
   ]
  },
  {
   "cell_type": "code",
<<<<<<< HEAD
   "execution_count": 15,
   "metadata": {
    "collapsed": false,
    "deletable": true,
    "editable": true
   },
   "outputs": [
    {
     "data": {
      "text/html": [
       "<div>\n",
       "<table border=\"1\" class=\"dataframe\">\n",
       "  <thead>\n",
       "    <tr style=\"text-align: right;\">\n",
       "      <th></th>\n",
       "      <th></th>\n",
       "      <th>left-x</th>\n",
       "      <th>left-y</th>\n",
       "      <th>right-x</th>\n",
       "      <th>right-y</th>\n",
       "      <th>nose-x</th>\n",
       "      <th>nose-y</th>\n",
       "      <th>speaker</th>\n",
       "      <th>grnd-ry</th>\n",
       "      <th>grnd-rx</th>\n",
       "      <th>grnd-ly</th>\n",
       "      <th>...</th>\n",
       "      <th>norm-lx</th>\n",
       "      <th>norm-ly</th>\n",
       "      <th>polar-rr</th>\n",
       "      <th>polar-rtheta</th>\n",
       "      <th>polar-lr</th>\n",
       "      <th>polar-ltheta</th>\n",
       "      <th>delta-rx</th>\n",
       "      <th>delta-ry</th>\n",
       "      <th>delta-lx</th>\n",
       "      <th>delta-ly</th>\n",
       "    </tr>\n",
       "    <tr>\n",
       "      <th>video</th>\n",
       "      <th>frame</th>\n",
       "      <th></th>\n",
       "      <th></th>\n",
       "      <th></th>\n",
       "      <th></th>\n",
       "      <th></th>\n",
       "      <th></th>\n",
       "      <th></th>\n",
       "      <th></th>\n",
       "      <th></th>\n",
       "      <th></th>\n",
       "      <th></th>\n",
       "      <th></th>\n",
       "      <th></th>\n",
       "      <th></th>\n",
       "      <th></th>\n",
       "      <th></th>\n",
       "      <th></th>\n",
       "      <th></th>\n",
       "      <th></th>\n",
       "      <th></th>\n",
       "      <th></th>\n",
       "    </tr>\n",
       "  </thead>\n",
       "  <tbody>\n",
       "    <tr>\n",
       "      <th rowspan=\"5\" valign=\"top\">98</th>\n",
       "      <th>0</th>\n",
       "      <td>149</td>\n",
       "      <td>181</td>\n",
       "      <td>170</td>\n",
       "      <td>175</td>\n",
       "      <td>161</td>\n",
       "      <td>62</td>\n",
       "      <td>woman-1</td>\n",
       "      <td>113</td>\n",
       "      <td>9</td>\n",
       "      <td>119</td>\n",
       "      <td>...</td>\n",
       "      <td>-0.891199</td>\n",
       "      <td>0.741835</td>\n",
       "      <td>113.35784</td>\n",
       "      <td>0.079395</td>\n",
       "      <td>119.603512</td>\n",
       "      <td>-0.100332</td>\n",
       "      <td>0.0</td>\n",
       "      <td>0.0</td>\n",
       "      <td>0.0</td>\n",
       "      <td>0.0</td>\n",
       "    </tr>\n",
       "    <tr>\n",
       "      <th>1</th>\n",
       "      <td>149</td>\n",
       "      <td>181</td>\n",
       "      <td>170</td>\n",
       "      <td>175</td>\n",
       "      <td>161</td>\n",
       "      <td>62</td>\n",
       "      <td>woman-1</td>\n",
       "      <td>113</td>\n",
       "      <td>9</td>\n",
       "      <td>119</td>\n",
       "      <td>...</td>\n",
       "      <td>-0.891199</td>\n",
       "      <td>0.741835</td>\n",
       "      <td>113.35784</td>\n",
       "      <td>0.079395</td>\n",
       "      <td>119.603512</td>\n",
       "      <td>-0.100332</td>\n",
       "      <td>0.0</td>\n",
       "      <td>0.0</td>\n",
       "      <td>0.0</td>\n",
       "      <td>0.0</td>\n",
       "    </tr>\n",
       "    <tr>\n",
       "      <th>2</th>\n",
       "      <td>149</td>\n",
       "      <td>181</td>\n",
       "      <td>170</td>\n",
       "      <td>175</td>\n",
       "      <td>161</td>\n",
       "      <td>62</td>\n",
       "      <td>woman-1</td>\n",
       "      <td>113</td>\n",
       "      <td>9</td>\n",
       "      <td>119</td>\n",
       "      <td>...</td>\n",
       "      <td>-0.891199</td>\n",
       "      <td>0.741835</td>\n",
       "      <td>113.35784</td>\n",
       "      <td>0.079395</td>\n",
       "      <td>119.603512</td>\n",
       "      <td>-0.100332</td>\n",
       "      <td>0.0</td>\n",
       "      <td>0.0</td>\n",
       "      <td>0.0</td>\n",
       "      <td>0.0</td>\n",
       "    </tr>\n",
       "    <tr>\n",
       "      <th>3</th>\n",
       "      <td>149</td>\n",
       "      <td>181</td>\n",
       "      <td>170</td>\n",
       "      <td>175</td>\n",
       "      <td>161</td>\n",
       "      <td>62</td>\n",
       "      <td>woman-1</td>\n",
       "      <td>113</td>\n",
       "      <td>9</td>\n",
       "      <td>119</td>\n",
       "      <td>...</td>\n",
       "      <td>-0.891199</td>\n",
       "      <td>0.741835</td>\n",
       "      <td>113.35784</td>\n",
       "      <td>0.079395</td>\n",
       "      <td>119.603512</td>\n",
       "      <td>-0.100332</td>\n",
       "      <td>0.0</td>\n",
       "      <td>0.0</td>\n",
       "      <td>0.0</td>\n",
       "      <td>0.0</td>\n",
       "    </tr>\n",
       "    <tr>\n",
       "      <th>4</th>\n",
       "      <td>149</td>\n",
       "      <td>181</td>\n",
       "      <td>170</td>\n",
       "      <td>175</td>\n",
       "      <td>161</td>\n",
       "      <td>62</td>\n",
       "      <td>woman-1</td>\n",
       "      <td>113</td>\n",
       "      <td>9</td>\n",
       "      <td>119</td>\n",
       "      <td>...</td>\n",
       "      <td>-0.891199</td>\n",
       "      <td>0.741835</td>\n",
       "      <td>113.35784</td>\n",
       "      <td>0.079395</td>\n",
       "      <td>119.603512</td>\n",
       "      <td>-0.100332</td>\n",
       "      <td>0.0</td>\n",
       "      <td>0.0</td>\n",
       "      <td>0.0</td>\n",
       "      <td>0.0</td>\n",
       "    </tr>\n",
       "  </tbody>\n",
       "</table>\n",
       "<p>5 rows × 31 columns</p>\n",
       "</div>"
      ],
      "text/plain": [
       "             left-x  left-y  right-x  right-y  nose-x  nose-y  speaker  \\\n",
       "video frame                                                              \n",
       "98    0         149     181      170      175     161      62  woman-1   \n",
       "      1         149     181      170      175     161      62  woman-1   \n",
       "      2         149     181      170      175     161      62  woman-1   \n",
       "      3         149     181      170      175     161      62  woman-1   \n",
       "      4         149     181      170      175     161      62  woman-1   \n",
       "\n",
       "             grnd-ry  grnd-rx  grnd-ly    ...      norm-lx   norm-ly  \\\n",
       "video frame                               ...                          \n",
       "98    0          113        9      119    ...    -0.891199  0.741835   \n",
       "      1          113        9      119    ...    -0.891199  0.741835   \n",
       "      2          113        9      119    ...    -0.891199  0.741835   \n",
       "      3          113        9      119    ...    -0.891199  0.741835   \n",
       "      4          113        9      119    ...    -0.891199  0.741835   \n",
       "\n",
       "              polar-rr  polar-rtheta    polar-lr  polar-ltheta  delta-rx  \\\n",
       "video frame                                                                \n",
       "98    0      113.35784      0.079395  119.603512     -0.100332       0.0   \n",
       "      1      113.35784      0.079395  119.603512     -0.100332       0.0   \n",
       "      2      113.35784      0.079395  119.603512     -0.100332       0.0   \n",
       "      3      113.35784      0.079395  119.603512     -0.100332       0.0   \n",
       "      4      113.35784      0.079395  119.603512     -0.100332       0.0   \n",
       "\n",
       "             delta-ry  delta-lx  delta-ly  \n",
       "video frame                                \n",
       "98    0           0.0       0.0       0.0  \n",
       "      1           0.0       0.0       0.0  \n",
       "      2           0.0       0.0       0.0  \n",
       "      3           0.0       0.0       0.0  \n",
       "      4           0.0       0.0       0.0  \n",
       "\n",
       "[5 rows x 31 columns]"
      ]
     },
     "execution_count": 15,
     "metadata": {},
     "output_type": "execute_result"
    }
   ],
   "source": [
    "# TODO add features for left, right, x, y differences by one time step, i.e. the \"delta\" values discussed in the lecture\n",
    "# Name these 'delta-rx', 'delta-ry', 'delta-lx', and 'delta-ly'\n",
    "def frame_difference(f):\n",
    "    return f.diff().fillna(0, None, 0, False, None, None)\n",
    "\n",
    "features_r_l = ['right-x', 'right-y', 'left-x', 'left-y']\n",
    "\n",
    "# Features representing the difference in values between one frame and the next frames \n",
    "features_delta = ['delta-rx', 'delta-ry', 'delta-lx', 'delta-ly']\n",
    "\n",
    "for f_index, f_val in enumerate(features_delta):\n",
    "    asl.df[f_val] = frame_difference(asl.df[features_r_l[f_index]])\n",
    "\n",
    "asl.df.head()\n"
=======
   "execution_count": null,
   "metadata": {
<<<<<<< HEAD
    "collapsed": false,
    "deletable": true,
    "editable": true
=======
    "collapsed": false
>>>>>>> a787ccfe89997bb7396bf29ed95a3090da712e13
   },
   "outputs": [],
   "source": [
    "# TODO add features for left, right, x, y differences by one time step, i.e. the \"delta\" values discussed in the lecture\n",
    "# Name these 'delta-rx', 'delta-ry', 'delta-lx', and 'delta-ly'\n",
    "\n",
    "features_delta = ['delta-rx', 'delta-ry', 'delta-lx', 'delta-ly']"
>>>>>>> e8e4bd3aa2580fad74803250b1c6bbfd1c9db313
   ]
  },
  {
   "cell_type": "code",
<<<<<<< HEAD
   "execution_count": 16,
   "metadata": {
    "collapsed": false,
    "deletable": true,
    "editable": true
   },
   "outputs": [
    {
     "data": {
      "text/html": [
       "<div>\n",
       "<table border=\"1\" class=\"dataframe\">\n",
       "  <thead>\n",
       "    <tr style=\"text-align: right;\">\n",
       "      <th></th>\n",
       "      <th></th>\n",
       "      <th>left-x</th>\n",
       "      <th>left-y</th>\n",
       "      <th>right-x</th>\n",
       "      <th>right-y</th>\n",
       "      <th>nose-x</th>\n",
       "      <th>nose-y</th>\n",
       "      <th>speaker</th>\n",
       "      <th>grnd-ry</th>\n",
       "      <th>grnd-rx</th>\n",
       "      <th>grnd-ly</th>\n",
       "      <th>...</th>\n",
       "      <th>right-x-rescaled</th>\n",
       "      <th>right-y-max</th>\n",
       "      <th>right-y-min</th>\n",
       "      <th>right-y-rescaled</th>\n",
       "      <th>left-x-max</th>\n",
       "      <th>left-x-min</th>\n",
       "      <th>left-x-rescaled</th>\n",
       "      <th>left-y-max</th>\n",
       "      <th>left-y-min</th>\n",
       "      <th>left-y-rescaled</th>\n",
       "    </tr>\n",
       "    <tr>\n",
       "      <th>video</th>\n",
       "      <th>frame</th>\n",
       "      <th></th>\n",
       "      <th></th>\n",
       "      <th></th>\n",
       "      <th></th>\n",
       "      <th></th>\n",
       "      <th></th>\n",
       "      <th></th>\n",
       "      <th></th>\n",
       "      <th></th>\n",
       "      <th></th>\n",
       "      <th></th>\n",
       "      <th></th>\n",
       "      <th></th>\n",
       "      <th></th>\n",
       "      <th></th>\n",
       "      <th></th>\n",
       "      <th></th>\n",
       "      <th></th>\n",
       "      <th></th>\n",
       "      <th></th>\n",
       "      <th></th>\n",
       "    </tr>\n",
       "  </thead>\n",
       "  <tbody>\n",
       "    <tr>\n",
       "      <th rowspan=\"5\" valign=\"top\">98</th>\n",
       "      <th>0</th>\n",
       "      <td>149</td>\n",
       "      <td>181</td>\n",
       "      <td>170</td>\n",
       "      <td>175</td>\n",
       "      <td>161</td>\n",
       "      <td>62</td>\n",
       "      <td>woman-1</td>\n",
       "      <td>113</td>\n",
       "      <td>9</td>\n",
       "      <td>119</td>\n",
       "      <td>...</td>\n",
       "      <td>0.683761</td>\n",
       "      <td>124</td>\n",
       "      <td>-17</td>\n",
       "      <td>0.921986</td>\n",
       "      <td>70</td>\n",
       "      <td>-27</td>\n",
       "      <td>0.154639</td>\n",
       "      <td>137</td>\n",
       "      <td>31</td>\n",
       "      <td>0.830189</td>\n",
       "    </tr>\n",
       "    <tr>\n",
       "      <th>1</th>\n",
       "      <td>149</td>\n",
       "      <td>181</td>\n",
       "      <td>170</td>\n",
       "      <td>175</td>\n",
       "      <td>161</td>\n",
       "      <td>62</td>\n",
       "      <td>woman-1</td>\n",
       "      <td>113</td>\n",
       "      <td>9</td>\n",
       "      <td>119</td>\n",
       "      <td>...</td>\n",
       "      <td>0.683761</td>\n",
       "      <td>124</td>\n",
       "      <td>-17</td>\n",
       "      <td>0.921986</td>\n",
       "      <td>70</td>\n",
       "      <td>-27</td>\n",
       "      <td>0.154639</td>\n",
       "      <td>137</td>\n",
       "      <td>31</td>\n",
       "      <td>0.830189</td>\n",
       "    </tr>\n",
       "    <tr>\n",
       "      <th>2</th>\n",
       "      <td>149</td>\n",
       "      <td>181</td>\n",
       "      <td>170</td>\n",
       "      <td>175</td>\n",
       "      <td>161</td>\n",
       "      <td>62</td>\n",
       "      <td>woman-1</td>\n",
       "      <td>113</td>\n",
       "      <td>9</td>\n",
       "      <td>119</td>\n",
       "      <td>...</td>\n",
       "      <td>0.683761</td>\n",
       "      <td>124</td>\n",
       "      <td>-17</td>\n",
       "      <td>0.921986</td>\n",
       "      <td>70</td>\n",
       "      <td>-27</td>\n",
       "      <td>0.154639</td>\n",
       "      <td>137</td>\n",
       "      <td>31</td>\n",
       "      <td>0.830189</td>\n",
       "    </tr>\n",
       "    <tr>\n",
       "      <th>3</th>\n",
       "      <td>149</td>\n",
       "      <td>181</td>\n",
       "      <td>170</td>\n",
       "      <td>175</td>\n",
       "      <td>161</td>\n",
       "      <td>62</td>\n",
       "      <td>woman-1</td>\n",
       "      <td>113</td>\n",
       "      <td>9</td>\n",
       "      <td>119</td>\n",
       "      <td>...</td>\n",
       "      <td>0.683761</td>\n",
       "      <td>124</td>\n",
       "      <td>-17</td>\n",
       "      <td>0.921986</td>\n",
       "      <td>70</td>\n",
       "      <td>-27</td>\n",
       "      <td>0.154639</td>\n",
       "      <td>137</td>\n",
       "      <td>31</td>\n",
       "      <td>0.830189</td>\n",
       "    </tr>\n",
       "    <tr>\n",
       "      <th>4</th>\n",
       "      <td>149</td>\n",
       "      <td>181</td>\n",
       "      <td>170</td>\n",
       "      <td>175</td>\n",
       "      <td>161</td>\n",
       "      <td>62</td>\n",
       "      <td>woman-1</td>\n",
       "      <td>113</td>\n",
       "      <td>9</td>\n",
       "      <td>119</td>\n",
       "      <td>...</td>\n",
       "      <td>0.683761</td>\n",
       "      <td>124</td>\n",
       "      <td>-17</td>\n",
       "      <td>0.921986</td>\n",
       "      <td>70</td>\n",
       "      <td>-27</td>\n",
       "      <td>0.154639</td>\n",
       "      <td>137</td>\n",
       "      <td>31</td>\n",
       "      <td>0.830189</td>\n",
       "    </tr>\n",
       "  </tbody>\n",
       "</table>\n",
       "<p>5 rows × 43 columns</p>\n",
       "</div>"
      ],
      "text/plain": [
       "             left-x  left-y  right-x  right-y  nose-x  nose-y  speaker  \\\n",
       "video frame                                                              \n",
       "98    0         149     181      170      175     161      62  woman-1   \n",
       "      1         149     181      170      175     161      62  woman-1   \n",
       "      2         149     181      170      175     161      62  woman-1   \n",
       "      3         149     181      170      175     161      62  woman-1   \n",
       "      4         149     181      170      175     161      62  woman-1   \n",
       "\n",
       "             grnd-ry  grnd-rx  grnd-ly       ...         right-x-rescaled  \\\n",
       "video frame                                  ...                            \n",
       "98    0          113        9      119       ...                 0.683761   \n",
       "      1          113        9      119       ...                 0.683761   \n",
       "      2          113        9      119       ...                 0.683761   \n",
       "      3          113        9      119       ...                 0.683761   \n",
       "      4          113        9      119       ...                 0.683761   \n",
       "\n",
       "             right-y-max  right-y-min  right-y-rescaled  left-x-max  \\\n",
       "video frame                                                           \n",
       "98    0              124          -17          0.921986          70   \n",
       "      1              124          -17          0.921986          70   \n",
       "      2              124          -17          0.921986          70   \n",
       "      3              124          -17          0.921986          70   \n",
       "      4              124          -17          0.921986          70   \n",
       "\n",
       "             left-x-min  left-x-rescaled  left-y-max  left-y-min  \\\n",
       "video frame                                                        \n",
       "98    0             -27         0.154639         137          31   \n",
       "      1             -27         0.154639         137          31   \n",
       "      2             -27         0.154639         137          31   \n",
       "      3             -27         0.154639         137          31   \n",
       "      4             -27         0.154639         137          31   \n",
       "\n",
       "             left-y-rescaled  \n",
       "video frame                   \n",
       "98    0             0.830189  \n",
       "      1             0.830189  \n",
       "      2             0.830189  \n",
       "      3             0.830189  \n",
       "      4             0.830189  \n",
       "\n",
       "[5 rows x 43 columns]"
      ]
     },
     "execution_count": 16,
     "metadata": {},
     "output_type": "execute_result"
    }
   ],
   "source": [
    "#https://github.com/ltfschoen/AIND-Recognizer/blob/master/asl_recognizer.ipynb\n",
    "\n",
    "# TODO add features of your own design, which may be a combination of the above or something else\n",
    "# Name these whatever you would like\n",
    "\n",
    "# TODO define a list named 'features_custom' for building the training set\n",
    "\n",
    "\n",
    "# Rescaling the range of features to scale to the range in [0, 1] or [-1, 1]\n",
    "# using the Feature Scaling equation to normalise:\n",
    "#\n",
    "#   normalised = orig - min(orig) / max(orig) - min(orig)\n",
    "#\n",
    "def rescale(orig, min, max):\n",
    "    return (orig - min) / (max - min)\n",
    "\n",
    "df_max = asl.df.groupby('speaker').max()\n",
    "df_min = asl.df.groupby('speaker').min()\n",
    "\n",
    "# Differences between hand and nose locations (see previous task where calculated)\n",
    "features_ground = ['grnd-rx', 'grnd-ry', 'grnd-lx', 'grnd-ly']\n",
    "\n",
    "# Features representing the Max and Min \n",
    "features_max = ['right-x-max', 'right-y-max', 'left-x-max', 'left-y-max']\n",
    "features_min = ['right-x-min', 'right-y-min', 'left-x-min', 'left-y-min']\n",
    "\n",
    "features_rescaled = ['right-x-rescaled', 'right-y-rescaled', 'left-x-rescaled', 'left-y-rescaled']\n",
    "\n",
    "for f_index, f_val in enumerate(features_ground):\n",
    "\n",
    "    # Map the Max and Min onto the data\n",
    "    asl.df[features_max[f_index]] = asl.df['speaker'].map(df_max[f_val], na_action=None)\n",
    "    asl.df[features_min[f_index]] = asl.df['speaker'].map(df_min[f_val], na_action=None)\n",
    "    \n",
    "    # Normalise by rescaling using the Feature Scaling equation\n",
    "    asl.df[features_rescaled[f_index]] = rescale(asl.df[f_val],\n",
    "                                               asl.df[features_min[f_index]],\n",
    "                                               asl.df[features_max[f_index]])\n",
    "\n",
    "# DONE define list named 'features_custom' for building the training set\n",
    "features_custom = ['right-x-rescaling', 'right-y-rescaling',  'left-x-rescaling', 'left-y-rescaling']\n",
    "\n",
    "asl.df.head()\n"
=======
   "execution_count": null,
>>>>>>> 323a24dbdb4e1d6bd819926a1baab17f95ae76b8
   "metadata": {
    "collapsed": false,
    "deletable": true,
    "editable": true
   },
   "outputs": [
    {
     "data": {
      "text/plain": [
       "[1.1532321114002382,\n",
       " 1.6634329223668574,\n",
       " -0.89119923044101379,\n",
       " 0.74183544610811614]"
      ]
     },
     "execution_count": 17,
     "metadata": {},
     "output_type": "execute_result"
    }
   ],
   "source": [
    "# TODO add features for normalized by speaker values of left, right, x, y\n",
    "# Name these 'norm-rx', 'norm-ry', 'norm-lx', and 'norm-ly'\n",
    "# using Z-score scaling (X-Xmean)/Xstd\n",
    "\n",
    "asl.df['norm-rx'] = (asl.df['right-x'] - asl.df['right-x-mean']) / asl.df['right-Xstd']\n",
    "asl.df['norm-ry'] = (asl.df['right-y'] - asl.df['right-y-mean']) / asl.df['right-Ystd']\n",
    "asl.df['norm-lx'] = (asl.df['left-x'] - asl.df['left-x-mean']) / asl.df['left-Xstd']\n",
    "asl.df['norm-ly'] = (asl.df['left-y'] - asl.df['left-y-mean']) / asl.df['left-Ystd']\n",
    "\n",
    "features_norm = ['norm-rx', 'norm-ry', 'norm-lx','norm-ly']\n",
    "\n",
    "[asl.df.ix[98,1][v] for v in features_norm]\n"
   ]
  },
  {
   "cell_type": "code",
   "execution_count": 18,
   "metadata": {
    "collapsed": false,
    "deletable": true,
    "editable": true
   },
   "outputs": [
    {
     "data": {
      "text/plain": [
       "[113.35784048754634,\n",
       " 0.079394596450421559,\n",
       " 119.60351165413162,\n",
       " -0.10033150226141765]"
      ]
     },
     "execution_count": 18,
     "metadata": {},
     "output_type": "execute_result"
    }
   ],
   "source": [
    "# TODO add features for polar coordinate values where the nose is the origin\n",
    "# Name these 'polar-rr', 'polar-rtheta', 'polar-lr', and 'polar-ltheta'\n",
    "# Note that 'polar-rr' and 'polar-rtheta' refer to the radius and angle\n",
    "\n",
    "asl.df['polar-rr'] = np.sqrt((asl.df['right-x'] - asl.df['nose-x'])**2 + (asl.df['right-y']-asl.df['nose-y'])**2)\n",
    "asl.df['polar-rtheta'] = (asl.df['right-x'] - asl.df['nose-x']) / asl.df['polar-rr']\n",
    "\n",
    "asl.df['polar-lr'] = np.sqrt((asl.df['left-x'] - asl.df['nose-x'])**2 + (asl.df['left-y']-asl.df['nose-y'])**2)\n",
    "asl.df['polar-ltheta'] = (asl.df['left-x'] - asl.df['nose-x']) / asl.df['polar-lr']\n",
    "\n",
    "features_polar = ['polar-rr', 'polar-rtheta', 'polar-lr', 'polar-ltheta']\n",
    "\n",
    "[asl.df.ix[98,1][v] for v in features_polar]"
   ]
  },
  {
   "cell_type": "code",
   "execution_count": 19,
   "metadata": {
    "collapsed": false,
    "deletable": true,
    "editable": true
   },
   "outputs": [
    {
     "data": {
      "text/html": [
       "<div>\n",
       "<table border=\"1\" class=\"dataframe\">\n",
       "  <thead>\n",
       "    <tr style=\"text-align: right;\">\n",
       "      <th></th>\n",
       "      <th></th>\n",
       "      <th>left-x</th>\n",
       "      <th>left-y</th>\n",
       "      <th>right-x</th>\n",
       "      <th>right-y</th>\n",
       "      <th>nose-x</th>\n",
       "      <th>nose-y</th>\n",
       "      <th>speaker</th>\n",
       "      <th>grnd-ry</th>\n",
       "      <th>grnd-rx</th>\n",
       "      <th>grnd-ly</th>\n",
       "      <th>...</th>\n",
       "      <th>norm-lx</th>\n",
       "      <th>norm-ly</th>\n",
       "      <th>polar-rr</th>\n",
       "      <th>polar-rtheta</th>\n",
       "      <th>polar-lr</th>\n",
       "      <th>polar-ltheta</th>\n",
       "      <th>delta-rx</th>\n",
       "      <th>delta-ry</th>\n",
       "      <th>delta-lx</th>\n",
       "      <th>delta-ly</th>\n",
       "    </tr>\n",
       "    <tr>\n",
       "      <th>video</th>\n",
       "      <th>frame</th>\n",
       "      <th></th>\n",
       "      <th></th>\n",
       "      <th></th>\n",
       "      <th></th>\n",
       "      <th></th>\n",
       "      <th></th>\n",
       "      <th></th>\n",
       "      <th></th>\n",
       "      <th></th>\n",
       "      <th></th>\n",
       "      <th></th>\n",
       "      <th></th>\n",
       "      <th></th>\n",
       "      <th></th>\n",
       "      <th></th>\n",
       "      <th></th>\n",
       "      <th></th>\n",
       "      <th></th>\n",
       "      <th></th>\n",
       "      <th></th>\n",
       "      <th></th>\n",
       "    </tr>\n",
       "  </thead>\n",
       "  <tbody>\n",
       "    <tr>\n",
       "      <th rowspan=\"5\" valign=\"top\">98</th>\n",
       "      <th>0</th>\n",
       "      <td>149</td>\n",
       "      <td>181</td>\n",
       "      <td>170</td>\n",
       "      <td>175</td>\n",
       "      <td>161</td>\n",
       "      <td>62</td>\n",
       "      <td>woman-1</td>\n",
       "      <td>113</td>\n",
       "      <td>9</td>\n",
       "      <td>119</td>\n",
       "      <td>...</td>\n",
       "      <td>-0.891199</td>\n",
       "      <td>0.741835</td>\n",
       "      <td>113.35784</td>\n",
       "      <td>0.079395</td>\n",
       "      <td>119.603512</td>\n",
       "      <td>-0.100332</td>\n",
       "      <td>0.0</td>\n",
       "      <td>0.0</td>\n",
       "      <td>0.0</td>\n",
       "      <td>0.0</td>\n",
       "    </tr>\n",
       "    <tr>\n",
       "      <th>1</th>\n",
       "      <td>149</td>\n",
       "      <td>181</td>\n",
       "      <td>170</td>\n",
       "      <td>175</td>\n",
       "      <td>161</td>\n",
       "      <td>62</td>\n",
       "      <td>woman-1</td>\n",
       "      <td>113</td>\n",
       "      <td>9</td>\n",
       "      <td>119</td>\n",
       "      <td>...</td>\n",
       "      <td>-0.891199</td>\n",
       "      <td>0.741835</td>\n",
       "      <td>113.35784</td>\n",
       "      <td>0.079395</td>\n",
       "      <td>119.603512</td>\n",
       "      <td>-0.100332</td>\n",
       "      <td>0.0</td>\n",
       "      <td>0.0</td>\n",
       "      <td>0.0</td>\n",
       "      <td>0.0</td>\n",
       "    </tr>\n",
       "    <tr>\n",
       "      <th>2</th>\n",
       "      <td>149</td>\n",
       "      <td>181</td>\n",
       "      <td>170</td>\n",
       "      <td>175</td>\n",
       "      <td>161</td>\n",
       "      <td>62</td>\n",
       "      <td>woman-1</td>\n",
       "      <td>113</td>\n",
       "      <td>9</td>\n",
       "      <td>119</td>\n",
       "      <td>...</td>\n",
       "      <td>-0.891199</td>\n",
       "      <td>0.741835</td>\n",
       "      <td>113.35784</td>\n",
       "      <td>0.079395</td>\n",
       "      <td>119.603512</td>\n",
       "      <td>-0.100332</td>\n",
       "      <td>0.0</td>\n",
       "      <td>0.0</td>\n",
       "      <td>0.0</td>\n",
       "      <td>0.0</td>\n",
       "    </tr>\n",
       "    <tr>\n",
       "      <th>3</th>\n",
       "      <td>149</td>\n",
       "      <td>181</td>\n",
       "      <td>170</td>\n",
       "      <td>175</td>\n",
       "      <td>161</td>\n",
       "      <td>62</td>\n",
       "      <td>woman-1</td>\n",
       "      <td>113</td>\n",
       "      <td>9</td>\n",
       "      <td>119</td>\n",
       "      <td>...</td>\n",
       "      <td>-0.891199</td>\n",
       "      <td>0.741835</td>\n",
       "      <td>113.35784</td>\n",
       "      <td>0.079395</td>\n",
       "      <td>119.603512</td>\n",
       "      <td>-0.100332</td>\n",
       "      <td>0.0</td>\n",
       "      <td>0.0</td>\n",
       "      <td>0.0</td>\n",
       "      <td>0.0</td>\n",
       "    </tr>\n",
       "    <tr>\n",
       "      <th>4</th>\n",
       "      <td>149</td>\n",
       "      <td>181</td>\n",
       "      <td>170</td>\n",
       "      <td>175</td>\n",
       "      <td>161</td>\n",
       "      <td>62</td>\n",
       "      <td>woman-1</td>\n",
       "      <td>113</td>\n",
       "      <td>9</td>\n",
       "      <td>119</td>\n",
       "      <td>...</td>\n",
       "      <td>-0.891199</td>\n",
       "      <td>0.741835</td>\n",
       "      <td>113.35784</td>\n",
       "      <td>0.079395</td>\n",
       "      <td>119.603512</td>\n",
       "      <td>-0.100332</td>\n",
       "      <td>0.0</td>\n",
       "      <td>0.0</td>\n",
       "      <td>0.0</td>\n",
       "      <td>0.0</td>\n",
       "    </tr>\n",
       "  </tbody>\n",
       "</table>\n",
       "<p>5 rows × 31 columns</p>\n",
       "</div>"
      ],
      "text/plain": [
       "             left-x  left-y  right-x  right-y  nose-x  nose-y  speaker  \\\n",
       "video frame                                                              \n",
       "98    0         149     181      170      175     161      62  woman-1   \n",
       "      1         149     181      170      175     161      62  woman-1   \n",
       "      2         149     181      170      175     161      62  woman-1   \n",
       "      3         149     181      170      175     161      62  woman-1   \n",
       "      4         149     181      170      175     161      62  woman-1   \n",
       "\n",
       "             grnd-ry  grnd-rx  grnd-ly    ...      norm-lx   norm-ly  \\\n",
       "video frame                               ...                          \n",
       "98    0          113        9      119    ...    -0.891199  0.741835   \n",
       "      1          113        9      119    ...    -0.891199  0.741835   \n",
       "      2          113        9      119    ...    -0.891199  0.741835   \n",
       "      3          113        9      119    ...    -0.891199  0.741835   \n",
       "      4          113        9      119    ...    -0.891199  0.741835   \n",
       "\n",
       "              polar-rr  polar-rtheta    polar-lr  polar-ltheta  delta-rx  \\\n",
       "video frame                                                                \n",
       "98    0      113.35784      0.079395  119.603512     -0.100332       0.0   \n",
       "      1      113.35784      0.079395  119.603512     -0.100332       0.0   \n",
       "      2      113.35784      0.079395  119.603512     -0.100332       0.0   \n",
       "      3      113.35784      0.079395  119.603512     -0.100332       0.0   \n",
       "      4      113.35784      0.079395  119.603512     -0.100332       0.0   \n",
       "\n",
       "             delta-ry  delta-lx  delta-ly  \n",
       "video frame                                \n",
       "98    0           0.0       0.0       0.0  \n",
       "      1           0.0       0.0       0.0  \n",
       "      2           0.0       0.0       0.0  \n",
       "      3           0.0       0.0       0.0  \n",
       "      4           0.0       0.0       0.0  \n",
       "\n",
       "[5 rows x 31 columns]"
      ]
     },
     "execution_count": 19,
     "metadata": {},
     "output_type": "execute_result"
    }
   ],
   "source": [
    "# TODO add features for left, right, x, y differences by one time step, i.e. the \"delta\" values discussed in the lecture\n",
    "# Name these 'delta-rx', 'delta-ry', 'delta-lx', and 'delta-ly'\n",
    "def frame_difference(f):\n",
    "    return f.diff().fillna(0, None, 0, False, None, None)\n",
    "\n",
    "features_r_l = ['right-x', 'right-y', 'left-x', 'left-y']\n",
    "\n",
    "# Features representing the difference in values between one frame and the next frames \n",
    "features_delta = ['delta-rx', 'delta-ry', 'delta-lx', 'delta-ly']\n",
    "\n",
    "for f_index, f_val in enumerate(features_delta):\n",
    "    asl.df[f_val] = frame_difference(asl.df[features_r_l[f_index]])\n",
    "\n",
    "asl.df.head()\n"
   ]
  },
  {
   "cell_type": "code",
   "execution_count": 20,
   "metadata": {
    "collapsed": false,
    "deletable": true,
    "editable": true
   },
   "outputs": [
    {
     "data": {
      "text/html": [
       "<div>\n",
       "<table border=\"1\" class=\"dataframe\">\n",
       "  <thead>\n",
       "    <tr style=\"text-align: right;\">\n",
       "      <th></th>\n",
       "      <th></th>\n",
       "      <th>left-x</th>\n",
       "      <th>left-y</th>\n",
       "      <th>right-x</th>\n",
       "      <th>right-y</th>\n",
       "      <th>nose-x</th>\n",
       "      <th>nose-y</th>\n",
       "      <th>speaker</th>\n",
       "      <th>grnd-ry</th>\n",
       "      <th>grnd-rx</th>\n",
       "      <th>grnd-ly</th>\n",
       "      <th>...</th>\n",
       "      <th>right-x-rescaled</th>\n",
       "      <th>right-y-max</th>\n",
       "      <th>right-y-min</th>\n",
       "      <th>right-y-rescaled</th>\n",
       "      <th>left-x-max</th>\n",
       "      <th>left-x-min</th>\n",
       "      <th>left-x-rescaled</th>\n",
       "      <th>left-y-max</th>\n",
       "      <th>left-y-min</th>\n",
       "      <th>left-y-rescaled</th>\n",
       "    </tr>\n",
       "    <tr>\n",
       "      <th>video</th>\n",
       "      <th>frame</th>\n",
       "      <th></th>\n",
       "      <th></th>\n",
       "      <th></th>\n",
       "      <th></th>\n",
       "      <th></th>\n",
       "      <th></th>\n",
       "      <th></th>\n",
       "      <th></th>\n",
       "      <th></th>\n",
       "      <th></th>\n",
       "      <th></th>\n",
       "      <th></th>\n",
       "      <th></th>\n",
       "      <th></th>\n",
       "      <th></th>\n",
       "      <th></th>\n",
       "      <th></th>\n",
       "      <th></th>\n",
       "      <th></th>\n",
       "      <th></th>\n",
       "      <th></th>\n",
       "    </tr>\n",
       "  </thead>\n",
       "  <tbody>\n",
       "    <tr>\n",
       "      <th rowspan=\"5\" valign=\"top\">98</th>\n",
       "      <th>0</th>\n",
       "      <td>149</td>\n",
       "      <td>181</td>\n",
       "      <td>170</td>\n",
       "      <td>175</td>\n",
       "      <td>161</td>\n",
       "      <td>62</td>\n",
       "      <td>woman-1</td>\n",
       "      <td>113</td>\n",
       "      <td>9</td>\n",
       "      <td>119</td>\n",
       "      <td>...</td>\n",
       "      <td>0.683761</td>\n",
       "      <td>124</td>\n",
       "      <td>-17</td>\n",
       "      <td>0.921986</td>\n",
       "      <td>70</td>\n",
       "      <td>-27</td>\n",
       "      <td>0.154639</td>\n",
       "      <td>137</td>\n",
       "      <td>31</td>\n",
       "      <td>0.830189</td>\n",
       "    </tr>\n",
       "    <tr>\n",
       "      <th>1</th>\n",
       "      <td>149</td>\n",
       "      <td>181</td>\n",
       "      <td>170</td>\n",
       "      <td>175</td>\n",
       "      <td>161</td>\n",
       "      <td>62</td>\n",
       "      <td>woman-1</td>\n",
       "      <td>113</td>\n",
       "      <td>9</td>\n",
       "      <td>119</td>\n",
       "      <td>...</td>\n",
       "      <td>0.683761</td>\n",
       "      <td>124</td>\n",
       "      <td>-17</td>\n",
       "      <td>0.921986</td>\n",
       "      <td>70</td>\n",
       "      <td>-27</td>\n",
       "      <td>0.154639</td>\n",
       "      <td>137</td>\n",
       "      <td>31</td>\n",
       "      <td>0.830189</td>\n",
       "    </tr>\n",
       "    <tr>\n",
       "      <th>2</th>\n",
       "      <td>149</td>\n",
       "      <td>181</td>\n",
       "      <td>170</td>\n",
       "      <td>175</td>\n",
       "      <td>161</td>\n",
       "      <td>62</td>\n",
       "      <td>woman-1</td>\n",
       "      <td>113</td>\n",
       "      <td>9</td>\n",
       "      <td>119</td>\n",
       "      <td>...</td>\n",
       "      <td>0.683761</td>\n",
       "      <td>124</td>\n",
       "      <td>-17</td>\n",
       "      <td>0.921986</td>\n",
       "      <td>70</td>\n",
       "      <td>-27</td>\n",
       "      <td>0.154639</td>\n",
       "      <td>137</td>\n",
       "      <td>31</td>\n",
       "      <td>0.830189</td>\n",
       "    </tr>\n",
       "    <tr>\n",
       "      <th>3</th>\n",
       "      <td>149</td>\n",
       "      <td>181</td>\n",
       "      <td>170</td>\n",
       "      <td>175</td>\n",
       "      <td>161</td>\n",
       "      <td>62</td>\n",
       "      <td>woman-1</td>\n",
       "      <td>113</td>\n",
       "      <td>9</td>\n",
       "      <td>119</td>\n",
       "      <td>...</td>\n",
       "      <td>0.683761</td>\n",
       "      <td>124</td>\n",
       "      <td>-17</td>\n",
       "      <td>0.921986</td>\n",
       "      <td>70</td>\n",
       "      <td>-27</td>\n",
       "      <td>0.154639</td>\n",
       "      <td>137</td>\n",
       "      <td>31</td>\n",
       "      <td>0.830189</td>\n",
       "    </tr>\n",
       "    <tr>\n",
       "      <th>4</th>\n",
       "      <td>149</td>\n",
       "      <td>181</td>\n",
       "      <td>170</td>\n",
       "      <td>175</td>\n",
       "      <td>161</td>\n",
       "      <td>62</td>\n",
       "      <td>woman-1</td>\n",
       "      <td>113</td>\n",
       "      <td>9</td>\n",
       "      <td>119</td>\n",
       "      <td>...</td>\n",
       "      <td>0.683761</td>\n",
       "      <td>124</td>\n",
       "      <td>-17</td>\n",
       "      <td>0.921986</td>\n",
       "      <td>70</td>\n",
       "      <td>-27</td>\n",
       "      <td>0.154639</td>\n",
       "      <td>137</td>\n",
       "      <td>31</td>\n",
       "      <td>0.830189</td>\n",
       "    </tr>\n",
       "  </tbody>\n",
       "</table>\n",
       "<p>5 rows × 43 columns</p>\n",
       "</div>"
      ],
      "text/plain": [
       "             left-x  left-y  right-x  right-y  nose-x  nose-y  speaker  \\\n",
       "video frame                                                              \n",
       "98    0         149     181      170      175     161      62  woman-1   \n",
       "      1         149     181      170      175     161      62  woman-1   \n",
       "      2         149     181      170      175     161      62  woman-1   \n",
       "      3         149     181      170      175     161      62  woman-1   \n",
       "      4         149     181      170      175     161      62  woman-1   \n",
       "\n",
       "             grnd-ry  grnd-rx  grnd-ly       ...         right-x-rescaled  \\\n",
       "video frame                                  ...                            \n",
       "98    0          113        9      119       ...                 0.683761   \n",
       "      1          113        9      119       ...                 0.683761   \n",
       "      2          113        9      119       ...                 0.683761   \n",
       "      3          113        9      119       ...                 0.683761   \n",
       "      4          113        9      119       ...                 0.683761   \n",
       "\n",
       "             right-y-max  right-y-min  right-y-rescaled  left-x-max  \\\n",
       "video frame                                                           \n",
       "98    0              124          -17          0.921986          70   \n",
       "      1              124          -17          0.921986          70   \n",
       "      2              124          -17          0.921986          70   \n",
       "      3              124          -17          0.921986          70   \n",
       "      4              124          -17          0.921986          70   \n",
       "\n",
       "             left-x-min  left-x-rescaled  left-y-max  left-y-min  \\\n",
       "video frame                                                        \n",
       "98    0             -27         0.154639         137          31   \n",
       "      1             -27         0.154639         137          31   \n",
       "      2             -27         0.154639         137          31   \n",
       "      3             -27         0.154639         137          31   \n",
       "      4             -27         0.154639         137          31   \n",
       "\n",
       "             left-y-rescaled  \n",
       "video frame                   \n",
       "98    0             0.830189  \n",
       "      1             0.830189  \n",
       "      2             0.830189  \n",
       "      3             0.830189  \n",
       "      4             0.830189  \n",
       "\n",
       "[5 rows x 43 columns]"
      ]
     },
     "execution_count": 20,
     "metadata": {},
     "output_type": "execute_result"
    }
   ],
   "source": [
    "#https://github.com/ltfschoen/AIND-Recognizer/blob/master/asl_recognizer.ipynb\n",
    "\n",
    "# TODO add features of your own design, which may be a combination of the above or something else\n",
    "# Name these whatever you would like\n",
    "\n",
<<<<<<< HEAD
    "# TODO define a list named 'features_custom' for building the training set\n",
    "\n",
    "\n",
    "# Rescaling the range of features to scale to the range in [0, 1] or [-1, 1]\n",
    "# using the Feature Scaling equation to normalise:\n",
    "#\n",
    "#   normalised = orig - min(orig) / max(orig) - min(orig)\n",
    "#\n",
    "def rescale(orig, min, max):\n",
    "    return (orig - min) / (max - min)\n",
    "\n",
    "df_max = asl.df.groupby('speaker').max()\n",
    "df_min = asl.df.groupby('speaker').min()\n",
    "\n",
    "# Differences between hand and nose locations (see previous task where calculated)\n",
    "features_ground = ['grnd-rx', 'grnd-ry', 'grnd-lx', 'grnd-ly']\n",
    "\n",
    "# Features representing the Max and Min \n",
    "features_max = ['right-x-max', 'right-y-max', 'left-x-max', 'left-y-max']\n",
    "features_min = ['right-x-min', 'right-y-min', 'left-x-min', 'left-y-min']\n",
    "\n",
    "features_rescaled = ['right-x-rescaled', 'right-y-rescaled', 'left-x-rescaled', 'left-y-rescaled']\n",
    "\n",
    "for f_index, f_val in enumerate(features_ground):\n",
    "\n",
    "    # Map the Max and Min onto the data\n",
    "    asl.df[features_max[f_index]] = asl.df['speaker'].map(df_max[f_val], na_action=None)\n",
    "    asl.df[features_min[f_index]] = asl.df['speaker'].map(df_min[f_val], na_action=None)\n",
    "    \n",
    "    # Normalise by rescaling using the Feature Scaling equation\n",
    "    asl.df[features_rescaled[f_index]] = rescale(asl.df[f_val],\n",
    "                                               asl.df[features_min[f_index]],\n",
    "                                               asl.df[features_max[f_index]])\n",
    "\n",
    "# DONE define list named 'features_custom' for building the training set\n",
    "features_custom = ['right-x-rescaling', 'right-y-rescaling',  'left-x-rescaling', 'left-y-rescaling']\n",
    "\n",
    "asl.df.head()\n"
=======
    "# TODO define a list named 'features_custom' for building the training set"
>>>>>>> e8e4bd3aa2580fad74803250b1c6bbfd1c9db313
>>>>>>> 323a24dbdb4e1d6bd819926a1baab17f95ae76b8
   ]
  },
  {
   "cell_type": "markdown",
<<<<<<< HEAD
=======
<<<<<<< HEAD
=======
<<<<<<< HEAD
>>>>>>> e8e4bd3aa2580fad74803250b1c6bbfd1c9db313
>>>>>>> 323a24dbdb4e1d6bd819926a1baab17f95ae76b8
   "metadata": {
    "deletable": true,
    "editable": true
   },
<<<<<<< HEAD
   "source": [
    "**Question 1:**  What custom features did you choose for the features_custom set and why?\n",
    "\n",
    "**Answer 1:** The custom feature chosen for the features_custom was to rescale the features into a lower range between 0 and 1 for the Cartesian coordinates x and y use the Feature Scaling equation to achieve the normalisation.\n",
    "The benefits of rescaling are that interpretation and analysis of plotted data becomes easier. In stochastic environments such as the one we are using, rescaling is known to improve the convergence speed of gradient-descent. We are using similar gradient-based optimisation methods such as the iterative Baum-Welch algorithm (aka Expectation-Maximization (EM) algorithm) to solve the third fundamental problem of HMMs by estimating the model parameters given just the observed data. Rescaling is therefore important since HMMs already have a large vocabulary of signs and use a lot of memory."
=======
<<<<<<< HEAD
   "source": [
    "**Question 1:**  What custom features did you choose for the features_custom set and why?\n",
    "\n",
    "**Answer 1:** The custom feature chosen for the features_custom was to rescale the features into a lower range between 0 and 1 for the Cartesian coordinates x and y use the Feature Scaling equation to achieve the normalisation.\n",
    "The benefits of rescaling are that interpretation and analysis of plotted data becomes easier. In stochastic environments such as the one we are using, rescaling is known to improve the convergence speed of gradient-descent. We are using similar gradient-based optimisation methods such as the iterative Baum-Welch algorithm (aka Expectation-Maximization (EM) algorithm) to solve the third fundamental problem of HMMs by estimating the model parameters given just the observed data. Rescaling is therefore important since HMMs already have a large vocabulary of signs and use a lot of memory."
=======
=======
   "metadata": {},
>>>>>>> a787ccfe89997bb7396bf29ed95a3090da712e13
   "source": [
    "**Question 1:**  What custom features did you choose for the features_custom set and why?\n",
    "\n",
    "**Answer 1:**"
>>>>>>> e8e4bd3aa2580fad74803250b1c6bbfd1c9db313
>>>>>>> 323a24dbdb4e1d6bd819926a1baab17f95ae76b8
   ]
  },
  {
   "cell_type": "markdown",
<<<<<<< HEAD
=======
<<<<<<< HEAD
=======
<<<<<<< HEAD
>>>>>>> e8e4bd3aa2580fad74803250b1c6bbfd1c9db313
>>>>>>> 323a24dbdb4e1d6bd819926a1baab17f95ae76b8
   "metadata": {
    "deletable": true,
    "editable": true
   },
<<<<<<< HEAD
=======
<<<<<<< HEAD
=======
=======
   "metadata": {},
>>>>>>> a787ccfe89997bb7396bf29ed95a3090da712e13
>>>>>>> e8e4bd3aa2580fad74803250b1c6bbfd1c9db313
>>>>>>> 323a24dbdb4e1d6bd819926a1baab17f95ae76b8
   "source": [
    "<a id='part1_test'></a>\n",
    "### Features Unit Testing\n",
    "Run the following unit tests as a sanity check on the defined \"ground\", \"norm\", \"polar\", and 'delta\"\n",
    "feature sets.  The test simply looks for some valid values but is not exhaustive.  However, the project should not be submitted if these tests don't pass."
   ]
  },
  {
   "cell_type": "code",
<<<<<<< HEAD
   "execution_count": 21,
=======
<<<<<<< HEAD
   "execution_count": 17,
   "metadata": {
    "collapsed": false,
    "deletable": true,
    "editable": true
   },
   "outputs": [
    {
     "name": "stderr",
     "output_type": "stream",
     "text": [
      "....\n",
      "----------------------------------------------------------------------\n",
      "Ran 4 tests in 0.010s\n",
      "\n",
      "OK\n"
     ]
    },
    {
     "data": {
      "text/plain": [
       "<unittest.runner.TextTestResult run=4 errors=0 failures=0>"
      ]
     },
     "execution_count": 17,
     "metadata": {},
     "output_type": "execute_result"
    }
   ],
=======
   "execution_count": null,
>>>>>>> 323a24dbdb4e1d6bd819926a1baab17f95ae76b8
   "metadata": {
    "collapsed": false,
    "deletable": true,
    "editable": true
   },
<<<<<<< HEAD
   "outputs": [
    {
     "name": "stderr",
     "output_type": "stream",
     "text": [
      "....\n",
      "----------------------------------------------------------------------\n",
      "Ran 4 tests in 0.011s\n",
      "\n",
      "OK\n"
     ]
    },
    {
     "data": {
      "text/plain": [
       "<unittest.runner.TextTestResult run=4 errors=0 failures=0>"
      ]
     },
     "execution_count": 21,
     "metadata": {},
     "output_type": "execute_result"
    }
   ],
=======
   "outputs": [],
>>>>>>> e8e4bd3aa2580fad74803250b1c6bbfd1c9db313
>>>>>>> 323a24dbdb4e1d6bd819926a1baab17f95ae76b8
   "source": [
    "import unittest\n",
    "# import numpy as np\n",
    "\n",
    "class TestFeatures(unittest.TestCase):\n",
    "\n",
    "    def test_features_ground(self):\n",
    "        sample = (asl.df.ix[98, 1][features_ground]).tolist()\n",
    "        self.assertEqual(sample, [9, 113, -12, 119])\n",
    "\n",
    "    def test_features_norm(self):\n",
    "        sample = (asl.df.ix[98, 1][features_norm]).tolist()\n",
    "        np.testing.assert_almost_equal(sample, [ 1.153,  1.663, -0.891,  0.742], 3)\n",
    "\n",
    "    def test_features_polar(self):\n",
    "        sample = (asl.df.ix[98,1][features_polar]).tolist()\n",
    "        np.testing.assert_almost_equal(sample, [113.3578, 0.0794, 119.603, -0.1005], 3)\n",
    "\n",
    "    def test_features_delta(self):\n",
    "        sample = (asl.df.ix[98, 0][features_delta]).tolist()\n",
    "        self.assertEqual(sample, [0, 0, 0, 0])\n",
    "        sample = (asl.df.ix[98, 18][features_delta]).tolist()\n",
    "        self.assertTrue(sample in [[-16, -5, -2, 4], [-14, -9, 0, 0]], \"Sample value found was {}\".format(sample))\n",
    "                         \n",
    "suite = unittest.TestLoader().loadTestsFromModule(TestFeatures())\n",
    "unittest.TextTestRunner().run(suite)"
   ]
  },
  {
   "cell_type": "markdown",
   "metadata": {
    "collapsed": true,
    "deletable": true,
    "editable": true
<<<<<<< HEAD
=======
=======
<<<<<<< HEAD
    "collapsed": true,
    "deletable": true,
    "editable": true
=======
    "collapsed": true
>>>>>>> a787ccfe89997bb7396bf29ed95a3090da712e13
>>>>>>> e8e4bd3aa2580fad74803250b1c6bbfd1c9db313
>>>>>>> 323a24dbdb4e1d6bd819926a1baab17f95ae76b8
   },
   "source": [
    "<a id='part2_tutorial'></a>\n",
    "## PART 2: Model Selection\n",
    "### Model Selection Tutorial\n",
    "The objective of Model Selection is to tune the number of states for each word HMM prior to testing on unseen data.  In this section you will explore three methods: \n",
    "- Log likelihood using cross-validation folds (CV)\n",
    "- Bayesian Information Criterion (BIC)\n",
    "- Discriminative Information Criterion (DIC) "
   ]
  },
  {
   "cell_type": "markdown",
<<<<<<< HEAD
=======
<<<<<<< HEAD
=======
<<<<<<< HEAD
>>>>>>> e8e4bd3aa2580fad74803250b1c6bbfd1c9db313
>>>>>>> 323a24dbdb4e1d6bd819926a1baab17f95ae76b8
   "metadata": {
    "deletable": true,
    "editable": true
   },
<<<<<<< HEAD
=======
<<<<<<< HEAD
=======
=======
   "metadata": {},
>>>>>>> a787ccfe89997bb7396bf29ed95a3090da712e13
>>>>>>> e8e4bd3aa2580fad74803250b1c6bbfd1c9db313
>>>>>>> 323a24dbdb4e1d6bd819926a1baab17f95ae76b8
   "source": [
    "##### Train a single word\n",
    "Now that we have built a training set with sequence data, we can \"train\" models for each word.  As a simple starting example, we train a single word using Gaussian hidden Markov models (HMM).   By using the `fit` method during training, the [Baum-Welch Expectation-Maximization](https://en.wikipedia.org/wiki/Baum%E2%80%93Welch_algorithm) (EM) algorithm is invoked iteratively to find the best estimate for the model *for the number of hidden states specified* from a group of sample seequences. For this example, we *assume* the correct number of hidden states is 3, but that is just a guess.  How do we know what the \"best\" number of states for training is?  We will need to find some model selection technique to choose the best parameter."
   ]
  },
  {
   "cell_type": "code",
<<<<<<< HEAD
   "execution_count": 24,
=======
<<<<<<< HEAD
   "execution_count": 18,
   "metadata": {
    "collapsed": false,
    "deletable": true,
    "editable": true
   },
   "outputs": [
    {
     "name": "stdout",
     "output_type": "stream",
     "text": [
      "Number of states trained in model for BOOK is 3\n",
      "logL = -2331.1138127433187\n"
     ]
    }
   ],
=======
   "execution_count": null,
>>>>>>> 323a24dbdb4e1d6bd819926a1baab17f95ae76b8
   "metadata": {
    "collapsed": false,
    "deletable": true,
    "editable": true
   },
<<<<<<< HEAD
   "outputs": [
    {
     "name": "stdout",
     "output_type": "stream",
     "text": [
      "Number of states trained in model for BOOK is 3\n",
      "logL = -2331.11381274332\n"
     ]
    }
   ],
=======
   "outputs": [],
>>>>>>> e8e4bd3aa2580fad74803250b1c6bbfd1c9db313
>>>>>>> 323a24dbdb4e1d6bd819926a1baab17f95ae76b8
   "source": [
    "import warnings\n",
    "from hmmlearn.hmm import GaussianHMM\n",
    "\n",
    "def train_a_word(word, num_hidden_states, features):\n",
    "    \n",
    "    warnings.filterwarnings(\"ignore\", category=DeprecationWarning)\n",
    "    training = asl.build_training(features)  \n",
    "    X, lengths = training.get_word_Xlengths(word)\n",
    "    model = GaussianHMM(n_components=num_hidden_states, n_iter=1000).fit(X, lengths)\n",
    "    logL = model.score(X, lengths)\n",
    "    return model, logL\n",
    "\n",
    "demoword = 'BOOK'\n",
    "model, logL = train_a_word(demoword, 3, features_ground)\n",
    "print(\"Number of states trained in model for {} is {}\".format(demoword, model.n_components))\n",
    "print(\"logL = {}\".format(logL))"
   ]
  },
  {
   "cell_type": "markdown",
<<<<<<< HEAD
=======
<<<<<<< HEAD
=======
<<<<<<< HEAD
>>>>>>> e8e4bd3aa2580fad74803250b1c6bbfd1c9db313
>>>>>>> 323a24dbdb4e1d6bd819926a1baab17f95ae76b8
   "metadata": {
    "deletable": true,
    "editable": true
   },
<<<<<<< HEAD
=======
<<<<<<< HEAD
=======
=======
   "metadata": {},
>>>>>>> a787ccfe89997bb7396bf29ed95a3090da712e13
>>>>>>> e8e4bd3aa2580fad74803250b1c6bbfd1c9db313
>>>>>>> 323a24dbdb4e1d6bd819926a1baab17f95ae76b8
   "source": [
    "The HMM model has been trained and information can be pulled from the model, including means and variances for each feature and hidden state.  The [log likelihood](http://math.stackexchange.com/questions/892832/why-we-consider-log-likelihood-instead-of-likelihood-in-gaussian-distribution) for any individual sample or group of samples can also be calculated with the `score` method."
   ]
  },
  {
   "cell_type": "code",
<<<<<<< HEAD
   "execution_count": 25,
=======
<<<<<<< HEAD
   "execution_count": 19,
   "metadata": {
    "collapsed": false,
    "deletable": true,
    "editable": true
   },
   "outputs": [
    {
     "name": "stdout",
     "output_type": "stream",
     "text": [
      "Number of states trained in model for BOOK is 3\n",
      "hidden state #0\n",
      "mean =  [ -11.45300909   94.109178     19.03512475  102.2030162 ]\n",
      "variance =  [  77.403668    203.35441965   26.68898447  156.12444034]\n",
      "\n",
      "hidden state #1\n",
      "mean =  [ -3.46504869  50.66686933  14.02391587  52.04731066]\n",
      "variance =  [ 49.12346305  43.04799144  39.35109609  47.24195772]\n",
      "\n",
      "hidden state #2\n",
      "mean =  [ -1.12415027  69.44164191  17.02866283  77.7231196 ]\n",
      "variance =  [ 19.70434594  16.83041492  30.51552305  11.03678246]\n",
      "\n"
     ]
    }
   ],
=======
   "execution_count": null,
>>>>>>> 323a24dbdb4e1d6bd819926a1baab17f95ae76b8
   "metadata": {
    "collapsed": false,
    "deletable": true,
    "editable": true
   },
<<<<<<< HEAD
   "outputs": [
    {
     "name": "stdout",
     "output_type": "stream",
     "text": [
      "Number of states trained in model for BOOK is 3\n",
      "hidden state #0\n",
      "mean =  [ -3.46504869  50.66686933  14.02391587  52.04731066]\n",
      "variance =  [ 49.12346305  43.04799144  39.35109609  47.24195772]\n",
      "\n",
      "hidden state #1\n",
      "mean =  [ -11.45300909   94.109178     19.03512475  102.2030162 ]\n",
      "variance =  [  77.403668    203.35441965   26.68898447  156.12444034]\n",
      "\n",
      "hidden state #2\n",
      "mean =  [ -1.12415027  69.44164191  17.02866283  77.7231196 ]\n",
      "variance =  [ 19.70434594  16.83041492  30.51552305  11.03678246]\n",
      "\n"
     ]
    }
   ],
=======
   "outputs": [],
>>>>>>> e8e4bd3aa2580fad74803250b1c6bbfd1c9db313
>>>>>>> 323a24dbdb4e1d6bd819926a1baab17f95ae76b8
   "source": [
    "def show_model_stats(word, model):\n",
    "    print(\"Number of states trained in model for {} is {}\".format(word, model.n_components))    \n",
    "    variance=np.array([np.diag(model.covars_[i]) for i in range(model.n_components)])    \n",
    "    for i in range(model.n_components):  # for each hidden state\n",
    "        print(\"hidden state #{}\".format(i))\n",
    "        print(\"mean = \", model.means_[i])\n",
    "        print(\"variance = \", variance[i])\n",
    "        print()\n",
    "    \n",
    "show_model_stats(demoword, model)"
   ]
  },
  {
   "cell_type": "markdown",
<<<<<<< HEAD
=======
<<<<<<< HEAD
=======
<<<<<<< HEAD
>>>>>>> e8e4bd3aa2580fad74803250b1c6bbfd1c9db313
>>>>>>> 323a24dbdb4e1d6bd819926a1baab17f95ae76b8
   "metadata": {
    "deletable": true,
    "editable": true
   },
<<<<<<< HEAD
=======
<<<<<<< HEAD
=======
=======
   "metadata": {},
>>>>>>> a787ccfe89997bb7396bf29ed95a3090da712e13
>>>>>>> e8e4bd3aa2580fad74803250b1c6bbfd1c9db313
>>>>>>> 323a24dbdb4e1d6bd819926a1baab17f95ae76b8
   "source": [
    "##### Try it!\n",
    "Experiment by changing the feature set, word, and/or num_hidden_states values in the next cell to see changes in values.  "
   ]
  },
  {
   "cell_type": "code",
<<<<<<< HEAD
   "execution_count": 26,
=======
<<<<<<< HEAD
   "execution_count": 20,
   "metadata": {
    "collapsed": false,
    "deletable": true,
    "editable": true
   },
   "outputs": [
    {
     "name": "stdout",
     "output_type": "stream",
     "text": [
      "Number of states trained in model for CHOCOLATE is 3\n",
      "hidden state #0\n",
      "mean =  [ -5.40587658  60.1652424    2.32479599  91.3095432 ]\n",
      "variance =  [   7.95073876   64.13103127   13.68077479  129.5912395 ]\n",
      "\n",
      "hidden state #1\n",
      "mean =  [ -9.30211403  55.32333876   6.92259936  71.24057775]\n",
      "variance =  [ 16.16920957  46.50917372   3.81388185  15.79446427]\n",
      "\n",
      "hidden state #2\n",
      "mean =  [   0.58333333   87.91666667   12.75        108.5       ]\n",
      "variance =  [  39.41055556   18.74388889    9.855       144.4175    ]\n",
      "\n",
      "logL = -601.3291470028624\n"
     ]
    }
   ],
=======
   "execution_count": null,
>>>>>>> 323a24dbdb4e1d6bd819926a1baab17f95ae76b8
   "metadata": {
    "collapsed": false,
    "deletable": true,
    "editable": true
   },
<<<<<<< HEAD
   "outputs": [
    {
     "name": "stdout",
     "output_type": "stream",
     "text": [
      "Number of states trained in model for CHOCOLATE is 3\n",
      "hidden state #0\n",
      "mean =  [ -9.30211403  55.32333876   6.92259936  71.24057775]\n",
      "variance =  [ 16.16920957  46.50917372   3.81388185  15.79446427]\n",
      "\n",
      "hidden state #1\n",
      "mean =  [   0.58333333   87.91666667   12.75        108.5       ]\n",
      "variance =  [  39.41055556   18.74388889    9.855       144.4175    ]\n",
      "\n",
      "hidden state #2\n",
      "mean =  [ -5.40587658  60.1652424    2.32479599  91.3095432 ]\n",
      "variance =  [   7.95073876   64.13103127   13.68077479  129.5912395 ]\n",
      "\n",
      "logL = -601.3291470028624\n"
     ]
    }
   ],
=======
   "outputs": [],
>>>>>>> e8e4bd3aa2580fad74803250b1c6bbfd1c9db313
>>>>>>> 323a24dbdb4e1d6bd819926a1baab17f95ae76b8
   "source": [
    "my_testword = 'CHOCOLATE'\n",
    "model, logL = train_a_word(my_testword, 3, features_ground) # Experiment here with different parameters\n",
    "show_model_stats(my_testword, model)\n",
    "print(\"logL = {}\".format(logL))"
   ]
  },
  {
   "cell_type": "markdown",
<<<<<<< HEAD
=======
<<<<<<< HEAD
=======
<<<<<<< HEAD
>>>>>>> e8e4bd3aa2580fad74803250b1c6bbfd1c9db313
>>>>>>> 323a24dbdb4e1d6bd819926a1baab17f95ae76b8
   "metadata": {
    "deletable": true,
    "editable": true
   },
<<<<<<< HEAD
=======
<<<<<<< HEAD
=======
=======
   "metadata": {},
>>>>>>> a787ccfe89997bb7396bf29ed95a3090da712e13
>>>>>>> e8e4bd3aa2580fad74803250b1c6bbfd1c9db313
>>>>>>> 323a24dbdb4e1d6bd819926a1baab17f95ae76b8
   "source": [
    "##### Visualize the hidden states\n",
    "We can plot the means and variances for each state and feature.  Try varying the number of states trained for the HMM model and examine the variances.  Are there some models that are \"better\" than others?  How can you tell?  We would like to hear what you think in the classroom online."
   ]
  },
  {
   "cell_type": "code",
<<<<<<< HEAD
   "execution_count": 27,
=======
<<<<<<< HEAD
   "execution_count": 21,
   "metadata": {
    "collapsed": false,
    "deletable": true,
    "editable": true
=======
   "execution_count": null,
>>>>>>> 323a24dbdb4e1d6bd819926a1baab17f95ae76b8
   "metadata": {
    "collapsed": false,
    "deletable": true,
    "editable": true
<<<<<<< HEAD
=======
=======
    "collapsed": false
>>>>>>> a787ccfe89997bb7396bf29ed95a3090da712e13
>>>>>>> e8e4bd3aa2580fad74803250b1c6bbfd1c9db313
>>>>>>> 323a24dbdb4e1d6bd819926a1baab17f95ae76b8
   },
   "outputs": [],
   "source": [
    "%matplotlib inline"
   ]
  },
  {
   "cell_type": "code",
<<<<<<< HEAD
   "execution_count": 28,
=======
<<<<<<< HEAD
   "execution_count": 22,
   "metadata": {
    "collapsed": false,
    "deletable": true,
    "editable": true
   },
   "outputs": [
    {
     "data": {
      "image/png": "iVBORw0KGgoAAAANSUhEUgAAAhIAAAFyCAYAAACgITN4AAAABHNCSVQICAgIfAhkiAAAAAlwSFlz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\nDMMwDMPImP8HbnbVi2c5iDEAAAAASUVORK5CYII=\n",
      "text/plain": [
       "<matplotlib.figure.Figure at 0x109d82ac8>"
      ]
     },
     "metadata": {},
     "output_type": "display_data"
    },
    {
     "data": {
      "image/png": "iVBORw0KGgoAAAANSUhEUgAAAhYAAAFyCAYAAACpypMCAAAABHNCSVQICAgIfAhkiAAAAAlwSFlz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\nKpXJ9cS49ecAAAAASUVORK5CYII=\n",
      "text/plain": [
       "<matplotlib.figure.Figure at 0x109e86be0>"
      ]
     },
     "metadata": {},
     "output_type": "display_data"
    },
    {
     "data": {
      "image/png": "iVBORw0KGgoAAAANSUhEUgAAAhIAAAFyCAYAAACgITN4AAAABHNCSVQICAgIfAhkiAAAAAlwSFlz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\noVInDxB7PQAAAABJRU5ErkJggg==\n",
      "text/plain": [
       "<matplotlib.figure.Figure at 0x109f37ef0>"
      ]
     },
     "metadata": {},
     "output_type": "display_data"
    },
    {
     "data": {
      "image/png": "iVBORw0KGgoAAAANSUhEUgAAAh8AAAFyCAYAAABV37jIAAAABHNCSVQICAgIfAhkiAAAAAlwSFlz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\nrkJggg==\n",
      "text/plain": [
       "<matplotlib.figure.Figure at 0x10a04f390>"
      ]
     },
     "metadata": {},
     "output_type": "display_data"
    }
   ],
=======
   "execution_count": null,
>>>>>>> 323a24dbdb4e1d6bd819926a1baab17f95ae76b8
   "metadata": {
    "collapsed": false,
    "deletable": true,
    "editable": true
   },
<<<<<<< HEAD
   "outputs": [
    {
     "data": {
      "image/png": "iVBORw0KGgoAAAANSUhEUgAAAhIAAAFyCAYAAACgITN4AAAABHNCSVQICAgIfAhkiAAAAAlwSFlz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\nYRhZYwMJwzAMwzCy5v8B0eqNCcduvNQAAAAASUVORK5CYII=\n",
      "text/plain": [
       "<matplotlib.figure.Figure at 0x112530160>"
      ]
     },
     "metadata": {},
     "output_type": "display_data"
    },
    {
     "data": {
      "image/png": "iVBORw0KGgoAAAANSUhEUgAAAhYAAAFyCAYAAACpypMCAAAABHNCSVQICAgIfAhkiAAAAAlwSFlz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\nAElFTkSuQmCC\n",
      "text/plain": [
       "<matplotlib.figure.Figure at 0x11262b2b0>"
      ]
     },
     "metadata": {},
     "output_type": "display_data"
    },
    {
     "data": {
      "image/png": "iVBORw0KGgoAAAANSUhEUgAAAhIAAAFyCAYAAACgITN4AAAABHNCSVQICAgIfAhkiAAAAAlwSFlz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\nAAAASUVORK5CYII=\n",
      "text/plain": [
       "<matplotlib.figure.Figure at 0x11271b208>"
      ]
     },
     "metadata": {},
     "output_type": "display_data"
    },
    {
     "data": {
      "image/png": "iVBORw0KGgoAAAANSUhEUgAAAh8AAAFyCAYAAABV37jIAAAABHNCSVQICAgIfAhkiAAAAAlwSFlz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\n+ODDcRzHcZyC8v8BVsAWBrTnXTUAAAAASUVORK5CYII=\n",
      "text/plain": [
       "<matplotlib.figure.Figure at 0x1127f2588>"
      ]
     },
     "metadata": {},
     "output_type": "display_data"
    }
   ],
=======
   "outputs": [],
>>>>>>> e8e4bd3aa2580fad74803250b1c6bbfd1c9db313
>>>>>>> 323a24dbdb4e1d6bd819926a1baab17f95ae76b8
   "source": [
    "import math\n",
    "from matplotlib import (cm, pyplot as plt, mlab)\n",
    "\n",
    "def visualize(word, model):\n",
    "    \"\"\" visualize the input model for a particular word \"\"\"\n",
    "    variance=np.array([np.diag(model.covars_[i]) for i in range(model.n_components)])\n",
    "    figures = []\n",
    "    for parm_idx in range(len(model.means_[0])):\n",
    "        xmin = int(min(model.means_[:,parm_idx]) - max(variance[:,parm_idx]))\n",
    "        xmax = int(max(model.means_[:,parm_idx]) + max(variance[:,parm_idx]))\n",
    "        fig, axs = plt.subplots(model.n_components, sharex=True, sharey=False)\n",
    "        colours = cm.rainbow(np.linspace(0, 1, model.n_components))\n",
    "        for i, (ax, colour) in enumerate(zip(axs, colours)):\n",
    "            x = np.linspace(xmin, xmax, 100)\n",
    "            mu = model.means_[i,parm_idx]\n",
    "            sigma = math.sqrt(np.diag(model.covars_[i])[parm_idx])\n",
    "            ax.plot(x, mlab.normpdf(x, mu, sigma), c=colour)\n",
    "            ax.set_title(\"{} feature {} hidden state #{}\".format(word, parm_idx, i))\n",
    "\n",
    "            ax.grid(True)\n",
    "        figures.append(plt)\n",
    "    for p in figures:\n",
    "        p.show()\n",
    "        \n",
    "visualize(my_testword, model)"
   ]
  },
  {
   "cell_type": "markdown",
<<<<<<< HEAD
=======
<<<<<<< HEAD
=======
<<<<<<< HEAD
>>>>>>> e8e4bd3aa2580fad74803250b1c6bbfd1c9db313
>>>>>>> 323a24dbdb4e1d6bd819926a1baab17f95ae76b8
   "metadata": {
    "deletable": true,
    "editable": true
   },
<<<<<<< HEAD
=======
<<<<<<< HEAD
=======
=======
   "metadata": {},
>>>>>>> a787ccfe89997bb7396bf29ed95a3090da712e13
>>>>>>> e8e4bd3aa2580fad74803250b1c6bbfd1c9db313
>>>>>>> 323a24dbdb4e1d6bd819926a1baab17f95ae76b8
   "source": [
    "#####  ModelSelector class\n",
    "Review the `ModelSelector` class from the codebase found in the `my_model_selectors.py` module.  It is designed to be a strategy pattern for choosing different model selectors.  For the project submission in this section, subclass `SelectorModel` to implement the following model selectors.  In other words, you will write your own classes/functions in the `my_model_selectors.py` module and run them from this notebook:\n",
    "\n",
    "- `SelectorCV `:  Log likelihood with CV\n",
    "- `SelectorBIC`: BIC \n",
    "- `SelectorDIC`: DIC\n",
    "\n",
    "You will train each word in the training set with a range of values for the number of hidden states, and then score these alternatives with the model selector, choosing the \"best\" according to each strategy. The simple case of training with a constant value for `n_components` can be called using the provided `SelectorConstant` subclass as follow:"
   ]
  },
  {
   "cell_type": "code",
<<<<<<< HEAD
   "execution_count": 29,
=======
<<<<<<< HEAD
   "execution_count": 23,
   "metadata": {
    "collapsed": false,
    "deletable": true,
    "editable": true
   },
   "outputs": [
    {
     "name": "stdout",
     "output_type": "stream",
     "text": [
      "Number of states trained in model for VEGETABLE is 3\n"
     ]
    }
   ],
=======
   "execution_count": null,
>>>>>>> 323a24dbdb4e1d6bd819926a1baab17f95ae76b8
   "metadata": {
    "collapsed": false,
    "deletable": true,
    "editable": true
   },
<<<<<<< HEAD
   "outputs": [
    {
     "name": "stdout",
     "output_type": "stream",
     "text": [
      "Number of states trained in model for VEGETABLE is 3\n"
     ]
    }
   ],
=======
   "outputs": [],
>>>>>>> e8e4bd3aa2580fad74803250b1c6bbfd1c9db313
>>>>>>> 323a24dbdb4e1d6bd819926a1baab17f95ae76b8
   "source": [
    "from my_model_selectors import SelectorConstant\n",
    "\n",
    "training = asl.build_training(features_ground)  # Experiment here with different feature sets defined in part 1\n",
    "word = 'VEGETABLE' # Experiment here with different words\n",
    "model = SelectorConstant(training.get_all_sequences(), training.get_all_Xlengths(), word, n_constant=3).select()\n",
    "print(\"Number of states trained in model for {} is {}\".format(word, model.n_components))"
   ]
  },
  {
   "cell_type": "markdown",
<<<<<<< HEAD
=======
<<<<<<< HEAD
=======
<<<<<<< HEAD
>>>>>>> e8e4bd3aa2580fad74803250b1c6bbfd1c9db313
>>>>>>> 323a24dbdb4e1d6bd819926a1baab17f95ae76b8
   "metadata": {
    "deletable": true,
    "editable": true
   },
<<<<<<< HEAD
=======
<<<<<<< HEAD
=======
=======
   "metadata": {},
>>>>>>> a787ccfe89997bb7396bf29ed95a3090da712e13
>>>>>>> e8e4bd3aa2580fad74803250b1c6bbfd1c9db313
>>>>>>> 323a24dbdb4e1d6bd819926a1baab17f95ae76b8
   "source": [
    "##### Cross-validation folds\n",
    "If we simply score the model with the Log Likelihood calculated from the feature sequences it has been trained on, we should expect that more complex models will have higher likelihoods. However, that doesn't tell us which would have a better likelihood score on unseen data.  The model will likely be overfit as complexity is added.  To estimate which topology model is better using only the training data, we can compare scores using cross-validation.  One technique for cross-validation is to break the training set into \"folds\" and rotate which fold is left out of training.  The \"left out\" fold scored.  This gives us a proxy method of finding the best model to use on \"unseen data\". In the following example, a set of word sequences is broken into three folds using the [scikit-learn Kfold](http://scikit-learn.org/stable/modules/generated/sklearn.model_selection.KFold.html) class object. When you implement `SelectorCV`, you will use this technique."
   ]
  },
  {
   "cell_type": "code",
<<<<<<< HEAD
   "execution_count": 30,
=======
<<<<<<< HEAD
   "execution_count": 24,
   "metadata": {
    "collapsed": false,
    "deletable": true,
    "editable": true
   },
   "outputs": [
    {
     "name": "stdout",
     "output_type": "stream",
     "text": [
      "Train fold indices:[2 3 4 5] Test fold indices:[0 1]\n",
      "Train fold indices:[0 1 4 5] Test fold indices:[2 3]\n",
      "Train fold indices:[0 1 2 3] Test fold indices:[4 5]\n"
     ]
    }
   ],
=======
   "execution_count": null,
>>>>>>> 323a24dbdb4e1d6bd819926a1baab17f95ae76b8
   "metadata": {
    "collapsed": false,
    "deletable": true,
    "editable": true
   },
<<<<<<< HEAD
   "outputs": [
    {
     "name": "stdout",
     "output_type": "stream",
     "text": [
      "Train fold indices:[2 3 4 5] Test fold indices:[0 1]\n",
      "Train fold indices:[0 1 4 5] Test fold indices:[2 3]\n",
      "Train fold indices:[0 1 2 3] Test fold indices:[4 5]\n"
     ]
    }
   ],
=======
   "outputs": [],
>>>>>>> e8e4bd3aa2580fad74803250b1c6bbfd1c9db313
>>>>>>> 323a24dbdb4e1d6bd819926a1baab17f95ae76b8
   "source": [
    "from sklearn.model_selection import KFold\n",
    "\n",
    "training = asl.build_training(features_ground) # Experiment here with different feature sets\n",
    "word = 'VEGETABLE' # Experiment here with different words\n",
    "word_sequences = training.get_word_sequences(word)\n",
    "split_method = KFold()\n",
    "for cv_train_idx, cv_test_idx in split_method.split(word_sequences):\n",
    "    print(\"Train fold indices:{} Test fold indices:{}\".format(cv_train_idx, cv_test_idx))  # view indices of the folds"
   ]
  },
  {
   "cell_type": "markdown",
<<<<<<< HEAD
=======
<<<<<<< HEAD
=======
<<<<<<< HEAD
>>>>>>> e8e4bd3aa2580fad74803250b1c6bbfd1c9db313
>>>>>>> 323a24dbdb4e1d6bd819926a1baab17f95ae76b8
   "metadata": {
    "deletable": true,
    "editable": true
   },
<<<<<<< HEAD
=======
<<<<<<< HEAD
=======
=======
   "metadata": {},
>>>>>>> a787ccfe89997bb7396bf29ed95a3090da712e13
>>>>>>> e8e4bd3aa2580fad74803250b1c6bbfd1c9db313
>>>>>>> 323a24dbdb4e1d6bd819926a1baab17f95ae76b8
   "source": [
    "**Tip:** In order to run `hmmlearn` training using the X,lengths tuples on the new folds, subsets must be combined based on the indices given for the folds.  A helper utility has been provided in the `asl_utils` module named `combine_sequences` for this purpose."
   ]
  },
  {
   "cell_type": "markdown",
<<<<<<< HEAD
=======
<<<<<<< HEAD
=======
<<<<<<< HEAD
>>>>>>> e8e4bd3aa2580fad74803250b1c6bbfd1c9db313
>>>>>>> 323a24dbdb4e1d6bd819926a1baab17f95ae76b8
   "metadata": {
    "deletable": true,
    "editable": true
   },
<<<<<<< HEAD
=======
<<<<<<< HEAD
=======
=======
   "metadata": {},
>>>>>>> a787ccfe89997bb7396bf29ed95a3090da712e13
>>>>>>> e8e4bd3aa2580fad74803250b1c6bbfd1c9db313
>>>>>>> 323a24dbdb4e1d6bd819926a1baab17f95ae76b8
   "source": [
    "##### Scoring models with other criterion\n",
    "Scoring model topologies with **BIC** balances fit and complexity within the training set for each word.  In the BIC equation, a penalty term penalizes complexity to avoid overfitting, so that it is not necessary to also use cross-validation in the selection process.  There are a number of references on the internet for this criterion.  These [slides](http://www2.imm.dtu.dk/courses/02433/doc/ch6_slides.pdf) include a formula you may find helpful for your implementation.\n",
    "\n",
    "The advantages of scoring model topologies with **DIC** over BIC are presented by Alain Biem in this [reference](http://citeseerx.ist.psu.edu/viewdoc/download?doi=10.1.1.58.6208&rep=rep1&type=pdf) (also found [here](https://pdfs.semanticscholar.org/ed3d/7c4a5f607201f3848d4c02dd9ba17c791fc2.pdf)).  DIC scores the discriminant ability of a training set for one word against competing words.  Instead of a penalty term for complexity, it provides a penalty if model liklihoods for non-matching words are too similar to model likelihoods for the correct word in the word set."
   ]
  },
  {
   "cell_type": "markdown",
<<<<<<< HEAD
=======
<<<<<<< HEAD
=======
<<<<<<< HEAD
>>>>>>> e8e4bd3aa2580fad74803250b1c6bbfd1c9db313
>>>>>>> 323a24dbdb4e1d6bd819926a1baab17f95ae76b8
   "metadata": {
    "deletable": true,
    "editable": true
   },
<<<<<<< HEAD
=======
<<<<<<< HEAD
=======
=======
   "metadata": {},
>>>>>>> a787ccfe89997bb7396bf29ed95a3090da712e13
>>>>>>> e8e4bd3aa2580fad74803250b1c6bbfd1c9db313
>>>>>>> 323a24dbdb4e1d6bd819926a1baab17f95ae76b8
   "source": [
    "<a id='part2_submission'></a>\n",
    "### Model Selection Implementation Submission\n",
    "Implement `SelectorCV`, `SelectorBIC`, and `SelectorDIC` classes in the `my_model_selectors.py` module.  Run the selectors on the following five words. Then answer the questions about your results.\n",
    "\n",
    "**Tip:** The `hmmlearn` library may not be able to train or score all models.  Implement try/except contructs as necessary to eliminate non-viable models from consideration."
   ]
  },
  {
   "cell_type": "code",
<<<<<<< HEAD
   "execution_count": 31,
=======
<<<<<<< HEAD
   "execution_count": 25,
   "metadata": {
    "collapsed": false,
    "deletable": true,
    "editable": true
=======
   "execution_count": null,
>>>>>>> 323a24dbdb4e1d6bd819926a1baab17f95ae76b8
   "metadata": {
    "collapsed": false,
    "deletable": true,
    "editable": true
<<<<<<< HEAD
=======
=======
    "collapsed": false
>>>>>>> a787ccfe89997bb7396bf29ed95a3090da712e13
>>>>>>> e8e4bd3aa2580fad74803250b1c6bbfd1c9db313
>>>>>>> 323a24dbdb4e1d6bd819926a1baab17f95ae76b8
   },
   "outputs": [],
   "source": [
    "words_to_train = ['FISH', 'BOOK', 'VEGETABLE', 'FUTURE', 'JOHN']\n",
    "import timeit"
   ]
  },
  {
   "cell_type": "code",
<<<<<<< HEAD
   "execution_count": 32,
=======
<<<<<<< HEAD
   "execution_count": 36,
   "metadata": {
    "collapsed": false,
    "deletable": true,
    "editable": true
   },
   "outputs": [
    {
     "name": "stdout",
     "output_type": "stream",
     "text": [
      "Training complete for FISH with 5 states with time 0.3469264990417287 seconds\n",
      "Training complete for BOOK with 2 states with time 3.963576740003191 seconds\n",
      "Training complete for VEGETABLE with 2 states with time 1.5776986210257746 seconds\n",
      "Training complete for FUTURE with 2 states with time 3.828377822996117 seconds\n",
      "Training complete for JOHN with 3 states with time 39.415918692946434 seconds\n"
     ]
    }
   ],
=======
   "execution_count": null,
>>>>>>> 323a24dbdb4e1d6bd819926a1baab17f95ae76b8
   "metadata": {
    "collapsed": false,
    "deletable": true,
    "editable": true
   },
<<<<<<< HEAD
   "outputs": [
    {
     "ename": "NotImplementedError",
     "evalue": "",
     "output_type": "error",
     "traceback": [
      "\u001b[0;31m---------------------------------------------------------------------------\u001b[0m",
      "\u001b[0;31mNotImplementedError\u001b[0m                       Traceback (most recent call last)",
      "\u001b[0;32m<ipython-input-32-cdc5b9039722>\u001b[0m in \u001b[0;36m<module>\u001b[0;34m()\u001b[0m\n\u001b[1;32m      8\u001b[0m     \u001b[0mstart\u001b[0m \u001b[0;34m=\u001b[0m \u001b[0mtimeit\u001b[0m\u001b[0;34m.\u001b[0m\u001b[0mdefault_timer\u001b[0m\u001b[0;34m(\u001b[0m\u001b[0;34m)\u001b[0m\u001b[0;34m\u001b[0m\u001b[0m\n\u001b[1;32m      9\u001b[0m     model = SelectorCV(sequences, Xlengths, word, \n\u001b[0;32m---> 10\u001b[0;31m                     min_n_components=2, max_n_components=15, random_state = 14).select()\n\u001b[0m\u001b[1;32m     11\u001b[0m     \u001b[0mend\u001b[0m \u001b[0;34m=\u001b[0m \u001b[0mtimeit\u001b[0m\u001b[0;34m.\u001b[0m\u001b[0mdefault_timer\u001b[0m\u001b[0;34m(\u001b[0m\u001b[0;34m)\u001b[0m\u001b[0;34m-\u001b[0m\u001b[0mstart\u001b[0m\u001b[0;34m\u001b[0m\u001b[0m\n\u001b[1;32m     12\u001b[0m     \u001b[0;32mif\u001b[0m \u001b[0mmodel\u001b[0m \u001b[0;32mis\u001b[0m \u001b[0;32mnot\u001b[0m \u001b[0;32mNone\u001b[0m\u001b[0;34m:\u001b[0m\u001b[0;34m\u001b[0m\u001b[0m\n",
      "\u001b[0;32m/Users/rrjing85/AIND/AIND-Recognizer.backup/my_model_selectors.py\u001b[0m in \u001b[0;36mselect\u001b[0;34m(self)\u001b[0m\n\u001b[1;32m    106\u001b[0m \u001b[0;34m\u001b[0m\u001b[0m\n\u001b[1;32m    107\u001b[0m         \u001b[0;31m# TODO implement model selection using CV\u001b[0m\u001b[0;34m\u001b[0m\u001b[0;34m\u001b[0m\u001b[0m\n\u001b[0;32m--> 108\u001b[0;31m         \u001b[0;32mraise\u001b[0m \u001b[0mNotImplementedError\u001b[0m\u001b[0;34m\u001b[0m\u001b[0m\n\u001b[0m",
      "\u001b[0;31mNotImplementedError\u001b[0m: "
     ]
    }
   ],
=======
   "outputs": [],
>>>>>>> e8e4bd3aa2580fad74803250b1c6bbfd1c9db313
>>>>>>> 323a24dbdb4e1d6bd819926a1baab17f95ae76b8
   "source": [
    "# TODO: Implement SelectorCV in my_model_selector.py\n",
    "from my_model_selectors import SelectorCV\n",
    "\n",
    "training = asl.build_training(features_ground)  # Experiment here with different feature sets defined in part 1\n",
    "sequences = training.get_all_sequences()\n",
    "Xlengths = training.get_all_Xlengths()\n",
    "for word in words_to_train:\n",
    "    start = timeit.default_timer()\n",
    "    model = SelectorCV(sequences, Xlengths, word, \n",
    "                    min_n_components=2, max_n_components=15, random_state = 14).select()\n",
    "    end = timeit.default_timer()-start\n",
    "    if model is not None:\n",
    "        print(\"Training complete for {} with {} states with time {} seconds\".format(word, model.n_components, end))\n",
    "    else:\n",
    "        print(\"Training failed for {}\".format(word))"
   ]
  },
  {
   "cell_type": "code",
<<<<<<< HEAD
   "execution_count": 33,
=======
<<<<<<< HEAD
   "execution_count": 27,
   "metadata": {
    "collapsed": false,
    "deletable": true,
    "editable": true
   },
   "outputs": [
    {
     "name": "stdout",
     "output_type": "stream",
     "text": [
      "Training complete for FISH with 3 states with time 0.3613882369827479 seconds\n",
      "Training complete for BOOK with 2 states with time 2.142497561988421 seconds\n",
      "Training complete for VEGETABLE with 2 states with time 0.7674754319596104 seconds\n",
      "Training complete for FUTURE with 2 states with time 2.3041113520157523 seconds\n",
      "Training complete for JOHN with 2 states with time 21.871314793999773 seconds\n"
     ]
    }
   ],
=======
   "execution_count": null,
>>>>>>> 323a24dbdb4e1d6bd819926a1baab17f95ae76b8
   "metadata": {
    "collapsed": false,
    "deletable": true,
    "editable": true
   },
<<<<<<< HEAD
   "outputs": [
    {
     "ename": "NotImplementedError",
     "evalue": "",
     "output_type": "error",
     "traceback": [
      "\u001b[0;31m---------------------------------------------------------------------------\u001b[0m",
      "\u001b[0;31mNotImplementedError\u001b[0m                       Traceback (most recent call last)",
      "\u001b[0;32m<ipython-input-33-14d1bce9b4ad>\u001b[0m in \u001b[0;36m<module>\u001b[0;34m()\u001b[0m\n\u001b[1;32m      8\u001b[0m     \u001b[0mstart\u001b[0m \u001b[0;34m=\u001b[0m \u001b[0mtimeit\u001b[0m\u001b[0;34m.\u001b[0m\u001b[0mdefault_timer\u001b[0m\u001b[0;34m(\u001b[0m\u001b[0;34m)\u001b[0m\u001b[0;34m\u001b[0m\u001b[0m\n\u001b[1;32m      9\u001b[0m     model = SelectorBIC(sequences, Xlengths, word, \n\u001b[0;32m---> 10\u001b[0;31m                     min_n_components=2, max_n_components=15, random_state = 14).select()\n\u001b[0m\u001b[1;32m     11\u001b[0m     \u001b[0mend\u001b[0m \u001b[0;34m=\u001b[0m \u001b[0mtimeit\u001b[0m\u001b[0;34m.\u001b[0m\u001b[0mdefault_timer\u001b[0m\u001b[0;34m(\u001b[0m\u001b[0;34m)\u001b[0m\u001b[0;34m-\u001b[0m\u001b[0mstart\u001b[0m\u001b[0;34m\u001b[0m\u001b[0m\n\u001b[1;32m     12\u001b[0m     \u001b[0;32mif\u001b[0m \u001b[0mmodel\u001b[0m \u001b[0;32mis\u001b[0m \u001b[0;32mnot\u001b[0m \u001b[0;32mNone\u001b[0m\u001b[0;34m:\u001b[0m\u001b[0;34m\u001b[0m\u001b[0m\n",
      "\u001b[0;32m/Users/rrjing85/AIND/AIND-Recognizer.backup/my_model_selectors.py\u001b[0m in \u001b[0;36mselect\u001b[0;34m(self)\u001b[0m\n\u001b[1;32m     78\u001b[0m \u001b[0;34m\u001b[0m\u001b[0m\n\u001b[1;32m     79\u001b[0m         \u001b[0;31m# TODO implement model selection based on BIC scores\u001b[0m\u001b[0;34m\u001b[0m\u001b[0;34m\u001b[0m\u001b[0m\n\u001b[0;32m---> 80\u001b[0;31m         \u001b[0;32mraise\u001b[0m \u001b[0mNotImplementedError\u001b[0m\u001b[0;34m\u001b[0m\u001b[0m\n\u001b[0m\u001b[1;32m     81\u001b[0m \u001b[0;34m\u001b[0m\u001b[0m\n\u001b[1;32m     82\u001b[0m \u001b[0;34m\u001b[0m\u001b[0m\n",
      "\u001b[0;31mNotImplementedError\u001b[0m: "
     ]
    }
   ],
=======
   "outputs": [],
>>>>>>> e8e4bd3aa2580fad74803250b1c6bbfd1c9db313
>>>>>>> 323a24dbdb4e1d6bd819926a1baab17f95ae76b8
   "source": [
    "# TODO: Implement SelectorBIC in module my_model_selectors.py\n",
    "from my_model_selectors import SelectorBIC\n",
    "\n",
    "training = asl.build_training(features_ground)  # Experiment here with different feature sets defined in part 1\n",
    "sequences = training.get_all_sequences()\n",
    "Xlengths = training.get_all_Xlengths()\n",
    "for word in words_to_train:\n",
    "    start = timeit.default_timer()\n",
    "    model = SelectorBIC(sequences, Xlengths, word, \n",
    "                    min_n_components=2, max_n_components=15, random_state = 14).select()\n",
    "    end = timeit.default_timer()-start\n",
    "    if model is not None:\n",
    "        print(\"Training complete for {} with {} states with time {} seconds\".format(word, model.n_components, end))\n",
    "    else:\n",
    "        print(\"Training failed for {}\".format(word))"
   ]
  },
  {
   "cell_type": "code",
<<<<<<< HEAD
   "execution_count": 37,
   "metadata": {
    "collapsed": false,
    "deletable": true,
    "editable": true
   },
   "outputs": [
    {
     "name": "stdout",
     "output_type": "stream",
     "text": [
      "Training complete for FISH with 3 states with time 0.6249053440405987 seconds\n",
      "Training complete for BOOK with 15 states with time 4.2719917530193925 seconds\n",
      "Training complete for VEGETABLE with 15 states with time 3.4479220539797097 seconds\n",
      "Training complete for FUTURE with 15 states with time 4.505431339028291 seconds\n",
      "Training complete for JOHN with 15 states with time 23.373328590008896 seconds\n"
     ]
    }
   ],
=======
   "execution_count": null,
   "metadata": {
    "collapsed": false,
    "deletable": true,
    "editable": true
   },
   "outputs": [],
>>>>>>> e8e4bd3aa2580fad74803250b1c6bbfd1c9db313
   "source": [
    "# TODO: Implement SelectorDIC in module my_model_selectors.py\n",
    "from my_model_selectors import SelectorDIC\n",
    "\n",
    "training = asl.build_training(features_ground)  # Experiment here with different feature sets defined in part 1\n",
    "sequences = training.get_all_sequences()\n",
    "Xlengths = training.get_all_Xlengths()\n",
    "for word in words_to_train:\n",
    "    start = timeit.default_timer()\n",
    "    model = SelectorDIC(sequences, Xlengths, word, \n",
    "                    min_n_components=2, max_n_components=15, random_state = 14).select()\n",
    "    end = timeit.default_timer()-start\n",
    "    if model is not None:\n",
    "        print(\"Training complete for {} with {} states with time {} seconds\".format(word, model.n_components, end))\n",
    "    else:\n",
    "        print(\"Training failed for {}\".format(word))"
   ]
  },
  {
   "cell_type": "markdown",
<<<<<<< HEAD
=======
<<<<<<< HEAD
=======
<<<<<<< HEAD
>>>>>>> e8e4bd3aa2580fad74803250b1c6bbfd1c9db313
>>>>>>> 323a24dbdb4e1d6bd819926a1baab17f95ae76b8
   "metadata": {
    "deletable": true,
    "editable": true
   },
<<<<<<< HEAD
=======
<<<<<<< HEAD
=======
=======
   "metadata": {},
>>>>>>> a787ccfe89997bb7396bf29ed95a3090da712e13
>>>>>>> e8e4bd3aa2580fad74803250b1c6bbfd1c9db313
>>>>>>> 323a24dbdb4e1d6bd819926a1baab17f95ae76b8
   "source": [
    "**Question 2:**  Compare and contrast the possible advantages and disadvantages of the various model selectors implemented.\n",
    "\n",
    "**Answer 2:**"
   ]
  },
  {
   "cell_type": "markdown",
<<<<<<< HEAD
=======
<<<<<<< HEAD
=======
<<<<<<< HEAD
>>>>>>> e8e4bd3aa2580fad74803250b1c6bbfd1c9db313
>>>>>>> 323a24dbdb4e1d6bd819926a1baab17f95ae76b8
   "metadata": {
    "deletable": true,
    "editable": true
   },
<<<<<<< HEAD
=======
<<<<<<< HEAD
=======
=======
   "metadata": {},
>>>>>>> a787ccfe89997bb7396bf29ed95a3090da712e13
>>>>>>> e8e4bd3aa2580fad74803250b1c6bbfd1c9db313
>>>>>>> 323a24dbdb4e1d6bd819926a1baab17f95ae76b8
   "source": [
    "<a id='part2_test'></a>\n",
    "### Model Selector Unit Testing\n",
    "Run the following unit tests as a sanity check on the implemented model selectors.  The test simply looks for valid interfaces  but is not exhaustive. However, the project should not be submitted if these tests don't pass."
   ]
  },
  {
   "cell_type": "code",
<<<<<<< HEAD
   "execution_count": 38,
   "metadata": {
    "collapsed": false,
    "deletable": true,
    "editable": true
   },
   "outputs": [
    {
     "name": "stderr",
     "output_type": "stream",
     "text": [
      "....\n",
      "----------------------------------------------------------------------\n",
      "Ran 4 tests in 46.725s\n",
      "\n",
      "OK\n"
     ]
    },
    {
     "data": {
      "text/plain": [
       "<unittest.runner.TextTestResult run=4 errors=0 failures=0>"
      ]
     },
     "execution_count": 38,
     "metadata": {},
     "output_type": "execute_result"
    }
   ],
=======
   "execution_count": null,
   "metadata": {
    "collapsed": false,
    "deletable": true,
    "editable": true
   },
   "outputs": [],
>>>>>>> e8e4bd3aa2580fad74803250b1c6bbfd1c9db313
   "source": [
    "from asl_test_model_selectors import TestSelectors\n",
    "suite = unittest.TestLoader().loadTestsFromModule(TestSelectors())\n",
    "unittest.TextTestRunner().run(suite)"
   ]
  },
  {
   "cell_type": "markdown",
   "metadata": {
    "collapsed": false,
    "deletable": true,
    "editable": true
<<<<<<< HEAD
=======
=======
<<<<<<< HEAD
    "collapsed": false,
    "deletable": true,
    "editable": true
=======
    "collapsed": false
>>>>>>> a787ccfe89997bb7396bf29ed95a3090da712e13
>>>>>>> e8e4bd3aa2580fad74803250b1c6bbfd1c9db313
>>>>>>> 323a24dbdb4e1d6bd819926a1baab17f95ae76b8
   },
   "source": [
    "<a id='part3_tutorial'></a>\n",
    "## PART 3: Recognizer\n",
    "The objective of this section is to \"put it all together\".  Using the four feature sets created and the three model selectors, you will experiment with the models and present your results.  Instead of training only five specific words as in the previous section, train the entire set with a feature set and model selector strategy.  \n",
    "### Recognizer Tutorial\n",
    "##### Train the full training set\n",
    "The following example trains the entire set with the example `features_ground` and `SelectorConstant` features and model selector.  Use this pattern for you experimentation and final submission cells.\n",
    "\n"
   ]
  },
  {
   "cell_type": "code",
<<<<<<< HEAD
   "execution_count": 30,
   "metadata": {
    "collapsed": false,
    "deletable": true,
    "editable": true
   },
   "outputs": [
    {
     "name": "stdout",
     "output_type": "stream",
     "text": [
      "Number of word models returned = 112\n"
     ]
    }
   ],
=======
   "execution_count": null,
   "metadata": {
    "collapsed": false,
    "deletable": true,
    "editable": true
   },
   "outputs": [],
>>>>>>> e8e4bd3aa2580fad74803250b1c6bbfd1c9db313
   "source": [
    "# autoreload for automatically reloading changes made in my_model_selectors and my_recognizer\n",
    "%load_ext autoreload\n",
    "%autoreload 2\n",
    "\n",
    "from my_model_selectors import SelectorConstant\n",
    "\n",
    "def train_all_words(features, model_selector):\n",
    "    training = asl.build_training(features)  # Experiment here with different feature sets defined in part 1\n",
    "    sequences = training.get_all_sequences()\n",
    "    Xlengths = training.get_all_Xlengths()\n",
    "    model_dict = {}\n",
    "    for word in training.words:\n",
    "        model = model_selector(sequences, Xlengths, word, \n",
    "                        n_constant=3).select()\n",
    "        model_dict[word]=model\n",
    "    return model_dict\n",
    "\n",
    "models = train_all_words(features_ground, SelectorConstant)\n",
    "print(\"Number of word models returned = {}\".format(len(models)))"
   ]
  },
  {
   "cell_type": "markdown",
<<<<<<< HEAD
=======
<<<<<<< HEAD
=======
<<<<<<< HEAD
>>>>>>> e8e4bd3aa2580fad74803250b1c6bbfd1c9db313
>>>>>>> 323a24dbdb4e1d6bd819926a1baab17f95ae76b8
   "metadata": {
    "deletable": true,
    "editable": true
   },
<<<<<<< HEAD
=======
<<<<<<< HEAD
=======
=======
   "metadata": {},
>>>>>>> a787ccfe89997bb7396bf29ed95a3090da712e13
>>>>>>> e8e4bd3aa2580fad74803250b1c6bbfd1c9db313
>>>>>>> 323a24dbdb4e1d6bd819926a1baab17f95ae76b8
   "source": [
    "##### Load the test set\n",
    "The `build_test` method in `ASLdb` is similar to the `build_training` method already presented, but there are a few differences:\n",
    "- the object is type `SinglesData` \n",
    "- the internal dictionary keys are the index of the test word rather than the word itself\n",
    "- the getter methods are `get_all_sequences`, `get_all_Xlengths`, `get_item_sequences` and `get_item_Xlengths`"
   ]
  },
  {
   "cell_type": "code",
<<<<<<< HEAD
   "execution_count": 31,
   "metadata": {
    "collapsed": false,
    "deletable": true,
    "editable": true
   },
   "outputs": [
    {
     "name": "stdout",
     "output_type": "stream",
     "text": [
      "Number of test set items: 178\n",
      "Number of test set sentences: 40\n"
     ]
    }
   ],
=======
   "execution_count": null,
   "metadata": {
    "collapsed": false,
    "deletable": true,
    "editable": true
   },
   "outputs": [],
>>>>>>> e8e4bd3aa2580fad74803250b1c6bbfd1c9db313
   "source": [
    "test_set = asl.build_test(features_ground)\n",
    "print(\"Number of test set items: {}\".format(test_set.num_items))\n",
    "print(\"Number of test set sentences: {}\".format(len(test_set.sentences_index)))"
   ]
  },
  {
   "cell_type": "markdown",
<<<<<<< HEAD
=======
<<<<<<< HEAD
=======
<<<<<<< HEAD
>>>>>>> e8e4bd3aa2580fad74803250b1c6bbfd1c9db313
>>>>>>> 323a24dbdb4e1d6bd819926a1baab17f95ae76b8
   "metadata": {
    "deletable": true,
    "editable": true
   },
<<<<<<< HEAD
=======
<<<<<<< HEAD
=======
=======
   "metadata": {},
>>>>>>> a787ccfe89997bb7396bf29ed95a3090da712e13
>>>>>>> e8e4bd3aa2580fad74803250b1c6bbfd1c9db313
>>>>>>> 323a24dbdb4e1d6bd819926a1baab17f95ae76b8
   "source": [
    "<a id='part3_submission'></a>\n",
    "### Recognizer Implementation Submission\n",
    "For the final project submission, students must implement a recognizer following guidance in the `my_recognizer.py` module.  Experiment with the four feature sets and the three model selection methods (that's 12 possible combinations). You can add and remove cells for experimentation or run the recognizers locally in some other way during your experiments, but retain the results for your discussion.  For submission, you will provide code cells of **only three** interesting combinations for your discussion (see questions below). At least one of these should produce a word error rate of less than 60%, i.e. WER < 0.60 . \n",
    "\n",
    "**Tip:** The hmmlearn library may not be able to train or score all models.  Implement try/except contructs as necessary to eliminate non-viable models from consideration."
   ]
  },
  {
   "cell_type": "code",
<<<<<<< HEAD
   "execution_count": 32,
   "metadata": {
    "collapsed": false,
    "deletable": true,
    "editable": true
=======
   "execution_count": null,
   "metadata": {
    "collapsed": false,
    "deletable": true,
    "editable": true
<<<<<<< HEAD
=======
=======
    "collapsed": false
>>>>>>> a787ccfe89997bb7396bf29ed95a3090da712e13
>>>>>>> e8e4bd3aa2580fad74803250b1c6bbfd1c9db313
>>>>>>> 323a24dbdb4e1d6bd819926a1baab17f95ae76b8
   },
   "outputs": [],
   "source": [
    "# TODO implement the recognize method in my_recognizer\n",
    "from my_recognizer import recognize\n",
    "from asl_utils import show_errors"
   ]
  },
  {
   "cell_type": "code",
<<<<<<< HEAD
   "execution_count": 42,
   "metadata": {
    "collapsed": false,
    "deletable": true,
    "editable": true,
    "scrolled": true
   },
   "outputs": [
    {
     "name": "stdout",
     "output_type": "stream",
     "text": [
      "\n",
      "**** WER = 0.6685393258426966\n",
      "Total correct: 59 out of 178\n",
      "Video  Recognized                                                    Correct\n",
      "=====================================================================================================\n",
      "  100: POSS NEW CAR BREAK-DOWN                                       POSS NEW CAR BREAK-DOWN\n",
      "    2: *GO WRITE *ARRIVE                                             JOHN WRITE HOMEWORK\n",
      "   67: *LIKE FUTURE NOT BUY HOUSE                                    JOHN FUTURE NOT BUY HOUSE\n",
      "    7: *SOMETHING-ONE *GO1 *IX CAN                                   JOHN CAN GO CAN\n",
      "  201: JOHN *GIVE *GIVE *LOVE *ARRIVE HOUSE                          JOHN TELL MARY IX-1P BUY HOUSE\n",
      "   74: *IX *VISIT *GO *GO                                            JOHN NOT VISIT MARY\n",
      "  119: *PREFER *BUY1 IX *BLAME *IX                                   SUE BUY IX CAR BLUE\n",
      "   12: JOHN *HAVE *WHAT CAN                                          JOHN CAN GO CAN\n",
      "   77: *JOHN BLAME *LOVE                                             ANN BLAME MARY\n",
      "  142: *FRANK *STUDENT YESTERDAY *TEACHER BOOK                       JOHN BUY YESTERDAY WHAT BOOK\n",
      "  107: *SHOULD *IX FRIEND *GO *JANA                                  JOHN POSS FRIEND HAVE CANDY\n",
      "   84: *LOVE *ARRIVE *HOMEWORK BOOK                                  IX-1P FIND SOMETHING-ONE BOOK\n",
      "   21: JOHN *HOMEWORK *NEW *PREFER *CAR *CAR *FUTURE *EAT            JOHN FISH WONT EAT BUT CAN EAT CHICKEN\n",
      "   25: *FRANK *TELL *LOVE *TELL *LOVE                                JOHN LIKE IX IX IX\n",
      "   89: *GIVE *GIVE GIVE *IX IX *ARRIVE *BOOK                         JOHN IX GIVE MAN IX NEW COAT\n",
      "   71: JOHN *FINISH VISIT MARY                                       JOHN WILL VISIT MARY\n",
      "   92: *FRANK GIVE *WOMAN *WOMAN WOMAN BOOK                          JOHN GIVE IX SOMETHING-ONE WOMAN BOOK\n",
      "   90: *SOMETHING-ONE *SOMETHING-ONE IX *IX WOMAN *COAT              JOHN GIVE IX SOMETHING-ONE WOMAN BOOK\n",
      "   30: *SHOULD LIKE *GO *GO *GO                                      JOHN LIKE IX IX IX\n",
      "  193: JOHN *SOMETHING-ONE *YESTERDAY BOX                            JOHN GIVE GIRL BOX\n",
      "   36: *VISIT VEGETABLE *YESTERDAY *GIVE *MARY *MARY                 MARY VEGETABLE KNOW IX LIKE CORN1\n",
      "  139: *SHOULD *BUY1 *CAR *BLAME BOOK                                JOHN BUY WHAT YESTERDAY BOOK\n",
      "  167: *MARY IX *VISIT *WOMAN *LOVE                                  JOHN IX SAY LOVE MARY\n",
      "   40: *SUE *GIVE *CORN *VEGETABLE *GO                               JOHN IX THINK MARY LOVE\n",
      "   28: *FRANK *TELL *LOVE *TELL *LOVE                                JOHN LIKE IX IX IX\n",
      "  171: *VISIT *VISIT BLAME                                           JOHN MARY BLAME\n",
      "   43: *FRANK *GO BUY HOUSE                                          JOHN MUST BUY HOUSE\n",
      "  108: *GIVE *LOVE                                                   WOMAN ARRIVE\n",
      "  174: *CAN *GIVE3 GIVE1 *APPLE *WHAT                                PEOPLE GROUP GIVE1 JANA TOY\n",
      "  113: IX CAR *CAR *IX *IX                                           IX CAR BLUE SUE BUY\n",
      "   50: *FRANK *SEE BUY CAR *SOMETHING-ONE                            FUTURE JOHN BUY CAR SHOULD\n",
      "  199: *LOVE CHOCOLATE WHO                                           LIKE CHOCOLATE WHO\n",
      "  158: LOVE *MARY WHO                                                LOVE JOHN WHO\n",
      "   54: JOHN SHOULD *WHO BUY HOUSE                                    JOHN SHOULD NOT BUY HOUSE\n",
      "  105: *FRANK *VEGETABLE                                             JOHN LEG\n",
      "  184: *GIVE1 BOY *GIVE1 TEACHER APPLE                               ALL BOY GIVE TEACHER APPLE\n",
      "   57: *MARY *VISIT VISIT *VISIT                                     JOHN DECIDE VISIT MARY\n",
      "  122: JOHN *GIVE1 *COAT                                             JOHN READ BOOK\n",
      "  189: *JANA *SOMETHING-ONE *YESTERDAY *WHAT                         JOHN GIVE GIRL BOX\n",
      "  181: *BLAME ARRIVE                                                 JOHN ARRIVE\n"
     ]
    }
   ],
=======
   "execution_count": null,
   "metadata": {
    "collapsed": false,
    "deletable": true,
    "editable": true
   },
   "outputs": [],
>>>>>>> e8e4bd3aa2580fad74803250b1c6bbfd1c9db313
   "source": [
    "# TODO Choose a feature set and model selector\n",
    "features = features_ground # change as needed\n",
    "model_selector = SelectorConstant # change as needed\n",
    "\n",
    "# TODO Recognize the test set and display the result with the show_errors method\n",
    "models = train_all_words(features, model_selector)\n",
    "test_set = asl.build_test(features)\n",
    "probabilities, guesses = recognize(models, test_set)\n",
    "show_errors(guesses, test_set)"
   ]
  },
  {
   "cell_type": "code",
<<<<<<< HEAD
   "execution_count": 43,
   "metadata": {
    "collapsed": false,
    "deletable": true,
    "editable": true
   },
   "outputs": [
    {
     "name": "stdout",
     "output_type": "stream",
     "text": [
      "\n",
      "**** WER = 0.5730337078651685\n",
      "Total correct: 76 out of 178\n",
      "Video  Recognized                                                    Correct\n",
      "=====================================================================================================\n",
      "  100: *IX NEW CAR *ARRIVE                                           POSS NEW CAR BREAK-DOWN\n",
      "    2: JOHN *NEW *GIVE1                                              JOHN WRITE HOMEWORK\n",
      "   67: JOHN FUTURE *MARY BUY HOUSE                                   JOHN FUTURE NOT BUY HOUSE\n",
      "    7: *SOMETHING-ONE *CAR *ARRIVE *ARRIVE                           JOHN CAN GO CAN\n",
      "  201: JOHN *MARY *LOVE *JOHN *GIVE1 HOUSE                           JOHN TELL MARY IX-1P BUY HOUSE\n",
      "   74: *IX *GO *MARY MARY                                            JOHN NOT VISIT MARY\n",
      "  119: *VISIT *BUY1 IX *BOX *IX                                      SUE BUY IX CAR BLUE\n",
      "   12: *IX *WHAT *WHAT *CAR                                          JOHN CAN GO CAN\n",
      "   77: *JOHN BLAME *LOVE                                             ANN BLAME MARY\n",
      "  142: JOHN BUY YESTERDAY WHAT BOOK                                  JOHN BUY YESTERDAY WHAT BOOK\n",
      "  107: JOHN *IX *HAVE *ARRIVE *JOHN                                  JOHN POSS FRIEND HAVE CANDY\n",
      "   84: *JOHN *GIVE1 *VISIT BOOK                                      IX-1P FIND SOMETHING-ONE BOOK\n",
      "   21: JOHN *GIVE1 *JOHN *FUTURE *CAR *CAR *FUTURE *MARY             JOHN FISH WONT EAT BUT CAN EAT CHICKEN\n",
      "   25: JOHN *IX IX *WHO IX                                           JOHN LIKE IX IX IX\n",
      "   89: *MARY IX *IX *IX IX *ARRIVE *BOOK                             JOHN IX GIVE MAN IX NEW COAT\n",
      "   71: JOHN *FINISH VISIT MARY                                       JOHN WILL VISIT MARY\n",
      "   92: JOHN *IX IX *IX *IX BOOK                                      JOHN GIVE IX SOMETHING-ONE WOMAN BOOK\n",
      "   90: JOHN *SOMETHING-ONE IX *IX *VISIT *ARRIVE                     JOHN GIVE IX SOMETHING-ONE WOMAN BOOK\n",
      "   30: JOHN *MARY *MARY *MARY *MARY                                  JOHN LIKE IX IX IX\n",
      "  193: JOHN *SOMETHING-ONE *VISIT BOX                                JOHN GIVE GIRL BOX\n",
      "   36: *VISIT *VISIT *GIVE *GO *MARY *IX                             MARY VEGETABLE KNOW IX LIKE CORN1\n",
      "  139: JOHN *BUY1 WHAT *MARY BOOK                                    JOHN BUY WHAT YESTERDAY BOOK\n",
      "  167: JOHN *MARY *GO LOVE MARY                                      JOHN IX SAY LOVE MARY\n",
      "   40: *MARY *GO *GIVE MARY *MARY                                    JOHN IX THINK MARY LOVE\n",
      "   28: JOHN *WHO IX IX *LOVE                                         JOHN LIKE IX IX IX\n",
      "  171: JOHN MARY BLAME                                               JOHN MARY BLAME\n",
      "   43: JOHN *IX BUY HOUSE                                            JOHN MUST BUY HOUSE\n",
      "  108: *IX ARRIVE                                                    WOMAN ARRIVE\n",
      "  174: *CAR *GIVE1 GIVE1 *YESTERDAY *WHAT                            PEOPLE GROUP GIVE1 JANA TOY\n",
      "  113: IX CAR *IX *MARY *BOX                                         IX CAR BLUE SUE BUY\n",
      "   50: *JOHN *FUTURE *GIVE1 CAR *JOHN                                FUTURE JOHN BUY CAR SHOULD\n",
      "  199: *JOHN *ARRIVE *GO                                             LIKE CHOCOLATE WHO\n",
      "  158: LOVE JOHN WHO                                                 LOVE JOHN WHO\n",
      "   54: JOHN SHOULD NOT BUY HOUSE                                     JOHN SHOULD NOT BUY HOUSE\n",
      "  105: JOHN *FRANK                                                   JOHN LEG\n",
      "  184: *IX BOY *GIVE1 TEACHER *YESTERDAY                             ALL BOY GIVE TEACHER APPLE\n",
      "   57: *MARY *VISIT VISIT MARY                                       JOHN DECIDE VISIT MARY\n",
      "  122: JOHN *BUY BOOK                                                JOHN READ BOOK\n",
      "  189: JOHN *SOMETHING-ONE *VISIT BOX                                JOHN GIVE GIRL BOX\n",
      "  181: JOHN ARRIVE                                                   JOHN ARRIVE\n"
     ]
    }
   ],
   "source": [
    "# TODO Choose a feature set and model selector\n",
    "# TODO Recognize the test set and display the result with the show_errors method\n",
    "\n",
    "features = features_ground # change as needed\n",
    "model_selector = SelectorDIC # change as needed\n",
    "\n",
    "# TODO Recognize the test set and display the result with the show_errors method\n",
    "models = train_all_words(features, model_selector)\n",
    "test_set = asl.build_test(features)\n",
    "probabilities, guesses = recognize(models, test_set)\n",
    "show_errors(guesses, test_set)"
=======
   "execution_count": null,
   "metadata": {
    "collapsed": false,
    "deletable": true,
    "editable": true
   },
   "outputs": [],
   "source": [
    "# TODO Choose a feature set and model selector\n",
    "# TODO Recognize the test set and display the result with the show_errors method"
>>>>>>> e8e4bd3aa2580fad74803250b1c6bbfd1c9db313
   ]
  },
  {
   "cell_type": "code",
<<<<<<< HEAD
   "execution_count": 44,
   "metadata": {
    "collapsed": false,
    "deletable": true,
    "editable": true
   },
   "outputs": [
    {
     "name": "stdout",
     "output_type": "stream",
     "text": [
      "\n",
      "**** WER = 0.6348314606741573\n",
      "Total correct: 65 out of 178\n",
      "Video  Recognized                                                    Correct\n",
      "=====================================================================================================\n",
      "  100: POSS NEW CAR BREAK-DOWN                                       POSS NEW CAR BREAK-DOWN\n",
      "    2: *WHO WRITE HOMEWORK                                           JOHN WRITE HOMEWORK\n",
      "   67: *LIKE *MOTHER NOT *ARRIVE HOUSE                               JOHN FUTURE NOT BUY HOUSE\n",
      "    7: JOHN *GO1 *HAVE *WHAT                                         JOHN CAN GO CAN\n",
      "  201: JOHN *MAN *GIVE *JOHN BUY HOUSE                               JOHN TELL MARY IX-1P BUY HOUSE\n",
      "   74: *MARY *BILL *MARY MARY                                        JOHN NOT VISIT MARY\n",
      "  119: *PREFER *BUY1 *HAVE CAR *SUE                                  SUE BUY IX CAR BLUE\n",
      "   12: JOHN CAN *CAN CAN                                             JOHN CAN GO CAN\n",
      "   77: *LOVE BLAME *LOVE                                             ANN BLAME MARY\n",
      "  142: JOHN *VIDEOTAPE YESTERDAY *TEACHER BOOK                       JOHN BUY YESTERDAY WHAT BOOK\n",
      "  107: *LIKE *IX FRIEND *VISIT *WHO                                  JOHN POSS FRIEND HAVE CANDY\n",
      "   84: *LOVE *ARRIVE *HOMEWORK *COAT                                 IX-1P FIND SOMETHING-ONE BOOK\n",
      "   21: *FRANK *HOMEWORK WONT *TELL *CAR *CAR EAT *TOMORROW           JOHN FISH WONT EAT BUT CAN EAT CHICKEN\n",
      "   25: JOHN *TELL *MARY *TELL *LOVE                                  JOHN LIKE IX IX IX\n",
      "   89: *GIVE *GIVE GIVE *GIVE IX *BUY COAT                           JOHN IX GIVE MAN IX NEW COAT\n",
      "   71: JOHN *FINISH *GIVE1 *GIVE1                                    JOHN WILL VISIT MARY\n",
      "   92: JOHN GIVE *GIVE *GIVE WOMAN BOOK                              JOHN GIVE IX SOMETHING-ONE WOMAN BOOK\n",
      "   90: *POSS *IX IX *IX WOMAN *CHOCOLATE                             JOHN GIVE IX SOMETHING-ONE WOMAN BOOK\n",
      "   30: *LIKE LIKE *MARY *MARY IX                                     JOHN LIKE IX IX IX\n",
      "  193: JOHN *IX *YESTERDAY BOX                                       JOHN GIVE GIRL BOX\n",
      "   36: *WHO VEGETABLE *IX *GIVE *BILL *MARY                          MARY VEGETABLE KNOW IX LIKE CORN1\n",
      "  139: *SHOULD *BUY1 *CAN *VISIT *CHOCOLATE                          JOHN BUY WHAT YESTERDAY BOOK\n",
      "  167: *MARY *SUE *BILL LOVE *LOVE                                   JOHN IX SAY LOVE MARY\n",
      "   40: *JANA *BILL *FUTURE1 *JANA *MARY                              JOHN IX THINK MARY LOVE\n",
      "   28: JOHN *TELL *MARY *TELL *LOVE                                  JOHN LIKE IX IX IX\n",
      "  171: *SUE *SUE BLAME                                               JOHN MARY BLAME\n",
      "   43: JOHN *SHOULD BUY HOUSE                                        JOHN MUST BUY HOUSE\n",
      "  108: *GIVE *LOVE                                                   WOMAN ARRIVE\n",
      "  174: *WHAT *GIVE3 GIVE1 *APPLE *WHAT                               PEOPLE GROUP GIVE1 JANA TOY\n",
      "  113: IX CAR *SUE SUE *ARRIVE                                       IX CAR BLUE SUE BUY\n",
      "   50: *FRANK *SEE BUY CAR *ARRIVE                                   FUTURE JOHN BUY CAR SHOULD\n",
      "  199: *LOVE CHOCOLATE *TELL                                         LIKE CHOCOLATE WHO\n",
      "  158: LOVE *MARY *VEGETABLE                                         LOVE JOHN WHO\n",
      "   54: JOHN *GIVE *FINISH BUY HOUSE                                  JOHN SHOULD NOT BUY HOUSE\n",
      "  105: JOHN *SEE                                                     JOHN LEG\n",
      "  184: *IX BOY *GIVE1 TEACHER APPLE                                  ALL BOY GIVE TEACHER APPLE\n",
      "   57: *MARY *MARY *MARY MARY                                        JOHN DECIDE VISIT MARY\n",
      "  122: JOHN *HOUSE *COAT                                             JOHN READ BOOK\n",
      "  189: *JANA GIVE *APPLE *CAN                                        JOHN GIVE GIRL BOX\n",
      "  181: *GO ARRIVE                                                    JOHN ARRIVE\n"
     ]
    }
   ],
   "source": [
    "# TODO Choose a feature set and model selector\n",
    "# TODO Recognize the test set and display the result with the show_errors method\n",
    "\n",
    "features = features_ground # change as needed\n",
    "model_selector = SelectorBIC # change as needed\n",
    "\n",
    "# TODO Recognize the test set and display the result with the show_errors method\n",
    "models = train_all_words(features, model_selector)\n",
    "test_set = asl.build_test(features)\n",
    "probabilities, guesses = recognize(models, test_set)\n",
    "show_errors(guesses, test_set)\n"
=======
   "execution_count": null,
   "metadata": {
    "collapsed": false,
    "deletable": true,
    "editable": true
   },
   "outputs": [],
   "source": [
    "# TODO Choose a feature set and model selector\n",
    "# TODO Recognize the test set and display the result with the show_errors method"
>>>>>>> e8e4bd3aa2580fad74803250b1c6bbfd1c9db313
   ]
  },
  {
   "cell_type": "markdown",
<<<<<<< HEAD
=======
<<<<<<< HEAD
=======
<<<<<<< HEAD
>>>>>>> e8e4bd3aa2580fad74803250b1c6bbfd1c9db313
>>>>>>> 323a24dbdb4e1d6bd819926a1baab17f95ae76b8
   "metadata": {
    "deletable": true,
    "editable": true
   },
<<<<<<< HEAD
=======
<<<<<<< HEAD
=======
=======
   "metadata": {},
>>>>>>> a787ccfe89997bb7396bf29ed95a3090da712e13
>>>>>>> e8e4bd3aa2580fad74803250b1c6bbfd1c9db313
>>>>>>> 323a24dbdb4e1d6bd819926a1baab17f95ae76b8
   "source": [
    "**Question 3:**  Summarize the error results from three combinations of features and model selectors.  What was the \"best\" combination and why?  What additional information might we use to improve our WER?  For more insight on improving WER, take a look at the introduction to Part 4.\n",
    "\n",
    "**Answer 3:**"
   ]
  },
  {
   "cell_type": "markdown",
<<<<<<< HEAD
=======
<<<<<<< HEAD
=======
<<<<<<< HEAD
>>>>>>> e8e4bd3aa2580fad74803250b1c6bbfd1c9db313
>>>>>>> 323a24dbdb4e1d6bd819926a1baab17f95ae76b8
   "metadata": {
    "deletable": true,
    "editable": true
   },
<<<<<<< HEAD
=======
<<<<<<< HEAD
=======
=======
   "metadata": {},
>>>>>>> a787ccfe89997bb7396bf29ed95a3090da712e13
>>>>>>> e8e4bd3aa2580fad74803250b1c6bbfd1c9db313
>>>>>>> 323a24dbdb4e1d6bd819926a1baab17f95ae76b8
   "source": [
    "<a id='part3_test'></a>\n",
    "### Recognizer Unit Tests\n",
    "Run the following unit tests as a sanity check on the defined recognizer.  The test simply looks for some valid values but is not exhaustive. However, the project should not be submitted if these tests don't pass."
   ]
  },
  {
   "cell_type": "code",
<<<<<<< HEAD
   "execution_count": 45,
   "metadata": {
    "collapsed": false,
    "deletable": true,
    "editable": true
   },
   "outputs": [
    {
     "name": "stderr",
     "output_type": "stream",
     "text": [
      "..\n",
      "----------------------------------------------------------------------\n",
      "Ran 2 tests in 29.627s\n",
      "\n",
      "OK\n"
     ]
    },
    {
     "data": {
      "text/plain": [
       "<unittest.runner.TextTestResult run=2 errors=0 failures=0>"
      ]
     },
     "execution_count": 45,
     "metadata": {},
     "output_type": "execute_result"
    }
   ],
=======
   "execution_count": null,
   "metadata": {
    "collapsed": false,
    "deletable": true,
    "editable": true
   },
   "outputs": [],
>>>>>>> e8e4bd3aa2580fad74803250b1c6bbfd1c9db313
   "source": [
    "from asl_test_recognizer import TestRecognize\n",
    "suite = unittest.TestLoader().loadTestsFromModule(TestRecognize())\n",
    "unittest.TextTestRunner().run(suite)"
   ]
  },
  {
   "cell_type": "markdown",
<<<<<<< HEAD
=======
<<<<<<< HEAD
=======
<<<<<<< HEAD
>>>>>>> e8e4bd3aa2580fad74803250b1c6bbfd1c9db313
>>>>>>> 323a24dbdb4e1d6bd819926a1baab17f95ae76b8
   "metadata": {
    "deletable": true,
    "editable": true
   },
<<<<<<< HEAD
=======
<<<<<<< HEAD
=======
=======
   "metadata": {},
>>>>>>> a787ccfe89997bb7396bf29ed95a3090da712e13
>>>>>>> e8e4bd3aa2580fad74803250b1c6bbfd1c9db313
>>>>>>> 323a24dbdb4e1d6bd819926a1baab17f95ae76b8
   "source": [
    "<a id='part4_info'></a>\n",
    "## PART 4: (OPTIONAL)  Improve the WER with Language Models\n",
    "We've squeezed just about as much as we can out of the model and still only get about 50% of the words right! Surely we can do better than that.  Probability to the rescue again in the form of [statistical language models (SLM)](https://en.wikipedia.org/wiki/Language_model).  The basic idea is that each word has some probability of occurrence within the set, and some probability that it is adjacent to specific other words. We can use that additional information to make better choices.\n",
    "\n",
    "##### Additional reading and resources\n",
    "- [Introduction to N-grams (Stanford Jurafsky slides)](https://web.stanford.edu/class/cs124/lec/languagemodeling.pdf)\n",
    "- [Speech Recognition Techniques for a Sign Language Recognition System, Philippe Dreuw et al](https://www-i6.informatik.rwth-aachen.de/publications/download/154/Dreuw--2007.pdf) see the improved results of applying LM on *this* data!\n",
    "- [SLM data for *this* ASL dataset](ftp://wasserstoff.informatik.rwth-aachen.de/pub/rwth-boston-104/lm/)\n",
    "\n",
    "##### Optional challenge\n",
    "The recognizer you implemented in Part 3 is equivalent to a \"0-gram\" SLM.  Improve the WER with the SLM data provided with the data set in the link above using \"1-gram\", \"2-gram\", and/or \"3-gram\" statistics. The `probabilities` data you've already calculated will be useful and can be turned into a pandas DataFrame if desired (see next cell).  \n",
    "Good luck!  Share your results with the class!"
   ]
  },
  {
   "cell_type": "code",
   "execution_count": null,
   "metadata": {
    "collapsed": true,
    "deletable": true,
    "editable": true
<<<<<<< HEAD
=======
=======
<<<<<<< HEAD
    "collapsed": true,
    "deletable": true,
    "editable": true
=======
    "collapsed": true
>>>>>>> a787ccfe89997bb7396bf29ed95a3090da712e13
>>>>>>> e8e4bd3aa2580fad74803250b1c6bbfd1c9db313
>>>>>>> 323a24dbdb4e1d6bd819926a1baab17f95ae76b8
   },
   "outputs": [],
   "source": [
    "# create a DataFrame of log likelihoods for the test word items\n",
    "# \n",
    "df_probs = pd.DataFrame(data=probabilities)\n",
    "df_probs.head()"
   ]
  }
 ],
 "metadata": {
  "anaconda-cloud": {},
  "kernelspec": {
   "display_name": "Python 3",
   "language": "python",
   "name": "python3"
<<<<<<< HEAD
=======
=======
<<<<<<< HEAD
   "display_name": "Python 3",
   "language": "python",
   "name": "python3"
=======
   "display_name": "Python [conda env:aind]",
   "language": "python",
   "name": "conda-env-aind-py"
>>>>>>> a787ccfe89997bb7396bf29ed95a3090da712e13
>>>>>>> e8e4bd3aa2580fad74803250b1c6bbfd1c9db313
>>>>>>> 323a24dbdb4e1d6bd819926a1baab17f95ae76b8
  },
  "language_info": {
   "codemirror_mode": {
    "name": "ipython",
    "version": 3
   },
   "file_extension": ".py",
   "mimetype": "text/x-python",
   "name": "python",
   "nbconvert_exporter": "python",
   "pygments_lexer": "ipython3",
   "version": "3.5.1"
<<<<<<< HEAD
=======
=======
<<<<<<< HEAD
   "version": "3.5.1"
=======
   "version": "3.5.2"
>>>>>>> a787ccfe89997bb7396bf29ed95a3090da712e13
>>>>>>> e8e4bd3aa2580fad74803250b1c6bbfd1c9db313
>>>>>>> 323a24dbdb4e1d6bd819926a1baab17f95ae76b8
  },
  "nbpresent": {
   "slides": {
    "0a2d4faf-9fb8-4cee-853b-ed68b90f3f8a": {
     "id": "0a2d4faf-9fb8-4cee-853b-ed68b90f3f8a",
     "prev": null,
     "regions": {
      "3fb9ce83-fbb2-4995-832a-f8f400734ad3": {
       "attrs": {
        "height": 0.8,
        "width": 0.8,
        "x": 0.1,
        "y": 0.1
       },
       "content": {
        "cell": "1dbb9346-179b-4835-b430-6369d88f1a1b",
        "part": "whole"
       },
       "id": "3fb9ce83-fbb2-4995-832a-f8f400734ad3"
      }
     }
    },
    "1519a4fa-1588-4644-98de-9c43bf0aceb5": {
     "id": "1519a4fa-1588-4644-98de-9c43bf0aceb5",
     "prev": "8a712017-49b7-449f-8264-43a032ace902",
     "regions": {
      "29546121-ed11-44b7-8144-0c44e874098f": {
       "attrs": {
        "height": 0.8,
        "width": 0.8,
        "x": 0.1,
        "y": 0.1
       },
       "content": {
        "cell": "365590a4-6963-4812-a1cf-688f7b6bb9ff",
        "part": "whole"
       },
       "id": "29546121-ed11-44b7-8144-0c44e874098f"
      }
     }
    },
    "176eaccb-15dd-455d-bf07-504213e7aa01": {
     "id": "176eaccb-15dd-455d-bf07-504213e7aa01",
     "prev": "de6b30f4-2463-4901-92ed-aabad78e5e0f",
     "regions": {
      "1542aa9e-dc55-4b90-adef-bf5181872b42": {
       "attrs": {
        "height": 0.8,
        "width": 0.8,
        "x": 0.1,
        "y": 0.1
       },
       "content": {
        "cell": "5c242050-c1f7-4b3b-8103-2ea9d71a40dc",
        "part": "whole"
       },
       "id": "1542aa9e-dc55-4b90-adef-bf5181872b42"
      }
     }
    },
    "19091b36-b0e7-49b1-b501-ec05937e0da9": {
     "id": "19091b36-b0e7-49b1-b501-ec05937e0da9",
     "prev": "1983c02e-fb99-4c05-a728-e0c0ad7c06d8",
     "regions": {
      "6529a31c-8d45-425c-b1d7-d0ac6fca6a32": {
       "attrs": {
        "height": 0.8,
        "width": 0.8,
        "x": 0.1,
        "y": 0.1
       },
       "content": {
        "cell": "e766909d-9421-4aaf-9fb1-bc90d27e49e3",
        "part": "whole"
       },
       "id": "6529a31c-8d45-425c-b1d7-d0ac6fca6a32"
      }
     }
    },
    "1983c02e-fb99-4c05-a728-e0c0ad7c06d8": {
     "id": "1983c02e-fb99-4c05-a728-e0c0ad7c06d8",
     "prev": "176eaccb-15dd-455d-bf07-504213e7aa01",
     "regions": {
      "1c4e605d-7f22-4f30-b3fb-74b2937e7a4a": {
       "attrs": {
        "height": 0.8,
        "width": 0.8,
        "x": 0.1,
        "y": 0.1
       },
       "content": {
        "cell": "4d217204-e5c0-4568-bd30-12c2e41b681d",
        "part": "whole"
       },
       "id": "1c4e605d-7f22-4f30-b3fb-74b2937e7a4a"
      }
     }
    },
    "212b111f-4527-459c-8297-1db5580ee5c9": {
     "id": "212b111f-4527-459c-8297-1db5580ee5c9",
     "prev": "76898529-e49e-4663-8d02-8261dfe1d94b",
     "regions": {
      "2e4bd280-3cd6-47d0-9c81-17737b24053b": {
       "attrs": {
        "height": 0.8,
        "width": 0.8,
        "x": 0.1,
        "y": 0.1
       },
       "content": {
        "cell": "0c316996-9933-4b3d-82ec-259518dc8bc9",
        "part": "whole"
       },
       "id": "2e4bd280-3cd6-47d0-9c81-17737b24053b"
      }
     }
    },
    "23a7337f-a0cf-4ed4-baa9-ec06bfdc0579": {
     "id": "23a7337f-a0cf-4ed4-baa9-ec06bfdc0579",
     "prev": "e76e9a02-54c1-4ec9-80fb-c611ed398122",
     "regions": {
      "b5721d20-d6f8-4ddb-a5aa-eb16f0cc8893": {
       "attrs": {
        "height": 0.8,
        "width": 0.8,
        "x": 0.1,
        "y": 0.1
       },
       "content": {
        "cell": "313015a2-b5a9-4136-a8ea-5d011e47d840",
        "part": "whole"
       },
       "id": "b5721d20-d6f8-4ddb-a5aa-eb16f0cc8893"
      }
     }
    },
    "732f1952-ee54-46fb-8067-099512824296": {
     "id": "732f1952-ee54-46fb-8067-099512824296",
     "prev": "0a2d4faf-9fb8-4cee-853b-ed68b90f3f8a",
     "regions": {
      "f31d4597-08ad-4c46-ad52-4bd2d775c624": {
       "attrs": {
        "height": 0.8,
        "width": 0.8,
        "x": 0.1,
        "y": 0.1
       },
       "content": {
        "cell": "aadfec52-27ca-4541-8920-fa9253d51827",
        "part": "whole"
       },
       "id": "f31d4597-08ad-4c46-ad52-4bd2d775c624"
      }
     }
    },
    "76898529-e49e-4663-8d02-8261dfe1d94b": {
     "id": "76898529-e49e-4663-8d02-8261dfe1d94b",
     "prev": "19091b36-b0e7-49b1-b501-ec05937e0da9",
     "regions": {
      "ec1746fc-aec9-4a7c-8225-9e9ac8d45889": {
       "attrs": {
        "height": 0.8,
        "width": 0.8,
        "x": 0.1,
        "y": 0.1
       },
       "content": {
        "cell": "b3e539be-84e2-49ce-a183-31cfc5c7ce7c",
        "part": "whole"
       },
       "id": "ec1746fc-aec9-4a7c-8225-9e9ac8d45889"
      }
     }
    },
    "8a712017-49b7-449f-8264-43a032ace902": {
     "id": "8a712017-49b7-449f-8264-43a032ace902",
     "prev": "bed9e696-630e-4747-be1c-bc3737ba992f",
     "regions": {
      "1faab517-cd16-4c63-bb01-a67246749d7a": {
       "attrs": {
        "height": 0.8,
        "width": 0.8,
        "x": 0.1,
        "y": 0.1
       },
       "content": {
        "cell": "3f14ddf0-4145-4687-9c33-712c3c32520f",
        "part": "whole"
       },
       "id": "1faab517-cd16-4c63-bb01-a67246749d7a"
      }
     }
    },
    "90af992d-eb6d-4496-b2d2-6aa9a95b6a61": {
     "id": "90af992d-eb6d-4496-b2d2-6aa9a95b6a61",
     "prev": "732f1952-ee54-46fb-8067-099512824296",
     "regions": {
      "4f448bec-5be9-4553-88ae-e35ed7612f25": {
       "attrs": {
        "height": 0.8,
        "width": 0.8,
        "x": 0.1,
        "y": 0.1
       },
       "content": {
        "cell": "c445fbfb-b8ab-4e9a-8d13-12231a1c588f",
        "part": "whole"
       },
       "id": "4f448bec-5be9-4553-88ae-e35ed7612f25"
      }
     }
    },
    "bed9e696-630e-4747-be1c-bc3737ba992f": {
     "id": "bed9e696-630e-4747-be1c-bc3737ba992f",
     "prev": "23a7337f-a0cf-4ed4-baa9-ec06bfdc0579",
     "regions": {
      "ac1513f0-404f-492b-8b42-0313e9a753b0": {
       "attrs": {
        "height": 0.8,
        "width": 0.8,
        "x": 0.1,
        "y": 0.1
       },
       "content": {
        "cell": "18dd2eee-8b6c-4a5e-9539-132d00a7c7e1",
        "part": "whole"
       },
       "id": "ac1513f0-404f-492b-8b42-0313e9a753b0"
      }
     }
    },
    "de6b30f4-2463-4901-92ed-aabad78e5e0f": {
     "id": "de6b30f4-2463-4901-92ed-aabad78e5e0f",
     "prev": "e36b4639-be8c-46f7-a8c9-bcfb134f9fd0",
     "regions": {
      "55ec36e0-362f-4fd3-8060-7cee056039aa": {
       "attrs": {
        "height": 0.8,
        "width": 0.8,
        "x": 0.1,
        "y": 0.1
       },
       "content": {
        "cell": "c3cf461e-4c9e-4dec-99d2-07bfa79cbe23",
        "part": "whole"
       },
       "id": "55ec36e0-362f-4fd3-8060-7cee056039aa"
      }
     }
    },
    "e36b4639-be8c-46f7-a8c9-bcfb134f9fd0": {
     "id": "e36b4639-be8c-46f7-a8c9-bcfb134f9fd0",
     "prev": "1519a4fa-1588-4644-98de-9c43bf0aceb5",
     "regions": {
      "4c1e9714-9ba0-45fd-8a2f-ef80a5c85c2e": {
       "attrs": {
        "height": 0.8,
        "width": 0.8,
        "x": 0.1,
        "y": 0.1
       },
       "content": {
        "cell": "6534d4dc-125f-47e6-a022-cf1e0d277174",
        "part": "whole"
       },
       "id": "4c1e9714-9ba0-45fd-8a2f-ef80a5c85c2e"
      }
     }
    },
    "e76e9a02-54c1-4ec9-80fb-c611ed398122": {
     "id": "e76e9a02-54c1-4ec9-80fb-c611ed398122",
     "prev": "90af992d-eb6d-4496-b2d2-6aa9a95b6a61",
     "regions": {
      "9491b84d-193b-40ff-9321-d21eb1ba88d4": {
       "attrs": {
        "height": 0.8,
        "width": 0.8,
        "x": 0.1,
        "y": 0.1
       },
       "content": {
        "cell": "b64ec10e-fa9d-4f3f-907f-6799611ed6b1",
        "part": "whole"
       },
       "id": "9491b84d-193b-40ff-9321-d21eb1ba88d4"
      }
     }
    }
   },
   "themes": {}
  }
 },
 "nbformat": 4,
 "nbformat_minor": 0
}
